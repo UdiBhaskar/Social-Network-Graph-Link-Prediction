{
 "cells": [
  {
   "cell_type": "markdown",
   "metadata": {},
   "source": [
    "<p style=\"font-size:32px;text-align:center\"> <b>Social network Graph Link Prediction - Facebook Challenge</b> </p>"
   ]
  },
  {
   "cell_type": "markdown",
   "metadata": {},
   "source": [
    "### Problem statement: \n",
    "Given a directed social graph, have to predict missing links to recommend users (Link Prediction in graph)"
   ]
  },
  {
   "cell_type": "markdown",
   "metadata": {},
   "source": [
    "### Data Overview\n",
    "Taken data from facebook's recruting challenge on kaggle https://www.kaggle.com/c/FacebookRecruiting  \n",
    "data contains two columns source and destination eac edge in graph \n",
    "    - Data columns (total 2 columns):  \n",
    "    - source_node         int64  \n",
    "    - destination_node    int64  "
   ]
  },
  {
   "cell_type": "markdown",
   "metadata": {},
   "source": [
    "### Mapping the problem into supervised learning problem:\n",
    "- Generated training samples of good and bad links from given directed graph and for each link got some features like no of followers, is he followed back, page rank, katz score, adar index, some svd fetures of adj matrix, some weight features etc. and trained ml model based on these features to predict link. \n",
    "- Some reference papers and videos :  \n",
    "    - https://www.cs.cornell.edu/home/kleinber/link-pred.pdf\n",
    "    - https://www3.nd.edu/~dial/publications/lichtenwalter2010new.pdf\n",
    "    - https://kaggle2.blob.core.windows.net/forum-message-attachments/2594/supervised_link_prediction.pdf\n",
    "    - https://www.youtube.com/watch?v=2M77Hgy17cg"
   ]
  },
  {
   "cell_type": "markdown",
   "metadata": {},
   "source": [
    "### Business objectives and constraints:  \n",
    "- No low-latency requirement.\n",
    "- Probability of prediction is useful to recommend ighest probability links"
   ]
  },
  {
   "cell_type": "markdown",
   "metadata": {},
   "source": [
    "### Performance metric for supervised learning:  \n",
    "- Both precision and recall is important so F1 score is good choice\n",
    "- Confusion matrix"
   ]
  },
  {
   "cell_type": "code",
   "execution_count": 1,
   "metadata": {},
   "outputs": [],
   "source": [
    "#Importing Libraries\n",
    "# please do go through this python notebook: \n",
    "import csv\n",
    "import pandas as pd#pandas to create small dataframes \n",
    "import datetime #Convert to unix time\n",
    "import time #Convert to unix time\n",
    "# if numpy is not installed already : pip3 install numpy\n",
    "import numpy as np#Do aritmetic operations on arrays\n",
    "# matplotlib: used to plot graphs\n",
    "import matplotlib\n",
    "import matplotlib.pylab as plt\n",
    "import seaborn as sns#Plots\n",
    "from matplotlib import rcParams#Size of plots  \n",
    "from sklearn.cluster import MiniBatchKMeans, KMeans#Clustering\n",
    "import math\n",
    "import pickle\n",
    "import os\n",
    "# to install xgboost: pip3 install xgboost\n",
    "import xgboost as xgb\n",
    "\n",
    "import warnings\n",
    "import networkx as nx\n",
    "import pdb\n",
    "import warnings\n",
    "warnings.filterwarnings(\"ignore\")"
   ]
  },
  {
   "cell_type": "code",
   "execution_count": 2,
   "metadata": {},
   "outputs": [],
   "source": [
    "#reading df\n",
    "traincsv = pd.read_csv('train.csv')"
   ]
  },
  {
   "cell_type": "code",
   "execution_count": 3,
   "metadata": {},
   "outputs": [
    {
     "data": {
      "text/html": [
       "<div>\n",
       "<style scoped>\n",
       "    .dataframe tbody tr th:only-of-type {\n",
       "        vertical-align: middle;\n",
       "    }\n",
       "\n",
       "    .dataframe tbody tr th {\n",
       "        vertical-align: top;\n",
       "    }\n",
       "\n",
       "    .dataframe thead th {\n",
       "        text-align: right;\n",
       "    }\n",
       "</style>\n",
       "<table border=\"1\" class=\"dataframe\">\n",
       "  <thead>\n",
       "    <tr style=\"text-align: right;\">\n",
       "      <th></th>\n",
       "      <th>source_node</th>\n",
       "      <th>destination_node</th>\n",
       "    </tr>\n",
       "  </thead>\n",
       "  <tbody>\n",
       "  </tbody>\n",
       "</table>\n",
       "</div>"
      ],
      "text/plain": [
       "Empty DataFrame\n",
       "Columns: [source_node, destination_node]\n",
       "Index: []"
      ]
     },
     "execution_count": 3,
     "metadata": {},
     "output_type": "execute_result"
    }
   ],
   "source": [
    "#chacking if any null values in given graph \n",
    "traincsv[traincsv.isna().any(1)]"
   ]
  },
  {
   "cell_type": "code",
   "execution_count": 4,
   "metadata": {},
   "outputs": [
    {
     "name": "stdout",
     "output_type": "stream",
     "text": [
      "<class 'pandas.core.frame.DataFrame'>\n",
      "RangeIndex: 9437519 entries, 0 to 9437518\n",
      "Data columns (total 2 columns):\n",
      "source_node         int64\n",
      "destination_node    int64\n",
      "dtypes: int64(2)\n",
      "memory usage: 144.0 MB\n"
     ]
    }
   ],
   "source": [
    "#info of given data set\n",
    "traincsv.info()"
   ]
  },
  {
   "cell_type": "code",
   "execution_count": 5,
   "metadata": {},
   "outputs": [
    {
     "data": {
      "text/plain": [
       "0"
      ]
     },
     "execution_count": 5,
     "metadata": {},
     "output_type": "execute_result"
    }
   ],
   "source": [
    "#no of duplicates\n",
    "sum(traincsv.duplicated())"
   ]
  },
  {
   "cell_type": "code",
   "execution_count": 6,
   "metadata": {},
   "outputs": [],
   "source": [
    "#removing header and saving\n",
    "traincsv.to_csv('train_woheader.csv',header=False,index=False)"
   ]
  },
  {
   "cell_type": "code",
   "execution_count": 2,
   "metadata": {},
   "outputs": [
    {
     "name": "stdout",
     "output_type": "stream",
     "text": [
      "Name: \n",
      "Type: DiGraph\n",
      "Number of nodes: 1862220\n",
      "Number of edges: 9437519\n",
      "Average in degree:   5.0679\n",
      "Average out degree:   5.0679\n"
     ]
    }
   ],
   "source": [
    "#Getting basic info from our data\n",
    "g=nx.read_edgelist('train_woheader.csv',delimiter=',',create_using=nx.DiGraph(),nodetype=int)\n",
    "print(nx.info(g))"
   ]
  },
  {
   "cell_type": "markdown",
   "metadata": {},
   "source": [
    "## EDA"
   ]
  },
  {
   "cell_type": "code",
   "execution_count": 8,
   "metadata": {},
   "outputs": [
    {
     "data": {
      "text/plain": [
       "1862220"
      ]
     },
     "execution_count": 8,
     "metadata": {},
     "output_type": "execute_result"
    }
   ],
   "source": [
    "# No of Unique persons \n",
    "len(g.nodes())"
   ]
  },
  {
   "cell_type": "markdown",
   "metadata": {},
   "source": [
    "##### No of followers for each person"
   ]
  },
  {
   "cell_type": "code",
   "execution_count": 9,
   "metadata": {},
   "outputs": [
    {
     "data": {
      "image/png": "[encoded data removed]",
      "text/plain": [
       "<matplotlib.figure.Figure at 0x145c07de7c88>"
      ]
     },
     "metadata": {},
     "output_type": "display_data"
    }
   ],
   "source": [
    "indegree_dist = list(dict(g.in_degree()).values())\n",
    "indegree_dist.sort()\n",
    "plt.figure(figsize=(10,6))\n",
    "plt.plot(indegree_dist)\n",
    "plt.xlabel('Index No')\n",
    "plt.ylabel('No Of Followers')\n",
    "plt.show()"
   ]
  },
  {
   "cell_type": "code",
   "execution_count": 10,
   "metadata": {},
   "outputs": [
    {
     "data": {
      "image/png": "[encoded data removed]",
      "text/plain": [
       "<matplotlib.figure.Figure at 0x145bff4ca908>"
      ]
     },
     "metadata": {},
     "output_type": "display_data"
    }
   ],
   "source": [
    "indegree_dist = list(dict(g.in_degree()).values())\n",
    "indegree_dist.sort()\n",
    "plt.figure(figsize=(10,6))\n",
    "plt.plot(indegree_dist[0:1500000])\n",
    "plt.xlabel('Index No')\n",
    "plt.ylabel('No Of Followers')\n",
    "plt.show()"
   ]
  },
  {
   "cell_type": "code",
   "execution_count": 11,
   "metadata": {},
   "outputs": [
    {
     "data": {
      "image/png": "[encoded data removed]",
      "text/plain": [
       "<matplotlib.figure.Figure at 0x145bff1fec88>"
      ]
     },
     "metadata": {},
     "output_type": "display_data"
    }
   ],
   "source": [
    "plt.boxplot(indegree_dist)\n",
    "plt.ylabel('No Of Followers')\n",
    "plt.show()"
   ]
  },
  {
   "cell_type": "code",
   "execution_count": 12,
   "metadata": {},
   "outputs": [
    {
     "name": "stdout",
     "output_type": "stream",
     "text": [
      "90 percentile value is 12.0\n",
      "91 percentile value is 13.0\n",
      "92 percentile value is 14.0\n",
      "93 percentile value is 15.0\n",
      "94 percentile value is 17.0\n",
      "95 percentile value is 19.0\n",
      "96 percentile value is 21.0\n",
      "97 percentile value is 24.0\n",
      "98 percentile value is 29.0\n",
      "99 percentile value is 40.0\n",
      "100 percentile value is 552.0\n"
     ]
    }
   ],
   "source": [
    "### 90-100 percentile\n",
    "for i in range(0,11):\n",
    "    print(90+i,'percentile value is',np.percentile(indegree_dist,90+i))"
   ]
  },
  {
   "cell_type": "markdown",
   "metadata": {},
   "source": [
    "99% of data having followers of 40 only."
   ]
  },
  {
   "cell_type": "code",
   "execution_count": 13,
   "metadata": {},
   "outputs": [
    {
     "name": "stdout",
     "output_type": "stream",
     "text": [
      "99.1 percentile value is 42.0\n",
      "99.2 percentile value is 44.0\n",
      "99.3 percentile value is 47.0\n",
      "99.4 percentile value is 50.0\n",
      "99.5 percentile value is 55.0\n",
      "99.6 percentile value is 61.0\n",
      "99.7 percentile value is 70.0\n",
      "99.8 percentile value is 84.0\n",
      "99.9 percentile value is 112.0\n",
      "100.0 percentile value is 552.0\n"
     ]
    }
   ],
   "source": [
    "### 99-100 percentile\n",
    "for i in range(10,110,10):\n",
    "    print(99+(i/100),'percentile value is',np.percentile(indegree_dist,99+(i/100)))"
   ]
  },
  {
   "cell_type": "code",
   "execution_count": 14,
   "metadata": {},
   "outputs": [
    {
     "data": {
      "image/png": "[encoded data removed]",
      "text/plain": [
       "<matplotlib.figure.Figure at 0x145bde79f160>"
      ]
     },
     "metadata": {},
     "output_type": "display_data"
    }
   ],
   "source": [
    "%matplotlib inline\n",
    "sns.set_style('ticks')\n",
    "fig, ax = plt.subplots()\n",
    "fig.set_size_inches(11.7, 8.27)\n",
    "sns.distplot(indegree_dist, color='#16A085')\n",
    "plt.xlabel('PDF of Indegree')\n",
    "sns.despine()\n",
    "#plt.show()"
   ]
  },
  {
   "cell_type": "markdown",
   "metadata": {},
   "source": [
    "##### No of people each person is following"
   ]
  },
  {
   "cell_type": "code",
   "execution_count": 15,
   "metadata": {},
   "outputs": [
    {
     "data": {
      "image/png": "[encoded data removed]",
      "text/plain": [
       "<matplotlib.figure.Figure at 0x145c143dfa58>"
      ]
     },
     "metadata": {},
     "output_type": "display_data"
    }
   ],
   "source": [
    "outdegree_dist = list(dict(g.out_degree()).values())\n",
    "outdegree_dist.sort()\n",
    "plt.figure(figsize=(10,6))\n",
    "plt.plot(outdegree_dist)\n",
    "plt.xlabel('Index No')\n",
    "plt.ylabel('No Of people each person is following')\n",
    "plt.show()"
   ]
  },
  {
   "cell_type": "code",
   "execution_count": 16,
   "metadata": {},
   "outputs": [
    {
     "data": {
      "image/png": "[encoded data removed]",
      "text/plain": [
       "<matplotlib.figure.Figure at 0x145a639605c0>"
      ]
     },
     "metadata": {},
     "output_type": "display_data"
    }
   ],
   "source": [
    "indegree_dist = list(dict(g.in_degree()).values())\n",
    "indegree_dist.sort()\n",
    "plt.figure(figsize=(10,6))\n",
    "plt.plot(outdegree_dist[0:1500000])\n",
    "plt.xlabel('Index No')\n",
    "plt.ylabel('No Of people each person is following')\n",
    "plt.show()"
   ]
  },
  {
   "cell_type": "code",
   "execution_count": 17,
   "metadata": {},
   "outputs": [
    {
     "data": {
      "image/png": "[encoded data removed]",
      "text/plain": [
       "<matplotlib.figure.Figure at 0x145a62b06668>"
      ]
     },
     "metadata": {},
     "output_type": "display_data"
    }
   ],
   "source": [
    "plt.boxplot(indegree_dist)\n",
    "plt.ylabel('No Of people each person is following')\n",
    "plt.show()"
   ]
  },
  {
   "cell_type": "code",
   "execution_count": 18,
   "metadata": {},
   "outputs": [
    {
     "name": "stdout",
     "output_type": "stream",
     "text": [
      "90 percentile value is 12.0\n",
      "91 percentile value is 13.0\n",
      "92 percentile value is 14.0\n",
      "93 percentile value is 15.0\n",
      "94 percentile value is 17.0\n",
      "95 percentile value is 19.0\n",
      "96 percentile value is 21.0\n",
      "97 percentile value is 24.0\n",
      "98 percentile value is 29.0\n",
      "99 percentile value is 40.0\n",
      "100 percentile value is 1566.0\n"
     ]
    }
   ],
   "source": [
    "### 90-100 percentile\n",
    "for i in range(0,11):\n",
    "    print(90+i,'percentile value is',np.percentile(outdegree_dist,90+i))"
   ]
  },
  {
   "cell_type": "code",
   "execution_count": 19,
   "metadata": {},
   "outputs": [
    {
     "name": "stdout",
     "output_type": "stream",
     "text": [
      "99.1 percentile value is 42.0\n",
      "99.2 percentile value is 45.0\n",
      "99.3 percentile value is 48.0\n",
      "99.4 percentile value is 52.0\n",
      "99.5 percentile value is 56.0\n",
      "99.6 percentile value is 63.0\n",
      "99.7 percentile value is 73.0\n",
      "99.8 percentile value is 90.0\n",
      "99.9 percentile value is 123.0\n",
      "100.0 percentile value is 1566.0\n"
     ]
    }
   ],
   "source": [
    "### 99-100 percentile\n",
    "for i in range(10,110,10):\n",
    "    print(99+(i/100),'percentile value is',np.percentile(outdegree_dist,99+(i/100)))"
   ]
  },
  {
   "cell_type": "code",
   "execution_count": 20,
   "metadata": {},
   "outputs": [
    {
     "data": {
      "image/png": "[encoded data removed]",
      "text/plain": [
       "<matplotlib.figure.Figure at 0x145a628a0400>"
      ]
     },
     "metadata": {},
     "output_type": "display_data"
    }
   ],
   "source": [
    "sns.set_style('ticks')\n",
    "fig, ax = plt.subplots()\n",
    "fig.set_size_inches(11.7, 8.27)\n",
    "sns.distplot(outdegree_dist, color='#16A085')\n",
    "plt.xlabel('PDF of Outdegree')\n",
    "sns.despine()"
   ]
  },
  {
   "cell_type": "code",
   "execution_count": 21,
   "metadata": {},
   "outputs": [
    {
     "name": "stdout",
     "output_type": "stream",
     "text": [
      "No of persons those are not following anyone are 274512 and % is 14.741115442858524\n"
     ]
    }
   ],
   "source": [
    "print('No of persons those are not following anyone are' ,sum(np.array(outdegree_dist)==0),'and % is',\n",
    "                                sum(np.array(outdegree_dist)==0)*100/len(outdegree_dist) )"
   ]
  },
  {
   "cell_type": "code",
   "execution_count": 22,
   "metadata": {},
   "outputs": [
    {
     "name": "stdout",
     "output_type": "stream",
     "text": [
      "No of persons having zero followers are 188043 and % is 10.097786512871734\n"
     ]
    }
   ],
   "source": [
    "print('No of persons having zero followers are' ,sum(np.array(indegree_dist)==0),'and % is',\n",
    "                                sum(np.array(indegree_dist)==0)*100/len(indegree_dist) )"
   ]
  },
  {
   "cell_type": "code",
   "execution_count": 23,
   "metadata": {},
   "outputs": [
    {
     "name": "stdout",
     "output_type": "stream",
     "text": [
      "No of persons those are not not following anyone and also not having any followers are 0\n"
     ]
    }
   ],
   "source": [
    "count=0\n",
    "for i in g.nodes():\n",
    "    if len(list(g.predecessors(i)))==0 :\n",
    "        if len(list(g.successors(i)))==0:\n",
    "            count+=1\n",
    "print('No of persons those are not not following anyone and also not having any followers are',count)"
   ]
  },
  {
   "cell_type": "markdown",
   "metadata": {},
   "source": [
    "##### both followers + following "
   ]
  },
  {
   "cell_type": "code",
   "execution_count": 24,
   "metadata": {},
   "outputs": [],
   "source": [
    "from collections import Counter\n",
    "dict_in = dict(g.in_degree())\n",
    "dict_out = dict(g.out_degree())\n",
    "d = Counter(dict_in) + Counter(dict_out)\n",
    "in_out_degree = np.array(list(d.values()))"
   ]
  },
  {
   "cell_type": "code",
   "execution_count": 25,
   "metadata": {},
   "outputs": [
    {
     "data": {
      "image/png": "[encoded data removed]",
      "text/plain": [
       "<matplotlib.figure.Figure at 0x145a628ab390>"
      ]
     },
     "metadata": {},
     "output_type": "display_data"
    }
   ],
   "source": [
    "in_out_degree_sort = sorted(in_out_degree)\n",
    "plt.figure(figsize=(10,6))\n",
    "plt.plot(in_out_degree_sort)\n",
    "plt.xlabel('Index No')\n",
    "plt.ylabel('No Of people each person is following + followers')\n",
    "plt.show()"
   ]
  },
  {
   "cell_type": "code",
   "execution_count": 26,
   "metadata": {},
   "outputs": [
    {
     "data": {
      "image/png": "[encoded data removed]",
      "text/plain": [
       "<matplotlib.figure.Figure at 0x145a5e01aac8>"
      ]
     },
     "metadata": {},
     "output_type": "display_data"
    }
   ],
   "source": [
    "in_out_degree_sort = sorted(in_out_degree)\n",
    "plt.figure(figsize=(10,6))\n",
    "plt.plot(in_out_degree_sort[0:1500000])\n",
    "plt.xlabel('Index No')\n",
    "plt.ylabel('No Of people each person is following + followers')\n",
    "plt.show()"
   ]
  },
  {
   "cell_type": "code",
   "execution_count": 27,
   "metadata": {},
   "outputs": [
    {
     "name": "stdout",
     "output_type": "stream",
     "text": [
      "90 percentile value is 24.0\n",
      "91 percentile value is 26.0\n",
      "92 percentile value is 28.0\n",
      "93 percentile value is 31.0\n",
      "94 percentile value is 33.0\n",
      "95 percentile value is 37.0\n",
      "96 percentile value is 41.0\n",
      "97 percentile value is 48.0\n",
      "98 percentile value is 58.0\n",
      "99 percentile value is 79.0\n",
      "100 percentile value is 1579.0\n"
     ]
    }
   ],
   "source": [
    "### 90-100 percentile\n",
    "for i in range(0,11):\n",
    "    print(90+i,'percentile value is',np.percentile(in_out_degree_sort,90+i))"
   ]
  },
  {
   "cell_type": "code",
   "execution_count": 28,
   "metadata": {},
   "outputs": [
    {
     "name": "stdout",
     "output_type": "stream",
     "text": [
      "99.1 percentile value is 83.0\n",
      "99.2 percentile value is 87.0\n",
      "99.3 percentile value is 93.0\n",
      "99.4 percentile value is 99.0\n",
      "99.5 percentile value is 108.0\n",
      "99.6 percentile value is 120.0\n",
      "99.7 percentile value is 138.0\n",
      "99.8 percentile value is 168.0\n",
      "99.9 percentile value is 221.0\n",
      "100.0 percentile value is 1579.0\n"
     ]
    }
   ],
   "source": [
    "### 99-100 percentile\n",
    "for i in range(10,110,10):\n",
    "    print(99+(i/100),'percentile value is',np.percentile(in_out_degree_sort,99+(i/100)))"
   ]
  },
  {
   "cell_type": "code",
   "execution_count": 29,
   "metadata": {},
   "outputs": [
    {
     "name": "stdout",
     "output_type": "stream",
     "text": [
      "Min of no of followers + following is 1\n",
      "334291  persons having minimum no of followers + following\n"
     ]
    }
   ],
   "source": [
    "print('Min of no of followers + following is',in_out_degree.min())\n",
    "print(np.sum(in_out_degree==in_out_degree.min()),' persons having minimum no of followers + following')"
   ]
  },
  {
   "cell_type": "code",
   "execution_count": 30,
   "metadata": {},
   "outputs": [
    {
     "name": "stdout",
     "output_type": "stream",
     "text": [
      "Max of no of followers + following is 1579\n",
      "1  persons having maximum no of followers + following\n"
     ]
    }
   ],
   "source": [
    "print('Max of no of followers + following is',in_out_degree.max())\n",
    "print(np.sum(in_out_degree==in_out_degree.max()),' persons having maximum no of followers + following')"
   ]
  },
  {
   "cell_type": "code",
   "execution_count": 31,
   "metadata": {},
   "outputs": [
    {
     "name": "stdout",
     "output_type": "stream",
     "text": [
      "No of persons having followers + following less than 10 are 1320326\n"
     ]
    }
   ],
   "source": [
    "print('No of persons having followers + following less than 10 are',np.sum(in_out_degree<10))"
   ]
  },
  {
   "cell_type": "code",
   "execution_count": 32,
   "metadata": {},
   "outputs": [
    {
     "name": "stdout",
     "output_type": "stream",
     "text": [
      "No of weakly connected components 45558\n",
      "weakly connected components wit 2 nodes 32195\n"
     ]
    }
   ],
   "source": [
    "print('No of weakly connected components',len(list(nx.weakly_connected_components(g))))\n",
    "count=0\n",
    "for i in list(nx.weakly_connected_components(g)):\n",
    "    if len(i)==2:\n",
    "        count+=1\n",
    "print('weakly connected components wit 2 nodes',count)"
   ]
  },
  {
   "cell_type": "markdown",
   "metadata": {},
   "source": [
    "#### Generating some edges which are not present in graph for supervised learning  \n",
    "Generated Bad links from graph which are not in graph and whose shortest path is greater than 2. "
   ]
  },
  {
   "cell_type": "code",
   "execution_count": 4,
   "metadata": {},
   "outputs": [],
   "source": [
    "#getting all set of edges\n",
    "r = csv.reader(open('train_woheader.csv','r'))\n",
    "edges = dict()\n",
    "for edge in r:\n",
    "    edges[(edge[0], edge[1])] = 1"
   ]
  },
  {
   "cell_type": "code",
   "execution_count": 6,
   "metadata": {},
   "outputs": [
    {
     "name": "stdout",
     "output_type": "stream",
     "text": [
      "CPU times: user 2h 28min 24s, sys: 34.8 s, total: 2h 28min 59s\n",
      "Wall time: 2h 28min 59s\n"
     ]
    }
   ],
   "source": [
    "%%time\n",
    "###generating bad edges from given graph\n",
    "import random\n",
    "missing_edges = set([])\n",
    "while (len(missing_edges)<9437519):\n",
    "    a=random.randint(1, 1862220)\n",
    "    b=random.randint(1, 1862220)\n",
    "    tmp = edges.get((a,b),-1)\n",
    "    if tmp == -1 and a!=b:\n",
    "        try:\n",
    "            if nx.shortest_path_length(g,source=a,target=b) > 2: \n",
    "                \n",
    "                missing_edges.add((a,b))\n",
    "            else:\n",
    "                continue  \n",
    "        except:  \n",
    "                missing_edges.add((a,b))              \n",
    "    else:\n",
    "        continue"
   ]
  },
  {
   "cell_type": "code",
   "execution_count": 7,
   "metadata": {},
   "outputs": [
    {
     "data": {
      "text/plain": [
       "9437519"
      ]
     },
     "execution_count": 7,
     "metadata": {},
     "output_type": "execute_result"
    }
   ],
   "source": [
    "len(missing_edges)"
   ]
  },
  {
   "cell_type": "code",
   "execution_count": 8,
   "metadata": {},
   "outputs": [],
   "source": [
    "import pickle\n",
    "pickle.dump(missing_edges,open('missing_edges_final.p','wb'))"
   ]
  },
  {
   "cell_type": "code",
   "execution_count": 45,
   "metadata": {},
   "outputs": [],
   "source": [
    "import pickle\n",
    "missing_edges = pickle.load(open('missing_edges_final.p','rb'))"
   ]
  },
  {
   "cell_type": "markdown",
   "metadata": {},
   "source": [
    "#### Training and Test data split:  \n",
    "Removed edges from Graph and used as test data and after removing used that graph for creating features for Train and test data"
   ]
  },
  {
   "cell_type": "code",
   "execution_count": 46,
   "metadata": {},
   "outputs": [],
   "source": [
    "#reading total data df\n",
    "df_pos = pd.read_csv('train.csv')\n",
    "df_neg = pd.DataFrame(list(missing_edges), columns=['source_node', 'destination_node'])"
   ]
  },
  {
   "cell_type": "code",
   "execution_count": 47,
   "metadata": {},
   "outputs": [
    {
     "name": "stdout",
     "output_type": "stream",
     "text": [
      "<class 'pandas.core.frame.DataFrame'>\n",
      "RangeIndex: 9437519 entries, 0 to 9437518\n",
      "Data columns (total 2 columns):\n",
      "source_node         int64\n",
      "destination_node    int64\n",
      "dtypes: int64(2)\n",
      "memory usage: 144.0 MB\n"
     ]
    }
   ],
   "source": [
    "#positive links i.e graph\n",
    "df_pos.info()"
   ]
  },
  {
   "cell_type": "code",
   "execution_count": 48,
   "metadata": {},
   "outputs": [
    {
     "name": "stdout",
     "output_type": "stream",
     "text": [
      "<class 'pandas.core.frame.DataFrame'>\n",
      "RangeIndex: 9437519 entries, 0 to 9437518\n",
      "Data columns (total 2 columns):\n",
      "source_node         int64\n",
      "destination_node    int64\n",
      "dtypes: int64(2)\n",
      "memory usage: 144.0 MB\n"
     ]
    }
   ],
   "source": [
    "#negative links synthesized links\n",
    "df_neg.info()"
   ]
  },
  {
   "cell_type": "code",
   "execution_count": 49,
   "metadata": {},
   "outputs": [],
   "source": [
    "#Trian test split \n",
    "#Spiltted data into 80-20 \n",
    "#positive links and negative links seperatly because we need positive training data only for creating graph \n",
    "#and for feature generation\n",
    "from sklearn.model_selection import train_test_split\n",
    "X_train_pos, X_test_pos, y_train_pos, y_test_pos  = train_test_split(df_pos,np.ones(len(df_pos)),test_size=0.2, random_state=9)\n",
    "X_train_neg, X_test_neg, y_train_neg, y_test_neg  = train_test_split(df_neg,np.zeros(len(df_neg)),test_size=0.2, random_state=9)"
   ]
  },
  {
   "cell_type": "code",
   "execution_count": 50,
   "metadata": {},
   "outputs": [],
   "source": [
    "df_train_pos = pd.DataFrame(X_train_pos)\n",
    "#removing header and saving\n",
    "df_train_pos.to_csv('train_data.csv',header=False,index=False)"
   ]
  },
  {
   "cell_type": "code",
   "execution_count": 51,
   "metadata": {},
   "outputs": [
    {
     "name": "stdout",
     "output_type": "stream",
     "text": [
      "Name: \n",
      "Type: DiGraph\n",
      "Number of nodes: 1780722\n",
      "Number of edges: 7550015\n",
      "Average in degree:   4.2399\n",
      "Average out degree:   4.2399\n"
     ]
    }
   ],
   "source": [
    "#Graph from Traing data only \n",
    "g=nx.read_edgelist('train_data.csv',delimiter=',',create_using=nx.DiGraph(),nodetype=int)\n",
    "print(nx.info(g))"
   ]
  },
  {
   "cell_type": "code",
   "execution_count": 52,
   "metadata": {},
   "outputs": [
    {
     "name": "stdout",
     "output_type": "stream",
     "text": [
      "Name: \n",
      "Type: DiGraph\n",
      "Number of nodes: 1862220\n",
      "Number of edges: 9437519\n",
      "Average in degree:   5.0679\n",
      "Average out degree:   5.0679\n"
     ]
    }
   ],
   "source": [
    "#Graph of total data without splitting \n",
    "G=nx.read_edgelist('train_woheader.csv',delimiter=',',create_using=nx.DiGraph(),nodetype=int)\n",
    "print(nx.info(G))"
   ]
  },
  {
   "cell_type": "code",
   "execution_count": 53,
   "metadata": {},
   "outputs": [],
   "source": [
    "###total nodes in train positive data\n",
    "train_nodes_pos = set(g.nodes())\n",
    "###total nodes in total data\n",
    "total_nodes_pos = set(G.nodes())\n",
    "###test nodes in pos data\n",
    "test_nodes_pos = set(X_test_pos.values.flatten())"
   ]
  },
  {
   "cell_type": "code",
   "execution_count": 11,
   "metadata": {},
   "outputs": [
    {
     "name": "stdout",
     "output_type": "stream",
     "text": [
      "no of people common in train and test --  1063125\n",
      "no of people present in train but not present in test --  717597\n",
      "no of people present in test but not present in train --  81498\n"
     ]
    }
   ],
   "source": [
    "print('no of people common in train and test -- ',len(train_nodes_pos.intersection(test_nodes_pos)))\n",
    "print('no of people present in train but not present in test -- ',len(train_nodes_pos - test_nodes_pos))\n",
    "print('no of people present in test but not present in train -- ',len(test_nodes_pos - train_nodes_pos))"
   ]
  },
  {
   "cell_type": "code",
   "execution_count": 57,
   "metadata": {},
   "outputs": [
    {
     "name": "stdout",
     "output_type": "stream",
     "text": [
      " % of people not there in Train but exist in Test in total Test data are 7.1200735962845405 %\n"
     ]
    }
   ],
   "source": [
    "print(' % of people not there in Train but exist in Test in total Test data are {} %'.\\\n",
    "                  format(len(test_nodes_pos - train_nodes_pos)/len(test_nodes_pos)*100))"
   ]
  },
  {
   "cell_type": "markdown",
   "metadata": {},
   "source": [
    "This will cause a cold start problem"
   ]
  },
  {
   "cell_type": "code",
   "execution_count": 13,
   "metadata": {},
   "outputs": [],
   "source": [
    "#final train and test data sets\n",
    "df_final_train = X_train_pos.append(X_train_neg,ignore_index=True)\n",
    "y_final_train = np.concatenate((y_train_pos,y_train_neg))\n",
    "df_final_test = X_test_pos.append(X_test_neg,ignore_index=True)\n",
    "y_final_test = np.concatenate((y_test_pos,y_test_neg))"
   ]
  },
  {
   "cell_type": "code",
   "execution_count": 14,
   "metadata": {},
   "outputs": [
    {
     "name": "stdout",
     "output_type": "stream",
     "text": [
      "<class 'pandas.core.frame.DataFrame'>\n",
      "RangeIndex: 15100030 entries, 0 to 15100029\n",
      "Data columns (total 2 columns):\n",
      "source_node         int64\n",
      "destination_node    int64\n",
      "dtypes: int64(2)\n",
      "memory usage: 230.4 MB\n"
     ]
    }
   ],
   "source": [
    "df_final_train.info()"
   ]
  },
  {
   "cell_type": "code",
   "execution_count": 15,
   "metadata": {},
   "outputs": [
    {
     "name": "stdout",
     "output_type": "stream",
     "text": [
      "<class 'pandas.core.frame.DataFrame'>\n",
      "RangeIndex: 3775008 entries, 0 to 3775007\n",
      "Data columns (total 2 columns):\n",
      "source_node         int64\n",
      "destination_node    int64\n",
      "dtypes: int64(2)\n",
      "memory usage: 57.6 MB\n"
     ]
    }
   ],
   "source": [
    "df_final_test.info()"
   ]
  },
  {
   "cell_type": "markdown",
   "metadata": {},
   "source": [
    "#### Adjacency_matrix   \n",
    "https://en.wikipedia.org/wiki/Adjacency_matrix"
   ]
  },
  {
   "cell_type": "code",
   "execution_count": 7,
   "metadata": {},
   "outputs": [],
   "source": [
    "Adj = nx.adjacency_matrix(g,nodelist=sorted(g.nodes()))"
   ]
  },
  {
   "cell_type": "code",
   "execution_count": 8,
   "metadata": {},
   "outputs": [
    {
     "data": {
      "text/plain": [
       "<1780722x1780722 sparse matrix of type '<class 'numpy.float64'>'\n",
       "\twith 7550015 stored elements in Compressed Sparse Row format>"
      ]
     },
     "execution_count": 8,
     "metadata": {},
     "output_type": "execute_result"
    }
   ],
   "source": [
    "Adj = Adj.asfptype()\n",
    "Adj"
   ]
  },
  {
   "cell_type": "markdown",
   "metadata": {},
   "source": [
    "## Feature Engineering"
   ]
  },
  {
   "cell_type": "markdown",
   "metadata": {},
   "source": [
    "### SVD"
   ]
  },
  {
   "cell_type": "code",
   "execution_count": 9,
   "metadata": {},
   "outputs": [],
   "source": [
    "from scipy.sparse.linalg import svds, eigs\n",
    "U, s, V = svds(Adj,k = 6)"
   ]
  },
  {
   "cell_type": "code",
   "execution_count": 10,
   "metadata": {},
   "outputs": [
    {
     "data": {
      "text/plain": [
       "array([[-2.06311438e-15,  4.86280646e-12,  4.32863386e-13,\n",
       "         6.34827889e-14,  1.18649118e-14,  1.85940576e-16],\n",
       "       [-5.39810495e-14,  7.68601596e-13,  1.32207398e-11,\n",
       "         2.12945529e-13,  9.80313275e-13,  5.21376923e-16],\n",
       "       [-1.03323961e-11,  2.77939874e-11,  1.56793759e-09,\n",
       "         2.35993376e-11,  3.87897382e-12,  6.99955573e-13],\n",
       "       ...,\n",
       "       [-9.08926368e-15,  3.01073958e-14,  6.61712281e-13,\n",
       "         1.86989518e-13,  2.39751694e-12,  1.01911935e-14],\n",
       "       [-4.04926290e-13,  1.66308893e-13,  1.36923604e-06,\n",
       "         6.08332634e-14,  1.84662990e-13,  1.79395445e-12],\n",
       "       [-7.33024975e-15,  7.79261880e-15,  7.97714296e-14,\n",
       "         2.89269174e-16,  1.21312591e-15,  2.25623613e-16]])"
      ]
     },
     "execution_count": 10,
     "metadata": {},
     "output_type": "execute_result"
    }
   ],
   "source": [
    "U"
   ]
  },
  {
   "cell_type": "code",
   "execution_count": 11,
   "metadata": {},
   "outputs": [
    {
     "name": "stdout",
     "output_type": "stream",
     "text": [
      "U Shape (1780722, 6)\n",
      "V Shape (6, 1780722)\n",
      "s Shape (6,)\n"
     ]
    }
   ],
   "source": [
    "print('U Shape',U.shape)\n",
    "print('V Shape',V.shape)\n",
    "print('s Shape',s.shape)"
   ]
  },
  {
   "cell_type": "code",
   "execution_count": 12,
   "metadata": {},
   "outputs": [],
   "source": [
    "del Adj\n",
    "del s"
   ]
  },
  {
   "cell_type": "markdown",
   "metadata": {},
   "source": [
    "### Similarity measures"
   ]
  },
  {
   "cell_type": "markdown",
   "metadata": {},
   "source": [
    "#### Jaccard Distance:"
   ]
  },
  {
   "cell_type": "markdown",
   "metadata": {},
   "source": [
    "\\begin{equation}\n",
    "j = \\frac{|X\\cap Y|}{|X \\cup Y|} \n",
    "\\end{equation}"
   ]
  },
  {
   "cell_type": "code",
   "execution_count": 21,
   "metadata": {},
   "outputs": [],
   "source": [
    "#for followees\n",
    "def jaccard_for_followees(a,b):\n",
    "    try:\n",
    "        if len(set(g.successors(a))) == 0  | len(set(g.successors(b))) == 0:\n",
    "            return 0\n",
    "        sim = (len(set(g.successors(a)).intersection(set(g.successors(b)))))/\\\n",
    "                                    (len(set(g.successors(a)).union(set(g.successors(b)))))\n",
    "    except:\n",
    "        return 0\n",
    "    return sim"
   ]
  },
  {
   "cell_type": "code",
   "execution_count": 22,
   "metadata": {},
   "outputs": [
    {
     "data": {
      "text/plain": [
       "0.0"
      ]
     },
     "execution_count": 22,
     "metadata": {},
     "output_type": "execute_result"
    }
   ],
   "source": [
    "#one test case\n",
    "jaccard_for_followees(2,1615927)"
   ]
  },
  {
   "cell_type": "code",
   "execution_count": 23,
   "metadata": {},
   "outputs": [
    {
     "data": {
      "text/plain": [
       "0"
      ]
     },
     "execution_count": 23,
     "metadata": {},
     "output_type": "execute_result"
    }
   ],
   "source": [
    "#node 1635354 not in graph \n",
    "jaccard_for_followees(669354,1635354)"
   ]
  },
  {
   "cell_type": "code",
   "execution_count": 24,
   "metadata": {},
   "outputs": [],
   "source": [
    "#for followers\n",
    "def jaccard_for_followers(a,b):\n",
    "    try:\n",
    "        if len(set(g.predecessors(a))) == 0  | len(set(g.predecessors(b))) == 0:\n",
    "            return 0\n",
    "        sim = (len(set(g.predecessors(a)).intersection(set(g.predecessors(b)))))/\\\n",
    "                                 (len(set(g.predecessors(a)).union(set(g.predecessors(b)))))\n",
    "        return sim\n",
    "    except:\n",
    "        return 0"
   ]
  },
  {
   "cell_type": "code",
   "execution_count": 25,
   "metadata": {},
   "outputs": [
    {
     "data": {
      "text/plain": [
       "0.045454545454545456"
      ]
     },
     "execution_count": 25,
     "metadata": {},
     "output_type": "execute_result"
    }
   ],
   "source": [
    "jaccard_for_followers(2,470294)"
   ]
  },
  {
   "cell_type": "code",
   "execution_count": 26,
   "metadata": {},
   "outputs": [
    {
     "data": {
      "text/plain": [
       "0"
      ]
     },
     "execution_count": 26,
     "metadata": {},
     "output_type": "execute_result"
    }
   ],
   "source": [
    "#node 1635354 not in graph \n",
    "jaccard_for_followees(669354,1635354)"
   ]
  },
  {
   "cell_type": "markdown",
   "metadata": {},
   "source": [
    "#### Cosine distance"
   ]
  },
  {
   "cell_type": "markdown",
   "metadata": {},
   "source": [
    "\\begin{equation}\n",
    "CosineDistance = \\frac{|X\\cap Y|}{|X|\\cdot|Y|} \n",
    "\\end{equation}"
   ]
  },
  {
   "cell_type": "code",
   "execution_count": 27,
   "metadata": {},
   "outputs": [],
   "source": [
    "#for followees\n",
    "def cosine_for_followees(a,b):\n",
    "    try:\n",
    "        if len(set(g.successors(a))) == 0  | len(set(g.successors(b))) == 0:\n",
    "            return 0\n",
    "        sim = (len(set(g.successors(a)).intersection(set(g.successors(b)))))/\\\n",
    "                                    (math.sqrt(len(set(g.successors(a)))*len((set(g.successors(b))))))\n",
    "        return sim\n",
    "    except:\n",
    "        return 0"
   ]
  },
  {
   "cell_type": "code",
   "execution_count": 28,
   "metadata": {},
   "outputs": [
    {
     "data": {
      "text/plain": [
       "0.08944271909999159"
      ]
     },
     "execution_count": 28,
     "metadata": {},
     "output_type": "execute_result"
    }
   ],
   "source": [
    "cosine_for_followees(2,470294)"
   ]
  },
  {
   "cell_type": "code",
   "execution_count": 29,
   "metadata": {},
   "outputs": [
    {
     "data": {
      "text/plain": [
       "0"
      ]
     },
     "execution_count": 29,
     "metadata": {},
     "output_type": "execute_result"
    }
   ],
   "source": [
    "cosine_for_followees(669354,1635354)"
   ]
  },
  {
   "cell_type": "code",
   "execution_count": 30,
   "metadata": {},
   "outputs": [],
   "source": [
    "def cosine_for_followers(a,b):\n",
    "    try:\n",
    "        \n",
    "        if len(set(g.predecessors(a))) == 0  | len(set(g.predecessors(b))) == 0:\n",
    "            return 0\n",
    "        sim = (len(set(g.predecessors(a)).intersection(set(g.predecessors(b)))))/\\\n",
    "                                     (math.sqrt(len(set(g.predecessors(a))))*(len(set(g.predecessors(b)))))\n",
    "        return sim\n",
    "    except:\n",
    "        return 0"
   ]
  },
  {
   "cell_type": "code",
   "execution_count": 31,
   "metadata": {},
   "outputs": [
    {
     "data": {
      "text/plain": [
       "0.02886751345948129"
      ]
     },
     "execution_count": 31,
     "metadata": {},
     "output_type": "execute_result"
    }
   ],
   "source": [
    "cosine_for_followers(2,470294)"
   ]
  },
  {
   "cell_type": "code",
   "execution_count": 32,
   "metadata": {},
   "outputs": [
    {
     "data": {
      "text/plain": [
       "0"
      ]
     },
     "execution_count": 32,
     "metadata": {},
     "output_type": "execute_result"
    }
   ],
   "source": [
    "cosine_for_followers(669354,1635354)"
   ]
  },
  {
   "cell_type": "markdown",
   "metadata": {},
   "source": [
    "### Ranking Measures"
   ]
  },
  {
   "cell_type": "markdown",
   "metadata": {},
   "source": [
    "https://en.wikipedia.org/wiki/PageRank"
   ]
  },
  {
   "cell_type": "code",
   "execution_count": 33,
   "metadata": {},
   "outputs": [],
   "source": [
    "pr = nx.pagerank(g, alpha=0.85)"
   ]
  },
  {
   "cell_type": "code",
   "execution_count": 34,
   "metadata": {},
   "outputs": [],
   "source": [
    "pickle.dump(pr,open('page_rank.p','wb'))"
   ]
  },
  {
   "cell_type": "code",
   "execution_count": 35,
   "metadata": {},
   "outputs": [
    {
     "data": {
      "text/plain": [
       "1780722"
      ]
     },
     "execution_count": 35,
     "metadata": {},
     "output_type": "execute_result"
    }
   ],
   "source": [
    "len(pr)"
   ]
  },
  {
   "cell_type": "code",
   "execution_count": 37,
   "metadata": {},
   "outputs": [],
   "source": [
    "pr = pickle.load(open('page_rank.p','rb'))"
   ]
  },
  {
   "cell_type": "code",
   "execution_count": 39,
   "metadata": {},
   "outputs": [
    {
     "name": "stdout",
     "output_type": "stream",
     "text": [
      "min 1.6556497245737814e-07\n",
      "max 2.7098251341935827e-05\n",
      "mean 5.615699699389075e-07\n"
     ]
    }
   ],
   "source": [
    "print('min',pr[min(pr, key=pr.get)])\n",
    "print('max',pr[max(pr, key=pr.get)])\n",
    "print('mean',float(sum(pr.values())) / len(pr))"
   ]
  },
  {
   "cell_type": "code",
   "execution_count": 40,
   "metadata": {},
   "outputs": [],
   "source": [
    "#for imputing to nodes which are not there in Train data\n",
    "mean_pr = float(sum(pr.values())) / len(pr)"
   ]
  },
  {
   "cell_type": "markdown",
   "metadata": {},
   "source": [
    "#### Shortest path:"
   ]
  },
  {
   "cell_type": "markdown",
   "metadata": {},
   "source": [
    "Getting Shortest path between twoo nodes, if nodes have direct path i.e directly connected then we are removing that edge and calculating path. "
   ]
  },
  {
   "cell_type": "code",
   "execution_count": 8,
   "metadata": {},
   "outputs": [],
   "source": [
    "#if has direct edge then deleting that edge and calculating shortest path\n",
    "def compute_shortest_path_length(a,b):\n",
    "    p=-1\n",
    "    try:\n",
    "        if g.has_edge(a,b):\n",
    "            g.remove_edge(a,b)\n",
    "            p= nx.shortest_path_length(g,source=a,target=b)\n",
    "            g.add_edge(a,b)\n",
    "        else:\n",
    "            p= nx.shortest_path_length(g,source=a,target=b)\n",
    "        return p\n",
    "    except:\n",
    "        return -1"
   ]
  },
  {
   "cell_type": "code",
   "execution_count": 9,
   "metadata": {},
   "outputs": [
    {
     "data": {
      "text/plain": [
       "10"
      ]
     },
     "execution_count": 9,
     "metadata": {},
     "output_type": "execute_result"
    }
   ],
   "source": [
    "#testing\n",
    "compute_shortest_path_length(77697, 826021)"
   ]
  },
  {
   "cell_type": "code",
   "execution_count": 10,
   "metadata": {},
   "outputs": [
    {
     "data": {
      "text/plain": [
       "-1"
      ]
     },
     "execution_count": 10,
     "metadata": {},
     "output_type": "execute_result"
    }
   ],
   "source": [
    "#testing\n",
    "compute_shortest_path_length(669354,1635354)"
   ]
  },
  {
   "cell_type": "markdown",
   "metadata": {},
   "source": [
    "#### Checking for same community"
   ]
  },
  {
   "cell_type": "code",
   "execution_count": 39,
   "metadata": {},
   "outputs": [],
   "source": [
    "#getting weekly connected edges from graph \n",
    "wcc=list(nx.weakly_connected_components(g))\n",
    "def belongs_to_same_wcc(a,b):\n",
    "    index = []\n",
    "    if g.has_edge(b,a):\n",
    "        return 1\n",
    "    if g.has_edge(a,b):\n",
    "            for i in wcc:\n",
    "                if a in i:\n",
    "                    index= i\n",
    "                    break\n",
    "            if (b in index):\n",
    "                g.remove_edge(a,b)\n",
    "                if compute_shortest_path_length(a,b)==-1:\n",
    "                    g.add_edge(a,b)\n",
    "                    return 0\n",
    "                else:\n",
    "                    g.add_edge(a,b)\n",
    "                    return 1\n",
    "            else:\n",
    "                return 0\n",
    "    else:\n",
    "            for i in wcc:\n",
    "                if a in i:\n",
    "                    index= i\n",
    "                    break\n",
    "            if(b in index):\n",
    "                return 1\n",
    "            else:\n",
    "                return 0"
   ]
  },
  {
   "cell_type": "code",
   "execution_count": 40,
   "metadata": {},
   "outputs": [
    {
     "data": {
      "text/plain": [
       "0"
      ]
     },
     "execution_count": 40,
     "metadata": {},
     "output_type": "execute_result"
    }
   ],
   "source": [
    "belongs_to_same_wcc(861, 1659750)"
   ]
  },
  {
   "cell_type": "code",
   "execution_count": 41,
   "metadata": {},
   "outputs": [
    {
     "data": {
      "text/plain": [
       "0"
      ]
     },
     "execution_count": 41,
     "metadata": {},
     "output_type": "execute_result"
    }
   ],
   "source": [
    "belongs_to_same_wcc(669354,1635354)"
   ]
  },
  {
   "cell_type": "markdown",
   "metadata": {},
   "source": [
    "#### Adamic/Adar Index"
   ]
  },
  {
   "cell_type": "markdown",
   "metadata": {},
   "source": [
    "\\begin{equation}\n",
    "A = \\displaystyle\\sum_{u\\in N(x)\\cap N(y)} \\frac{1}{log|N(u)|} \n",
    "\\end{equation}"
   ]
  },
  {
   "cell_type": "code",
   "execution_count": 42,
   "metadata": {},
   "outputs": [],
   "source": [
    "#adar index\n",
    "def calc_adar_in(a,b):\n",
    "    sum=0\n",
    "    try:\n",
    "        n=list(set(g.successors(a)).intersection(set(g.successors(b))))\n",
    "        if len(n)!=0:\n",
    "            for i in n:\n",
    "                sum=sum+(1/np.log10(len(list(g.predecessors(i)))))\n",
    "            return sum\n",
    "        else:\n",
    "            return 0\n",
    "    except:\n",
    "        return 0"
   ]
  },
  {
   "cell_type": "code",
   "execution_count": 43,
   "metadata": {},
   "outputs": [
    {
     "data": {
      "text/plain": [
       "0"
      ]
     },
     "execution_count": 43,
     "metadata": {},
     "output_type": "execute_result"
    }
   ],
   "source": [
    "calc_adar_in(1,189226)"
   ]
  },
  {
   "cell_type": "code",
   "execution_count": 44,
   "metadata": {},
   "outputs": [
    {
     "data": {
      "text/plain": [
       "0"
      ]
     },
     "execution_count": 44,
     "metadata": {},
     "output_type": "execute_result"
    }
   ],
   "source": [
    "calc_adar_in(669354,1635354)"
   ]
  },
  {
   "cell_type": "markdown",
   "metadata": {},
   "source": [
    "#### Is persion was following back:"
   ]
  },
  {
   "cell_type": "code",
   "execution_count": 45,
   "metadata": {},
   "outputs": [],
   "source": [
    "def follows_back(a,b):\n",
    "    if g.has_edge(b,a):\n",
    "        return 1\n",
    "    else:\n",
    "        return 0"
   ]
  },
  {
   "cell_type": "code",
   "execution_count": 46,
   "metadata": {},
   "outputs": [
    {
     "data": {
      "text/plain": [
       "1"
      ]
     },
     "execution_count": 46,
     "metadata": {},
     "output_type": "execute_result"
    }
   ],
   "source": [
    "follows_back(1,189226)"
   ]
  },
  {
   "cell_type": "code",
   "execution_count": 47,
   "metadata": {},
   "outputs": [
    {
     "data": {
      "text/plain": [
       "0"
      ]
     },
     "execution_count": 47,
     "metadata": {},
     "output_type": "execute_result"
    }
   ],
   "source": [
    "follows_back(669354,1635354)"
   ]
  },
  {
   "cell_type": "markdown",
   "metadata": {},
   "source": [
    "#### Katz Centrality:"
   ]
  },
  {
   "cell_type": "markdown",
   "metadata": {},
   "source": [
    "https://en.wikipedia.org/wiki/Katz_centrality"
   ]
  },
  {
   "cell_type": "code",
   "execution_count": 119,
   "metadata": {},
   "outputs": [],
   "source": [
    "katz = nx.katz.katz_centrality(g,alpha=0.005,beta=1)\n",
    "#import pickle\n",
    "#katz = pickle.load(open('katz.p','rb'))"
   ]
  },
  {
   "cell_type": "code",
   "execution_count": 11,
   "metadata": {},
   "outputs": [],
   "source": [
    "import pickle\n",
    "katz = pickle.load(open('katz.p','rb'))"
   ]
  },
  {
   "cell_type": "code",
   "execution_count": 24,
   "metadata": {},
   "outputs": [
    {
     "data": {
      "text/plain": [
       "dict"
      ]
     },
     "execution_count": 24,
     "metadata": {},
     "output_type": "execute_result"
    }
   ],
   "source": [
    "type(katz)"
   ]
  },
  {
   "cell_type": "code",
   "execution_count": 32,
   "metadata": {},
   "outputs": [
    {
     "name": "stdout",
     "output_type": "stream",
     "text": [
      "min 0.0007313532484065916\n",
      "max 0.003394554981699122\n",
      "mean 0.0007483800935562018\n"
     ]
    }
   ],
   "source": [
    "print('min',katz[min(katz, key=katz.get)])\n",
    "print('max',katz[max(katz, key=katz.get)])\n",
    "print('mean',float(sum(katz.values())) / len(katz))"
   ]
  },
  {
   "cell_type": "code",
   "execution_count": 33,
   "metadata": {},
   "outputs": [],
   "source": [
    "mean_katz = float(sum(katz.values())) / len(katz)"
   ]
  },
  {
   "cell_type": "markdown",
   "metadata": {},
   "source": [
    "#### Hits Score"
   ]
  },
  {
   "cell_type": "markdown",
   "metadata": {},
   "source": [
    "https://en.wikipedia.org/wiki/HITS_algorithm"
   ]
  },
  {
   "cell_type": "code",
   "execution_count": 40,
   "metadata": {},
   "outputs": [],
   "source": [
    "hits = nx.hits(g, max_iter=100, tol=1e-08, nstart=None, normalized=True)\n",
    "#hits = pickle.load(open('hits.p','rb'))"
   ]
  },
  {
   "cell_type": "code",
   "execution_count": 13,
   "metadata": {},
   "outputs": [],
   "source": [
    "hits = pickle.load(open('hits.p','rb'))"
   ]
  },
  {
   "cell_type": "code",
   "execution_count": 14,
   "metadata": {},
   "outputs": [
    {
     "data": {
      "text/plain": [
       "2"
      ]
     },
     "execution_count": 14,
     "metadata": {},
     "output_type": "execute_result"
    }
   ],
   "source": [
    "len(hits)"
   ]
  },
  {
   "cell_type": "code",
   "execution_count": 15,
   "metadata": {},
   "outputs": [
    {
     "data": {
      "text/plain": [
       "1780722"
      ]
     },
     "execution_count": 15,
     "metadata": {},
     "output_type": "execute_result"
    }
   ],
   "source": [
    "len(hits[0])"
   ]
  },
  {
   "cell_type": "code",
   "execution_count": 45,
   "metadata": {},
   "outputs": [
    {
     "name": "stdout",
     "output_type": "stream",
     "text": [
      "min 0.0\n",
      "max 0.004868653378780953\n",
      "mean 5.615699699344123e-07\n"
     ]
    }
   ],
   "source": [
    "print('min',hits[0][min(hits[0], key=hits[0].get)])\n",
    "print('max',hits[0][max(hits[0], key=hits[0].get)])\n",
    "print('mean',float(sum(hits[0].values())) / len(hits[0]))"
   ]
  },
  {
   "cell_type": "code",
   "execution_count": 43,
   "metadata": {},
   "outputs": [],
   "source": [
    "import pickle\n",
    "pickle.dump(hits,open('hits.p','wb'))"
   ]
  },
  {
   "cell_type": "markdown",
   "metadata": {},
   "source": [
    "##### From all above scores preparing data set "
   ]
  },
  {
   "cell_type": "code",
   "execution_count": 54,
   "metadata": {},
   "outputs": [
    {
     "name": "stdout",
     "output_type": "stream",
     "text": [
      "<class 'pandas.core.frame.DataFrame'>\n",
      "RangeIndex: 15100030 entries, 0 to 15100029\n",
      "Data columns (total 2 columns):\n",
      "source_node         int64\n",
      "destination_node    int64\n",
      "dtypes: int64(2)\n",
      "memory usage: 230.4 MB\n"
     ]
    }
   ],
   "source": [
    "df_final_train.info()"
   ]
  },
  {
   "cell_type": "code",
   "execution_count": 55,
   "metadata": {},
   "outputs": [
    {
     "name": "stdout",
     "output_type": "stream",
     "text": [
      "<class 'pandas.core.frame.DataFrame'>\n",
      "RangeIndex: 3775008 entries, 0 to 3775007\n",
      "Data columns (total 2 columns):\n",
      "source_node         int64\n",
      "destination_node    int64\n",
      "dtypes: int64(2)\n",
      "memory usage: 57.6 MB\n"
     ]
    }
   ],
   "source": [
    "df_final_test.info()"
   ]
  },
  {
   "cell_type": "code",
   "execution_count": 57,
   "metadata": {},
   "outputs": [],
   "source": [
    "#mapping jaccrd followers to train data\n",
    "df_final_train['jaccard_followers'] = df_final_train.apply(lambda row:\n",
    "                                        jaccard_for_followers(row['source_node'],row['destination_node']),axis=1)"
   ]
  },
  {
   "cell_type": "code",
   "execution_count": 59,
   "metadata": {},
   "outputs": [],
   "source": [
    "#mapping jaccrd followers to test data\n",
    "df_final_test['jaccard_followers'] = df_final_test.apply(lambda row:\n",
    "                                        jaccard_for_followers(row['source_node'],row['destination_node']),axis=1)"
   ]
  },
  {
   "cell_type": "code",
   "execution_count": 60,
   "metadata": {},
   "outputs": [],
   "source": [
    "#mapping jaccrd followees to train and test data\n",
    "df_final_train['jaccard_followees'] = df_final_train.apply(lambda row:\n",
    "                                        jaccard_for_followees(row['source_node'],row['destination_node']),axis=1)\n",
    "df_final_test['jaccard_followees'] = df_final_test.apply(lambda row:\n",
    "                                        jaccard_for_followees(row['source_node'],row['destination_node']),axis=1)"
   ]
  },
  {
   "cell_type": "code",
   "execution_count": 65,
   "metadata": {},
   "outputs": [],
   "source": [
    "#calculating no of followers followees for source and destination\n",
    "#calculating intersection of followers and followees for source and destination\n",
    "num_followers_s=[]\n",
    "num_followees_s=[]\n",
    "num_followers_d=[]\n",
    "num_followees_d=[]\n",
    "inter_followers=[]\n",
    "inter_followees=[]\n",
    "for i,row in df_final_train.iterrows():\n",
    "    try:\n",
    "        s1=set(g.predecessors(row['source_node']))\n",
    "        s2=set(g.successors(row['source_node']))\n",
    "    except:\n",
    "        s1 = set()\n",
    "        s2 = set()\n",
    "    try:\n",
    "        d1=set(g.predecessors(row['destination_node']))\n",
    "        d2=set(g.successors(row['destination_node']))\n",
    "    except:\n",
    "        d1 = set()\n",
    "        d2 = set()\n",
    "    num_followers_s.append(len(s1))\n",
    "    num_followees_s.append(len(s2))\n",
    "    \n",
    "    num_followers_d.append(len(d1))\n",
    "    num_followees_d.append(len(d2))\n",
    "    \n",
    "    inter_followers.append(len(s1.intersection(d1)))\n",
    "    inter_followees.append(len(s2.intersection(d2)))"
   ]
  },
  {
   "cell_type": "code",
   "execution_count": 66,
   "metadata": {},
   "outputs": [],
   "source": [
    "df_final_train['num_followers_s']=num_followers_s\n",
    "df_final_train['num_followees_s']=num_followees_s\n",
    "df_final_train['num_followers_d']=num_followers_d\n",
    "df_final_train['num_followees_d']=num_followees_d\n",
    "df_final_train['inter_followers']=inter_followers\n",
    "df_final_train['inter_followees']=inter_followees"
   ]
  },
  {
   "cell_type": "code",
   "execution_count": 67,
   "metadata": {},
   "outputs": [],
   "source": [
    "#For test data\n",
    "#calculating no of followers followees for source and destination\n",
    "#calculating intersection of followers and followees for source and destination\n",
    "num_followers_s=[]\n",
    "num_followees_s=[]\n",
    "num_followers_d=[]\n",
    "num_followees_d=[]\n",
    "inter_followers=[]\n",
    "inter_followees=[]\n",
    "for i,row in df_final_test.iterrows():\n",
    "    try:\n",
    "        s1=set(g.predecessors(row['source_node']))\n",
    "        s2=set(g.successors(row['source_node']))\n",
    "    except:\n",
    "        s1 = set()\n",
    "        s2 = set()\n",
    "    try:\n",
    "        d1=set(g.predecessors(row['destination_node']))\n",
    "        d2=set(g.successors(row['destination_node']))\n",
    "    except:\n",
    "        d1 = set()\n",
    "        d2 = set()\n",
    "    num_followers_s.append(len(s1))\n",
    "    num_followees_s.append(len(s2))\n",
    "    \n",
    "    num_followers_d.append(len(d1))\n",
    "    num_followees_d.append(len(d2))\n",
    "    \n",
    "    inter_followers.append(len(s1.intersection(d1)))\n",
    "    inter_followees.append(len(s2.intersection(d2)))"
   ]
  },
  {
   "cell_type": "code",
   "execution_count": 68,
   "metadata": {},
   "outputs": [],
   "source": [
    "#assigning\n",
    "df_final_test['num_followers_s']=num_followers_s\n",
    "df_final_test['num_followees_s']=num_followees_s\n",
    "df_final_test['num_followers_d']=num_followers_d\n",
    "df_final_test['num_followees_d']=num_followees_d\n",
    "df_final_test['inter_followers']=inter_followers\n",
    "df_final_test['inter_followees']=inter_followees"
   ]
  },
  {
   "cell_type": "code",
   "execution_count": 69,
   "metadata": {},
   "outputs": [],
   "source": [
    "#saving to disk \n",
    "df_final_train.to_csv('df_final_train_some.csv',index=False)\n",
    "df_final_test.to_csv('df_final_test_some.csv',index=False)"
   ]
  },
  {
   "cell_type": "code",
   "execution_count": 71,
   "metadata": {},
   "outputs": [
    {
     "data": {
      "text/html": [
       "<div>\n",
       "<style scoped>\n",
       "    .dataframe tbody tr th:only-of-type {\n",
       "        vertical-align: middle;\n",
       "    }\n",
       "\n",
       "    .dataframe tbody tr th {\n",
       "        vertical-align: top;\n",
       "    }\n",
       "\n",
       "    .dataframe thead th {\n",
       "        text-align: right;\n",
       "    }\n",
       "</style>\n",
       "<table border=\"1\" class=\"dataframe\">\n",
       "  <thead>\n",
       "    <tr style=\"text-align: right;\">\n",
       "      <th></th>\n",
       "      <th>source_node</th>\n",
       "      <th>destination_node</th>\n",
       "      <th>jaccard_followers</th>\n",
       "      <th>jaccard_followees</th>\n",
       "      <th>num_followers_s</th>\n",
       "      <th>num_followees_s</th>\n",
       "      <th>num_followers_d</th>\n",
       "      <th>num_followees_d</th>\n",
       "      <th>inter_followers</th>\n",
       "      <th>inter_followees</th>\n",
       "    </tr>\n",
       "  </thead>\n",
       "  <tbody>\n",
       "    <tr>\n",
       "      <th>0</th>\n",
       "      <td>273084</td>\n",
       "      <td>1505602</td>\n",
       "      <td>0.000000</td>\n",
       "      <td>0.000000</td>\n",
       "      <td>11</td>\n",
       "      <td>15</td>\n",
       "      <td>6</td>\n",
       "      <td>8</td>\n",
       "      <td>0</td>\n",
       "      <td>0</td>\n",
       "    </tr>\n",
       "    <tr>\n",
       "      <th>1</th>\n",
       "      <td>912810</td>\n",
       "      <td>1678443</td>\n",
       "      <td>0.058824</td>\n",
       "      <td>0.058824</td>\n",
       "      <td>10</td>\n",
       "      <td>10</td>\n",
       "      <td>8</td>\n",
       "      <td>8</td>\n",
       "      <td>1</td>\n",
       "      <td>1</td>\n",
       "    </tr>\n",
       "    <tr>\n",
       "      <th>2</th>\n",
       "      <td>365429</td>\n",
       "      <td>1523458</td>\n",
       "      <td>0.033058</td>\n",
       "      <td>0.023077</td>\n",
       "      <td>40</td>\n",
       "      <td>49</td>\n",
       "      <td>85</td>\n",
       "      <td>84</td>\n",
       "      <td>4</td>\n",
       "      <td>3</td>\n",
       "    </tr>\n",
       "    <tr>\n",
       "      <th>3</th>\n",
       "      <td>527014</td>\n",
       "      <td>1605979</td>\n",
       "      <td>0.000000</td>\n",
       "      <td>0.000000</td>\n",
       "      <td>0</td>\n",
       "      <td>1</td>\n",
       "      <td>1</td>\n",
       "      <td>0</td>\n",
       "      <td>0</td>\n",
       "      <td>0</td>\n",
       "    </tr>\n",
       "    <tr>\n",
       "      <th>4</th>\n",
       "      <td>1228116</td>\n",
       "      <td>471233</td>\n",
       "      <td>0.068966</td>\n",
       "      <td>0.162162</td>\n",
       "      <td>14</td>\n",
       "      <td>23</td>\n",
       "      <td>48</td>\n",
       "      <td>20</td>\n",
       "      <td>4</td>\n",
       "      <td>6</td>\n",
       "    </tr>\n",
       "  </tbody>\n",
       "</table>\n",
       "</div>"
      ],
      "text/plain": [
       "   source_node  destination_node  jaccard_followers  jaccard_followees  \\\n",
       "0       273084           1505602           0.000000           0.000000   \n",
       "1       912810           1678443           0.058824           0.058824   \n",
       "2       365429           1523458           0.033058           0.023077   \n",
       "3       527014           1605979           0.000000           0.000000   \n",
       "4      1228116            471233           0.068966           0.162162   \n",
       "\n",
       "   num_followers_s  num_followees_s  num_followers_d  num_followees_d  \\\n",
       "0               11               15                6                8   \n",
       "1               10               10                8                8   \n",
       "2               40               49               85               84   \n",
       "3                0                1                1                0   \n",
       "4               14               23               48               20   \n",
       "\n",
       "   inter_followers  inter_followees  \n",
       "0                0                0  \n",
       "1                1                1  \n",
       "2                4                3  \n",
       "3                0                0  \n",
       "4                4                6  "
      ]
     },
     "execution_count": 71,
     "metadata": {},
     "output_type": "execute_result"
    }
   ],
   "source": [
    "#head of df \n",
    "df_final_train.head()"
   ]
  },
  {
   "cell_type": "code",
   "execution_count": 72,
   "metadata": {},
   "outputs": [
    {
     "data": {
      "text/html": [
       "<div>\n",
       "<style scoped>\n",
       "    .dataframe tbody tr th:only-of-type {\n",
       "        vertical-align: middle;\n",
       "    }\n",
       "\n",
       "    .dataframe tbody tr th {\n",
       "        vertical-align: top;\n",
       "    }\n",
       "\n",
       "    .dataframe thead th {\n",
       "        text-align: right;\n",
       "    }\n",
       "</style>\n",
       "<table border=\"1\" class=\"dataframe\">\n",
       "  <thead>\n",
       "    <tr style=\"text-align: right;\">\n",
       "      <th></th>\n",
       "      <th>source_node</th>\n",
       "      <th>destination_node</th>\n",
       "      <th>jaccard_followers</th>\n",
       "      <th>jaccard_followees</th>\n",
       "      <th>num_followers_s</th>\n",
       "      <th>num_followees_s</th>\n",
       "      <th>num_followers_d</th>\n",
       "      <th>num_followees_d</th>\n",
       "      <th>inter_followers</th>\n",
       "      <th>inter_followees</th>\n",
       "    </tr>\n",
       "  </thead>\n",
       "  <tbody>\n",
       "    <tr>\n",
       "      <th>0</th>\n",
       "      <td>848424</td>\n",
       "      <td>784690</td>\n",
       "      <td>0.052632</td>\n",
       "      <td>0.000000</td>\n",
       "      <td>6</td>\n",
       "      <td>6</td>\n",
       "      <td>14</td>\n",
       "      <td>9</td>\n",
       "      <td>1</td>\n",
       "      <td>0</td>\n",
       "    </tr>\n",
       "    <tr>\n",
       "      <th>1</th>\n",
       "      <td>1248963</td>\n",
       "      <td>444518</td>\n",
       "      <td>0.000000</td>\n",
       "      <td>0.000000</td>\n",
       "      <td>5</td>\n",
       "      <td>8</td>\n",
       "      <td>1</td>\n",
       "      <td>2</td>\n",
       "      <td>0</td>\n",
       "      <td>0</td>\n",
       "    </tr>\n",
       "    <tr>\n",
       "      <th>2</th>\n",
       "      <td>264224</td>\n",
       "      <td>132395</td>\n",
       "      <td>0.375000</td>\n",
       "      <td>0.400000</td>\n",
       "      <td>8</td>\n",
       "      <td>7</td>\n",
       "      <td>3</td>\n",
       "      <td>7</td>\n",
       "      <td>3</td>\n",
       "      <td>4</td>\n",
       "    </tr>\n",
       "    <tr>\n",
       "      <th>3</th>\n",
       "      <td>549680</td>\n",
       "      <td>326829</td>\n",
       "      <td>0.115385</td>\n",
       "      <td>0.040000</td>\n",
       "      <td>17</td>\n",
       "      <td>11</td>\n",
       "      <td>12</td>\n",
       "      <td>15</td>\n",
       "      <td>3</td>\n",
       "      <td>1</td>\n",
       "    </tr>\n",
       "    <tr>\n",
       "      <th>4</th>\n",
       "      <td>875380</td>\n",
       "      <td>1394902</td>\n",
       "      <td>0.190476</td>\n",
       "      <td>0.184211</td>\n",
       "      <td>21</td>\n",
       "      <td>20</td>\n",
       "      <td>29</td>\n",
       "      <td>25</td>\n",
       "      <td>8</td>\n",
       "      <td>7</td>\n",
       "    </tr>\n",
       "  </tbody>\n",
       "</table>\n",
       "</div>"
      ],
      "text/plain": [
       "   source_node  destination_node  jaccard_followers  jaccard_followees  \\\n",
       "0       848424            784690           0.052632           0.000000   \n",
       "1      1248963            444518           0.000000           0.000000   \n",
       "2       264224            132395           0.375000           0.400000   \n",
       "3       549680            326829           0.115385           0.040000   \n",
       "4       875380           1394902           0.190476           0.184211   \n",
       "\n",
       "   num_followers_s  num_followees_s  num_followers_d  num_followees_d  \\\n",
       "0                6                6               14                9   \n",
       "1                5                8                1                2   \n",
       "2                8                7                3                7   \n",
       "3               17               11               12               15   \n",
       "4               21               20               29               25   \n",
       "\n",
       "   inter_followers  inter_followees  \n",
       "0                1                0  \n",
       "1                0                0  \n",
       "2                3                4  \n",
       "3                3                1  \n",
       "4                8                7  "
      ]
     },
     "execution_count": 72,
     "metadata": {},
     "output_type": "execute_result"
    }
   ],
   "source": [
    "df_final_test.head()"
   ]
  },
  {
   "cell_type": "code",
   "execution_count": 73,
   "metadata": {},
   "outputs": [],
   "source": [
    "#mapping adar index on train\n",
    "df_final_train['adar_index'] = df_final_train.apply(lambda row:\n",
    "                                        calc_adar_in(row['source_node'],row['destination_node']),axis=1)"
   ]
  },
  {
   "cell_type": "code",
   "execution_count": 74,
   "metadata": {},
   "outputs": [],
   "source": [
    "#mapping adar index on test\n",
    "df_final_test['adar_index'] = df_final_test.apply(lambda row:\n",
    "                                        calc_adar_in(row['source_node'],row['destination_node']),axis=1)"
   ]
  },
  {
   "cell_type": "code",
   "execution_count": 75,
   "metadata": {},
   "outputs": [],
   "source": [
    "#mapping followback or not on train\n",
    "df_final_train['follows_back'] = df_final_train.apply(lambda row:\n",
    "                                        follows_back(row['source_node'],row['destination_node']),axis=1)"
   ]
  },
  {
   "cell_type": "code",
   "execution_count": 76,
   "metadata": {},
   "outputs": [],
   "source": [
    "#mapping followback or not on test\n",
    "df_final_test['follows_back'] = df_final_test.apply(lambda row:\n",
    "                                        follows_back(row['source_node'],row['destination_node']),axis=1)"
   ]
  },
  {
   "cell_type": "code",
   "execution_count": 77,
   "metadata": {},
   "outputs": [],
   "source": [
    "##mapping same component of wcc or not on train\n",
    "df_final_train['same_comp'] = df_final_train.apply(lambda row:\n",
    "                                        belongs_to_same_wcc(row['source_node'],row['destination_node']),axis=1)"
   ]
  },
  {
   "cell_type": "code",
   "execution_count": 78,
   "metadata": {},
   "outputs": [],
   "source": [
    "##mapping same component of wcc or not on train\n",
    "df_final_test['same_comp'] = df_final_test.apply(lambda row:\n",
    "                                        belongs_to_same_wcc(row['source_node'],row['destination_node']),axis=1)"
   ]
  },
  {
   "cell_type": "code",
   "execution_count": 79,
   "metadata": {},
   "outputs": [],
   "source": [
    "#saving to disk beacuse above operation takes much time so at every check point saving to disk \n",
    "df_final_train.to_csv('df_final_train_some1.csv',index=False)\n",
    "df_final_test.to_csv('df_final_test_some1.csv',index=False)"
   ]
  },
  {
   "cell_type": "code",
   "execution_count": 16,
   "metadata": {},
   "outputs": [],
   "source": [
    "df_final_train = pd.read_csv('df_final_train_some1.csv')\n",
    "df_final_test = pd.read_csv('df_final_test_some1.csv')"
   ]
  },
  {
   "cell_type": "code",
   "execution_count": 20,
   "metadata": {},
   "outputs": [],
   "source": [
    "#mapping shortest path on train \n",
    "df_final_train['shortest_path'] = df_final_train.apply(lambda row:\n",
    "                                        compute_shortest_path_length(row['source_node'],row['destination_node']),axis=1)"
   ]
  },
  {
   "cell_type": "code",
   "execution_count": 21,
   "metadata": {},
   "outputs": [],
   "source": [
    "#mapping shortest path on test\n",
    "df_final_test['shortest_path'] = df_final_test.apply(lambda row:\n",
    "                                        compute_shortest_path_length(row['source_node'],row['destination_node']),axis=1)"
   ]
  },
  {
   "cell_type": "code",
   "execution_count": 22,
   "metadata": {},
   "outputs": [],
   "source": [
    "df_final_train.to_csv('df_final_train_some2.csv',index=False)\n",
    "df_final_test.to_csv('df_final_test_some2.csv',index=False)"
   ]
  },
  {
   "cell_type": "code",
   "execution_count": 41,
   "metadata": {},
   "outputs": [],
   "source": [
    "#page rank for source and destination in Train\n",
    "#if anything not there in train graph then adding mean page rank \n",
    "df_final_train['page_rank_s'] = df_final_train.source_node.apply(lambda x:pr.get(x,mean_pr))\n",
    "df_final_train['page_rank_d'] = df_final_train.destination_node.apply(lambda x:pr.get(x,mean_pr))"
   ]
  },
  {
   "cell_type": "code",
   "execution_count": 42,
   "metadata": {},
   "outputs": [],
   "source": [
    "#page rank for source and destination in Test\n",
    "#if anything not there in train graph then adding mean page rank \n",
    "df_final_test['page_rank_s'] = df_final_test.source_node.apply(lambda x:pr.get(x,mean_pr))\n",
    "df_final_test['page_rank_d'] = df_final_test.destination_node.apply(lambda x:pr.get(x,mean_pr))"
   ]
  },
  {
   "cell_type": "code",
   "execution_count": 43,
   "metadata": {},
   "outputs": [],
   "source": [
    "#Katz centrality score for source and destination in Train and test\n",
    "#if anything not there in train graph then adding mean katz score\n",
    "df_final_train['katz_s'] = df_final_train.source_node.apply(lambda x: katz.get(x,mean_katz))\n",
    "df_final_train['katz_d'] = df_final_train.destination_node.apply(lambda x: katz.get(x,mean_katz))\n",
    "df_final_test['katz_s'] = df_final_test.source_node.apply(lambda x: katz.get(x,mean_katz))\n",
    "df_final_test['katz_d'] = df_final_test.destination_node.apply(lambda x: katz.get(x,mean_katz))"
   ]
  },
  {
   "cell_type": "code",
   "execution_count": 46,
   "metadata": {},
   "outputs": [],
   "source": [
    "#Hits algorithm score for source and destination in Train \n",
    "#if anything not there in train graph then adding 0\n",
    "df_final_train['hubs_s'] = df_final_train.source_node.apply(lambda x: hits[0].get(x,0))\n",
    "df_final_train['hubs_d'] = df_final_train.destination_node.apply(lambda x: hits[0].get(x,0))\n",
    "df_final_train['authorities_s'] = df_final_train.source_node.apply(lambda x: hits[1].get(x,0))\n",
    "df_final_train['authorities_d'] = df_final_train.destination_node.apply(lambda x: hits[1].get(x,0))"
   ]
  },
  {
   "cell_type": "code",
   "execution_count": 47,
   "metadata": {},
   "outputs": [],
   "source": [
    "#Hits algorithm score for source and destination in Train \n",
    "#if anything not there in train graph then adding 0\n",
    "df_final_test['hubs_s'] = df_final_test.source_node.apply(lambda x: hits[0].get(x,0))\n",
    "df_final_test['hubs_d'] = df_final_test.destination_node.apply(lambda x: hits[0].get(x,0))\n",
    "df_final_test['authorities_s'] = df_final_test.source_node.apply(lambda x: hits[1].get(x,0))\n",
    "df_final_test['authorities_d'] = df_final_test.destination_node.apply(lambda x: hits[1].get(x,0))"
   ]
  },
  {
   "cell_type": "code",
   "execution_count": 50,
   "metadata": {},
   "outputs": [],
   "source": [
    "#dependent varible i.e link exist or not\n",
    "df_final_train['indicator_link'] = y_final_train\n",
    "df_final_test['indicator_link'] = y_final_test"
   ]
  },
  {
   "cell_type": "code",
   "execution_count": 48,
   "metadata": {},
   "outputs": [],
   "source": [
    "#storing to db\n",
    "from pandas import HDFStore,DataFrame\n",
    "hdf = HDFStore('storage_temp.h5')"
   ]
  },
  {
   "cell_type": "code",
   "execution_count": 51,
   "metadata": {},
   "outputs": [],
   "source": [
    "hdf.put('train_df',df_final_train, format='table', data_columns=True)"
   ]
  },
  {
   "cell_type": "code",
   "execution_count": 52,
   "metadata": {},
   "outputs": [],
   "source": [
    "hdf.put('test_df',df_final_test, format='table', data_columns=True)"
   ]
  },
  {
   "cell_type": "code",
   "execution_count": 14,
   "metadata": {},
   "outputs": [],
   "source": [
    "del g"
   ]
  },
  {
   "cell_type": "code",
   "execution_count": 17,
   "metadata": {},
   "outputs": [],
   "source": [
    "#reading from db\n",
    "from pandas import read_hdf\n",
    "df_final_train = read_hdf('storage_temp.h5', 'train_df',mode='r')\n",
    "df_final_test = read_hdf('storage_temp.h5', 'test_df',mode='r')"
   ]
  },
  {
   "cell_type": "markdown",
   "metadata": {},
   "source": [
    "#### Adding SVD Features:"
   ]
  },
  {
   "cell_type": "code",
   "execution_count": 13,
   "metadata": {},
   "outputs": [],
   "source": [
    "#for svd features to get feature vector creating a dict node val and inex in svd vector\n",
    "sadj_col = sorted(g.nodes())\n",
    "sadj_dict = { val:idx for idx,val in enumerate(sadj_col)}\n",
    "del sadj_col"
   ]
  },
  {
   "cell_type": "code",
   "execution_count": 20,
   "metadata": {},
   "outputs": [],
   "source": [
    "##creating two df for U valuesfor train and test data with two columns source and destination \n",
    "#and each column will have a list of 6 svd features\n",
    "train_df_svd_u = pd.DataFrame()\n",
    "test_df_svd_u = pd.DataFrame()\n",
    "def svd_s(x):\n",
    "    try:\n",
    "        z = sadj_dict[x]\n",
    "        return U[z]\n",
    "    except:\n",
    "        return [0,0,0,0,0,0]\n",
    "train_df_svd_u['features_s'] = df_final_train.source_node.apply(lambda x: svd_s(x))\n",
    "train_df_svd_u['features_d'] = df_final_train.destination_node.apply(lambda x: svd_s(x))\n",
    "test_df_svd_u['features_s'] = df_final_test.source_node.apply(lambda x: svd_s(x))\n",
    "test_df_svd_u['features_d'] = df_final_test.destination_node.apply(lambda x: svd_s(x))"
   ]
  },
  {
   "cell_type": "code",
   "execution_count": 21,
   "metadata": {},
   "outputs": [],
   "source": [
    "##creating two df for V valuesfor train and test data with two columns source and destination \n",
    "#and each column will have a list of 6 svd features\n",
    "train_df_svd_v = pd.DataFrame()\n",
    "test_df_svd_v = pd.DataFrame()\n",
    "def svd_v(x):\n",
    "    try:\n",
    "        z = sadj_dict[x]\n",
    "        return V.T[z]\n",
    "    except:\n",
    "        return [0,0,0,0,0,0]\n",
    "    \n",
    "train_df_svd_v['features_s'] = df_final_train.source_node.apply(lambda x: svd_v(x))\n",
    "train_df_svd_v['features_d'] = df_final_train.destination_node.apply(lambda x: svd_v(x))\n",
    "test_df_svd_v['features_s'] = df_final_test.source_node.apply(lambda x: svd_v(x))\n",
    "test_df_svd_v['features_d'] = df_final_test.destination_node.apply(lambda x: svd_v(x))"
   ]
  },
  {
   "cell_type": "code",
   "execution_count": 22,
   "metadata": {},
   "outputs": [],
   "source": [
    "train_df_svd_u.index = df_final_train.index\n",
    "train_df_svd_v.index = df_final_train.index\n",
    "test_df_svd_u.index = df_final_test.index\n",
    "test_df_svd_v.index = df_final_test.index"
   ]
  },
  {
   "cell_type": "code",
   "execution_count": 23,
   "metadata": {},
   "outputs": [],
   "source": [
    "#Splitting those each one column into 6 features \n",
    "#https://stackoverflow.com/questions/35491274/pandas-split-column-of-lists-into-multiple-columns\n",
    "df_final_train[['svd_u_s_1', 'svd_u_s_2','svd_u_s_3', 'svd_u_s_4', 'svd_u_s_5', 'svd_u_s_6']] = \\\n",
    "                            pd.DataFrame(train_df_svd_u.features_s.values.tolist(), index= df_final_train.index)\n",
    "df_final_test[['svd_u_s_1', 'svd_u_s_2','svd_u_s_3', 'svd_u_s_4', 'svd_u_s_5', 'svd_u_s_6']] = \\\n",
    "                            pd.DataFrame(test_df_svd_u.features_s.values.tolist(), index= df_final_test.index)\n",
    "df_final_train[['svd_u_d_1', 'svd_u_d_2', 'svd_u_d_3', 'svd_u_d_4', 'svd_u_d_5','svd_u_d_6']] = \\\n",
    "                            pd.DataFrame(train_df_svd_u.features_d.values.tolist(), index= df_final_train.index)\n",
    "df_final_test[['svd_u_d_1', 'svd_u_d_2', 'svd_u_d_3', 'svd_u_d_4', 'svd_u_d_5','svd_u_d_6']] = \\\n",
    "                            pd.DataFrame(test_df_svd_u.features_d.values.tolist(), index= df_final_test.index)"
   ]
  },
  {
   "cell_type": "code",
   "execution_count": 24,
   "metadata": {},
   "outputs": [],
   "source": [
    "del train_df_svd_u\n",
    "del test_df_svd_u "
   ]
  },
  {
   "cell_type": "code",
   "execution_count": 25,
   "metadata": {},
   "outputs": [],
   "source": [
    "#Splitting those each one column into 6 features \n",
    "#https://stackoverflow.com/questions/35491274/pandas-split-column-of-lists-into-multiple-columns\n",
    "df_final_train[['svd_v_s_1','svd_v_s_2', 'svd_v_s_3', 'svd_v_s_4', 'svd_v_s_5', 'svd_v_s_6',]] = \\\n",
    "                            pd.DataFrame(train_df_svd_v.features_s.values.tolist(), index= df_final_train.index)\n",
    "df_final_test[['svd_v_s_1','svd_v_s_2', 'svd_v_s_3', 'svd_v_s_4', 'svd_v_s_5', 'svd_v_s_6',]] = \\\n",
    "                            pd.DataFrame(test_df_svd_v.features_s.values.tolist(), index= df_final_test.index)\n",
    "df_final_train[['svd_v_d_1', 'svd_v_d_2', 'svd_v_d_3', 'svd_v_d_4','svd_v_d_5', 'svd_v_d_6']] = \\\n",
    "                            pd.DataFrame(train_df_svd_v.features_d.values.tolist(), index= df_final_train.index)\n",
    "df_final_test[['svd_v_d_1', 'svd_v_d_2', 'svd_v_d_3', 'svd_v_d_4','svd_v_d_5', 'svd_v_d_6']] = \\\n",
    "                            pd.DataFrame(test_df_svd_v.features_d.values.tolist(), index= df_final_test.index)"
   ]
  },
  {
   "cell_type": "code",
   "execution_count": 26,
   "metadata": {},
   "outputs": [],
   "source": [
    "del train_df_svd_v\n",
    "del test_df_svd_v\n",
    "del U\n",
    "del V\n",
    "del sadj_dict"
   ]
  },
  {
   "cell_type": "code",
   "execution_count": 28,
   "metadata": {},
   "outputs": [
    {
     "data": {
      "text/plain": [
       "Index(['source_node', 'destination_node', 'jaccard_followers',\n",
       "       'jaccard_followees', 'num_followers_s', 'num_followees_s',\n",
       "       'num_followers_d', 'num_followees_d', 'inter_followers',\n",
       "       'inter_followees', 'adar_index', 'follows_back', 'same_comp',\n",
       "       'shortest_path', 'page_rank_s', 'page_rank_d', 'katz_s', 'katz_d',\n",
       "       'hubs_s', 'hubs_d', 'authorities_s', 'authorities_d', 'indicator_link',\n",
       "       'svd_u_s_1', 'svd_u_s_2', 'svd_u_s_3', 'svd_u_s_4', 'svd_u_s_5',\n",
       "       'svd_u_s_6', 'svd_u_d_1', 'svd_u_d_2', 'svd_u_d_3', 'svd_u_d_4',\n",
       "       'svd_u_d_5', 'svd_u_d_6', 'svd_v_s_1', 'svd_v_s_2', 'svd_v_s_3',\n",
       "       'svd_v_s_4', 'svd_v_s_5', 'svd_v_s_6', 'svd_v_d_1', 'svd_v_d_2',\n",
       "       'svd_v_d_3', 'svd_v_d_4', 'svd_v_d_5', 'svd_v_d_6'],\n",
       "      dtype='object')"
      ]
     },
     "execution_count": 28,
     "metadata": {},
     "output_type": "execute_result"
    }
   ],
   "source": [
    "#data frame\n",
    "df_final_train.columns"
   ]
  },
  {
   "cell_type": "markdown",
   "metadata": {},
   "source": [
    "Storing data in HDF format"
   ]
  },
  {
   "cell_type": "code",
   "execution_count": 29,
   "metadata": {},
   "outputs": [],
   "source": [
    "from pandas import HDFStore,DataFrame\n",
    "hdf1 = HDFStore('storage_final_df.h5')"
   ]
  },
  {
   "cell_type": "code",
   "execution_count": 30,
   "metadata": {},
   "outputs": [],
   "source": [
    "hdf1.put('train_df',df_final_train, format='table', data_columns=True)"
   ]
  },
  {
   "cell_type": "code",
   "execution_count": 31,
   "metadata": {},
   "outputs": [],
   "source": [
    "hdf1.put('test_df',df_final_test, format='table', data_columns=True)"
   ]
  },
  {
   "cell_type": "code",
   "execution_count": 32,
   "metadata": {},
   "outputs": [],
   "source": [
    "hdf1.close()"
   ]
  },
  {
   "cell_type": "code",
   "execution_count": 2,
   "metadata": {},
   "outputs": [],
   "source": [
    "#reading\n",
    "from pandas import read_hdf\n",
    "df_final_train = read_hdf('storage_final_df.h5', 'train_df',mode='r')\n",
    "df_final_test = read_hdf('storage_final_df.h5', 'test_df',mode='r')"
   ]
  },
  {
   "cell_type": "code",
   "execution_count": 3,
   "metadata": {},
   "outputs": [
    {
     "data": {
      "text/plain": [
       "Index(['source_node', 'destination_node', 'jaccard_followers',\n",
       "       'jaccard_followees', 'num_followers_s', 'num_followees_s',\n",
       "       'num_followers_d', 'num_followees_d', 'inter_followers',\n",
       "       'inter_followees', 'adar_index', 'follows_back', 'same_comp',\n",
       "       'shortest_path', 'page_rank_s', 'page_rank_d', 'katz_s', 'katz_d',\n",
       "       'hubs_s', 'hubs_d', 'authorities_s', 'authorities_d', 'indicator_link',\n",
       "       'svd_u_s_1', 'svd_u_s_2', 'svd_u_s_3', 'svd_u_s_4', 'svd_u_s_5',\n",
       "       'svd_u_s_6', 'svd_u_d_1', 'svd_u_d_2', 'svd_u_d_3', 'svd_u_d_4',\n",
       "       'svd_u_d_5', 'svd_u_d_6', 'svd_v_s_1', 'svd_v_s_2', 'svd_v_s_3',\n",
       "       'svd_v_s_4', 'svd_v_s_5', 'svd_v_s_6', 'svd_v_d_1', 'svd_v_d_2',\n",
       "       'svd_v_d_3', 'svd_v_d_4', 'svd_v_d_5', 'svd_v_d_6'],\n",
       "      dtype='object')"
      ]
     },
     "execution_count": 3,
     "metadata": {},
     "output_type": "execute_result"
    }
   ],
   "source": [
    "df_final_train.columns"
   ]
  },
  {
   "cell_type": "markdown",
   "metadata": {},
   "source": [
    "indicator_link is target varible. "
   ]
  },
  {
   "cell_type": "code",
   "execution_count": 4,
   "metadata": {},
   "outputs": [],
   "source": [
    "#dependent varible\n",
    "y_train = df_final_train.indicator_link \n",
    "y_test = df_final_test.indicator_link"
   ]
  },
  {
   "cell_type": "code",
   "execution_count": 5,
   "metadata": {},
   "outputs": [],
   "source": [
    "#dropping some columns\n",
    "df_final_train.drop(['source_node', 'destination_node','indicator_link'],axis=1,inplace=True)\n",
    "df_final_test.drop(['source_node', 'destination_node','indicator_link'],axis=1,inplace=True)"
   ]
  },
  {
   "cell_type": "code",
   "execution_count": 6,
   "metadata": {},
   "outputs": [
    {
     "data": {
      "text/plain": [
       "Index(['jaccard_followers', 'jaccard_followees', 'num_followers_s',\n",
       "       'num_followees_s', 'num_followers_d', 'num_followees_d',\n",
       "       'inter_followers', 'inter_followees', 'adar_index', 'follows_back',\n",
       "       'same_comp', 'shortest_path', 'page_rank_s', 'page_rank_d', 'katz_s',\n",
       "       'katz_d', 'hubs_s', 'hubs_d', 'authorities_s', 'authorities_d',\n",
       "       'svd_u_s_1', 'svd_u_s_2', 'svd_u_s_3', 'svd_u_s_4', 'svd_u_s_5',\n",
       "       'svd_u_s_6', 'svd_u_d_1', 'svd_u_d_2', 'svd_u_d_3', 'svd_u_d_4',\n",
       "       'svd_u_d_5', 'svd_u_d_6', 'svd_v_s_1', 'svd_v_s_2', 'svd_v_s_3',\n",
       "       'svd_v_s_4', 'svd_v_s_5', 'svd_v_s_6', 'svd_v_d_1', 'svd_v_d_2',\n",
       "       'svd_v_d_3', 'svd_v_d_4', 'svd_v_d_5', 'svd_v_d_6'],\n",
       "      dtype='object')"
      ]
     },
     "execution_count": 6,
     "metadata": {},
     "output_type": "execute_result"
    }
   ],
   "source": [
    "df_final_train.columns"
   ]
  },
  {
   "cell_type": "code",
   "execution_count": 7,
   "metadata": {},
   "outputs": [
    {
     "data": {
      "text/plain": [
       "Index(['jaccard_followers', 'jaccard_followees', 'num_followers_s',\n",
       "       'num_followees_s', 'num_followers_d', 'num_followees_d',\n",
       "       'inter_followers', 'inter_followees', 'adar_index', 'follows_back',\n",
       "       'same_comp', 'shortest_path', 'page_rank_s', 'page_rank_d', 'katz_s',\n",
       "       'katz_d', 'hubs_s', 'hubs_d', 'authorities_s', 'authorities_d',\n",
       "       'svd_u_s_1', 'svd_u_s_2', 'svd_u_s_3', 'svd_u_s_4', 'svd_u_s_5',\n",
       "       'svd_u_s_6', 'svd_u_d_1', 'svd_u_d_2', 'svd_u_d_3', 'svd_u_d_4',\n",
       "       'svd_u_d_5', 'svd_u_d_6', 'svd_v_s_1', 'svd_v_s_2', 'svd_v_s_3',\n",
       "       'svd_v_s_4', 'svd_v_s_5', 'svd_v_s_6', 'svd_v_d_1', 'svd_v_d_2',\n",
       "       'svd_v_d_3', 'svd_v_d_4', 'svd_v_d_5', 'svd_v_d_6'],\n",
       "      dtype='object')"
      ]
     },
     "execution_count": 7,
     "metadata": {},
     "output_type": "execute_result"
    }
   ],
   "source": [
    "df_final_test.columns"
   ]
  },
  {
   "cell_type": "code",
   "execution_count": 8,
   "metadata": {},
   "outputs": [
    {
     "name": "stdout",
     "output_type": "stream",
     "text": [
      "Train Shape (15100030, 44)\n",
      "Test Shape (3775008, 44)\n"
     ]
    }
   ],
   "source": [
    "print('Train Shape',df_final_train.shape)\n",
    "print('Test Shape',df_final_test.shape)"
   ]
  },
  {
   "cell_type": "markdown",
   "metadata": {},
   "source": [
    "### Machine learning Models"
   ]
  },
  {
   "cell_type": "code",
   "execution_count": 9,
   "metadata": {},
   "outputs": [],
   "source": [
    "from sklearn.ensemble import RandomForestClassifier\n",
    "from sklearn.metrics import f1_score"
   ]
  },
  {
   "cell_type": "code",
   "execution_count": 54,
   "metadata": {},
   "outputs": [
    {
     "name": "stdout",
     "output_type": "stream",
     "text": [
      "Estimators =  10 Train Score 0.909522473891829 test Score 0.9076068019574423\n",
      "Estimators =  50 Train Score 0.9183594774113881 test Score 0.9143837381083021\n",
      "Estimators =  100 Train Score 0.9214777800537078 test Score 0.9145669218732931\n",
      "Estimators =  250 Train Score 0.9219390207399591 test Score 0.9131197428892744\n",
      "Estimators =  450 Train Score 0.922078108477195 test Score 0.9079599330754532\n"
     ]
    },
    {
     "data": {
      "image/png": "[encoded data removed]",
      "text/plain": [
       "<matplotlib.figure.Figure at 0x14da91b675c0>"
      ]
     },
     "metadata": {},
     "output_type": "display_data"
    }
   ],
   "source": [
    "estimators = [10,50,100,250,450]\n",
    "train_scores = []\n",
    "test_scores = []\n",
    "for i in estimators:\n",
    "    clf = RandomForestClassifier(bootstrap=True, class_weight=None, criterion='gini',\n",
    "            max_depth=5, max_features='auto', max_leaf_nodes=None,\n",
    "            min_impurity_decrease=0.0, min_impurity_split=None,\n",
    "            min_samples_leaf=52, min_samples_split=120,\n",
    "            min_weight_fraction_leaf=0.0, n_estimators=i, n_jobs=-1,random_state=25,verbose=0,warm_start=False)\n",
    "    clf.fit(df_final_train,y_train)\n",
    "    train_sc = f1_score(y_train,clf.predict(df_final_train))\n",
    "    test_sc = f1_score(y_test,clf.predict(df_final_test))\n",
    "    test_scores.append(test_sc)\n",
    "    train_scores.append(train_sc)\n",
    "    print('Estimators = ',i,'Train Score',train_sc,'test Score',test_sc)\n",
    "plt.plot(estimators,train_scores,label='Train Score')\n",
    "plt.plot(estimators,test_scores,label='Test Score')\n",
    "plt.xlabel('Estimators')\n",
    "plt.ylabel('Score')\n",
    "plt.title('Estimators vs score at depth of 5')"
   ]
  },
  {
   "cell_type": "code",
   "execution_count": 37,
   "metadata": {},
   "outputs": [
    {
     "name": "stdout",
     "output_type": "stream",
     "text": [
      "depth =  3 Train Score 0.8949603900952848 test Score 0.8741052014942736\n",
      "depth =  9 Train Score 0.9360254429127565 test Score 0.9273782435689065\n",
      "depth =  11 Train Score 0.9382050540742228 test Score 0.9282749447838731\n",
      "depth =  15 Train Score 0.9500877674602457 test Score 0.9267378494825711\n",
      "depth =  20 Train Score 0.9529872894706812 test Score 0.9259543094148095\n",
      "depth =  35 Train Score 0.9535361101001514 test Score 0.9261583609015455\n",
      "depth =  50 Train Score 0.9534687885463979 test Score 0.9261677119534877\n",
      "depth =  70 Train Score 0.9534623667394676 test Score 0.9261637624878941\n",
      "depth =  130 Train Score 0.9534623667394676 test Score 0.9261637624878941\n"
     ]
    },
    {
     "data": {
      "image/png": "[encoded data removed]",
      "text/plain": [
       "<matplotlib.figure.Figure at 0x14c4f1ec3828>"
      ]
     },
     "metadata": {},
     "output_type": "display_data"
    }
   ],
   "source": [
    "depths = [3,9,11,15,20,35,50,70,130]\n",
    "train_scores = []\n",
    "test_scores = []\n",
    "for i in depths:\n",
    "    clf = RandomForestClassifier(bootstrap=True, class_weight=None, criterion='gini',\n",
    "            max_depth=i, max_features='auto', max_leaf_nodes=None,\n",
    "            min_impurity_decrease=0.0, min_impurity_split=None,\n",
    "            min_samples_leaf=52, min_samples_split=120,\n",
    "            min_weight_fraction_leaf=0.0, n_estimators=115, n_jobs=-1,random_state=25,verbose=0,warm_start=False)\n",
    "    clf.fit(df_final_train,y_train)\n",
    "    train_sc = f1_score(y_train,clf.predict(df_final_train))\n",
    "    test_sc = f1_score(y_test,clf.predict(df_final_test))\n",
    "    test_scores.append(test_sc)\n",
    "    train_scores.append(train_sc)\n",
    "    print('depth = ',i,'Train Score',train_sc,'test Score',test_sc)\n",
    "plt.plot(depths,train_scores,label='Train Score')\n",
    "plt.plot(depths,test_scores,label='Test Score')\n",
    "plt.xlabel('Depth')\n",
    "plt.ylabel('Score')\n",
    "plt.title('Depth vs score at depth of 5 at estimators = 115')\n",
    "plt.show()"
   ]
  },
  {
   "cell_type": "code",
   "execution_count": 11,
   "metadata": {},
   "outputs": [],
   "source": [
    "from sklearn.metrics import f1_score\n",
    "from sklearn.ensemble import RandomForestClassifier\n",
    "from sklearn.metrics import f1_score\n",
    "from sklearn.model_selection import RandomizedSearchCV\n",
    "from scipy.stats import randint as sp_randint\n",
    "from scipy.stats import uniform\n",
    "\n",
    "param_dist = {\"n_estimators\":sp_randint(105,125),\n",
    "              \"max_depth\": sp_randint(10,15),\n",
    "              \"min_samples_split\": sp_randint(110,190),\n",
    "              \"min_samples_leaf\": sp_randint(25,65)}\n",
    "\n",
    "clf = RandomForestClassifier(random_state=25,n_jobs=-1)\n",
    "\n",
    "rf_random = RandomizedSearchCV(clf, param_distributions=param_dist,\n",
    "                                   n_iter=5,cv=10,scoring='f1',random_state=25)\n",
    "\n",
    "rf_random.fit(df_final_train,y_train)\n",
    "\n",
    "import pickle\n",
    "pickle.dump(rf_random,open('rf_random_2.p','wb'))"
   ]
  },
  {
   "cell_type": "code",
   "execution_count": 12,
   "metadata": {},
   "outputs": [
    {
     "data": {
      "text/plain": [
       "[mean: 0.94717, std: 0.00143, params: {'max_depth': 14, 'min_samples_leaf': 51, 'min_samples_split': 125, 'n_estimators': 117},\n",
       " mean: 0.94104, std: 0.00162, params: {'max_depth': 12, 'min_samples_leaf': 33, 'min_samples_split': 138, 'n_estimators': 109},\n",
       " mean: 0.93796, std: 0.00125, params: {'max_depth': 11, 'min_samples_leaf': 56, 'min_samples_split': 179, 'n_estimators': 106},\n",
       " mean: 0.94485, std: 0.00120, params: {'max_depth': 13, 'min_samples_leaf': 49, 'min_samples_split': 165, 'n_estimators': 108},\n",
       " mean: 0.94772, std: 0.00114, params: {'max_depth': 14, 'min_samples_leaf': 28, 'min_samples_split': 111, 'n_estimators': 121}]"
      ]
     },
     "execution_count": 12,
     "metadata": {},
     "output_type": "execute_result"
    }
   ],
   "source": [
    "rf_random.grid_scores_"
   ]
  },
  {
   "cell_type": "code",
   "execution_count": 13,
   "metadata": {},
   "outputs": [
    {
     "name": "stdout",
     "output_type": "stream",
     "text": [
      "mean test scores [0.94716991 0.94103944 0.93796448 0.94485387 0.94772461]\n",
      "mean train scores [0.94719986 0.94105021 0.93797457 0.94487586 0.94775144]\n"
     ]
    }
   ],
   "source": [
    "print('mean test scores',rf_random.cv_results_['mean_test_score'])\n",
    "print('mean train scores',rf_random.cv_results_['mean_train_score'])"
   ]
  },
  {
   "cell_type": "code",
   "execution_count": 14,
   "metadata": {},
   "outputs": [
    {
     "data": {
      "text/plain": [
       "RandomForestClassifier(bootstrap=True, class_weight=None, criterion='gini',\n",
       "            max_depth=14, max_features='auto', max_leaf_nodes=None,\n",
       "            min_impurity_decrease=0.0, min_impurity_split=None,\n",
       "            min_samples_leaf=28, min_samples_split=111,\n",
       "            min_weight_fraction_leaf=0.0, n_estimators=121, n_jobs=-1,\n",
       "            oob_score=False, random_state=25, verbose=0, warm_start=False)"
      ]
     },
     "execution_count": 14,
     "metadata": {},
     "output_type": "execute_result"
    }
   ],
   "source": [
    "#best estimator\n",
    "rf_random.best_estimator_"
   ]
  },
  {
   "cell_type": "code",
   "execution_count": 15,
   "metadata": {},
   "outputs": [],
   "source": [
    "clf = RandomForestClassifier(bootstrap=True, class_weight=None, criterion='gini',\n",
    "            max_depth=14, max_features='auto', max_leaf_nodes=None,\n",
    "            min_impurity_decrease=0.0, min_impurity_split=None,\n",
    "            min_samples_leaf=28, min_samples_split=111,\n",
    "            min_weight_fraction_leaf=0.0, n_estimators=121, n_jobs=-1,\n",
    "            oob_score=False, random_state=25, verbose=0, warm_start=False)\n",
    "clf.fit(df_final_train,y_train)\n",
    "\n",
    "import pickle\n",
    "pickle.dump(clf,open('clf_rf.p','wb'))"
   ]
  },
  {
   "cell_type": "code",
   "execution_count": 22,
   "metadata": {},
   "outputs": [
    {
     "name": "stdout",
     "output_type": "stream",
     "text": [
      "Train f1 score 0.9483274727305785\n",
      "Test f1 score 0.926825556291337\n"
     ]
    }
   ],
   "source": [
    "print('Train f1 score',f1_score(y_train,y_pred_train))\n",
    "print('Test f1 score',f1_score(y_test,y_pred_test))"
   ]
  },
  {
   "cell_type": "code",
   "execution_count": 18,
   "metadata": {},
   "outputs": [],
   "source": [
    "from sklearn.metrics import confusion_matrix\n",
    "def plot_confusion_matrix(test_y, predict_y):\n",
    "    C = confusion_matrix(test_y, predict_y)\n",
    "    \n",
    "    A =(((C.T)/(C.sum(axis=1))).T)\n",
    "    \n",
    "    B =(C/C.sum(axis=0))\n",
    "    plt.figure(figsize=(20,4))\n",
    "    \n",
    "    labels = [0,1]\n",
    "    # representing A in heatmap format\n",
    "    cmap=sns.light_palette(\"blue\")\n",
    "    plt.subplot(1, 3, 1)\n",
    "    sns.heatmap(C, annot=True, cmap=cmap, fmt=\".3f\", xticklabels=labels, yticklabels=labels)\n",
    "    plt.xlabel('Predicted Class')\n",
    "    plt.ylabel('Original Class')\n",
    "    plt.title(\"Confusion matrix\")\n",
    "    \n",
    "    plt.subplot(1, 3, 2)\n",
    "    sns.heatmap(B, annot=True, cmap=cmap, fmt=\".3f\", xticklabels=labels, yticklabels=labels)\n",
    "    plt.xlabel('Predicted Class')\n",
    "    plt.ylabel('Original Class')\n",
    "    plt.title(\"Precision matrix\")\n",
    "    \n",
    "    plt.subplot(1, 3, 3)\n",
    "    # representing B in heatmap format\n",
    "    sns.heatmap(A, annot=True, cmap=cmap, fmt=\".3f\", xticklabels=labels, yticklabels=labels)\n",
    "    plt.xlabel('Predicted Class')\n",
    "    plt.ylabel('Original Class')\n",
    "    plt.title(\"Recall matrix\")\n",
    "    \n",
    "    plt.show()"
   ]
  },
  {
   "cell_type": "code",
   "execution_count": 18,
   "metadata": {},
   "outputs": [
    {
     "name": "stdout",
     "output_type": "stream",
     "text": [
      "Train confusion_matrix\n"
     ]
    },
    {
     "data": {
      "image/png": "[encoded data removed]",
      "text/plain": [
       "<matplotlib.figure.Figure at 0x148e158fad68>"
      ]
     },
     "metadata": {},
     "output_type": "display_data"
    },
    {
     "name": "stdout",
     "output_type": "stream",
     "text": [
      "Test confusion_matrix\n"
     ]
    },
    {
     "data": {
      "image/png": "[encoded data removed]",
      "text/plain": [
       "<matplotlib.figure.Figure at 0x148c501512e8>"
      ]
     },
     "metadata": {},
     "output_type": "display_data"
    }
   ],
   "source": [
    "y_pred_train = clf.predict(df_final_train)\n",
    "y_pred_test = clf.predict(df_final_test)\n",
    "print('Train confusion_matrix')\n",
    "plot_confusion_matrix(y_train,y_pred_train)\n",
    "print('Test confusion_matrix')\n",
    "plot_confusion_matrix(y_test,y_pred_test)"
   ]
  },
  {
   "cell_type": "code",
   "execution_count": 19,
   "metadata": {},
   "outputs": [
    {
     "data": {
      "image/png": "[encoded data removed]",
      "text/plain": [
       "<matplotlib.figure.Figure at 0x148e0b9124a8>"
      ]
     },
     "metadata": {},
     "output_type": "display_data"
    }
   ],
   "source": [
    "from sklearn.metrics import roc_curve, auc\n",
    "fpr,tpr,ths = roc_curve(y_test,y_pred_test)\n",
    "auc_sc = auc(fpr, tpr)\n",
    "plt.plot(fpr, tpr, color='navy',label='ROC curve (area = %0.2f)' % auc_sc)\n",
    "plt.xlabel('False Positive Rate')\n",
    "plt.ylabel('True Positive Rate')\n",
    "plt.title('Receiver operating characteristic with test data')\n",
    "plt.legend()\n",
    "plt.show()"
   ]
  },
  {
   "cell_type": "code",
   "execution_count": 21,
   "metadata": {},
   "outputs": [
    {
     "data": {
      "image/png": "[encoded data removed]",
      "text/plain": [
       "<matplotlib.figure.Figure at 0x148e0b8b6358>"
      ]
     },
     "metadata": {},
     "output_type": "display_data"
    }
   ],
   "source": [
    "features = df_final_train.columns\n",
    "importances = clf.feature_importances_\n",
    "indices = (np.argsort(importances))[-15:]\n",
    "plt.figure(figsize=(8,10))\n",
    "plt.title('Feature Importances')\n",
    "plt.barh(range(len(indices)), importances[indices], color='b', align='center')\n",
    "plt.yticks(range(len(indices)), [features[i] for i in indices])\n",
    "plt.xlabel('Relative Importance')\n",
    "plt.show()"
   ]
  },
  {
   "cell_type": "markdown",
   "metadata": {},
   "source": [
    "#### Some other features: "
   ]
  },
  {
   "cell_type": "markdown",
   "metadata": {},
   "source": [
    "#### Weight Features"
   ]
  },
  {
   "cell_type": "markdown",
   "metadata": {},
   "source": [
    "In order to determine the similarity of nodes, an edge weight value was calculated between nodes. Edge weight decreases as the neighbor count goes up. Intuitively, consider one million people following a celebrity on a social network then chances are most of them never met each other or the celebrity. On the other hand, if a user has 30 contacts in his/her social network, the chances are higher that many of them know each other. \n",
    "`credit` - Graph-based Features for Supervised Link Prediction\n",
    "William Cukierski, Benjamin Hamner, Bo Yang"
   ]
  },
  {
   "cell_type": "code",
   "execution_count": 2,
   "metadata": {},
   "outputs": [],
   "source": [
    "##reading data\n",
    "from pandas import read_hdf\n",
    "df_final_train = read_hdf('storage_final_df.h5', 'train_df',mode='r')\n",
    "df_final_test = read_hdf('storage_final_df.h5', 'test_df',mode='r')"
   ]
  },
  {
   "cell_type": "code",
   "execution_count": 38,
   "metadata": {},
   "outputs": [
    {
     "name": "stdout",
     "output_type": "stream",
     "text": [
      "Name: \n",
      "Type: DiGraph\n",
      "Number of nodes: 1780722\n",
      "Number of edges: 7550015\n",
      "Average in degree:   4.2399\n",
      "Average out degree:   4.2399\n"
     ]
    }
   ],
   "source": [
    "#Getting basic info from our data\n",
    "g=nx.read_edgelist('train_data.csv',delimiter=',',create_using=nx.DiGraph(),nodetype=int)\n",
    "print(nx.info(g))"
   ]
  },
  {
   "cell_type": "code",
   "execution_count": 39,
   "metadata": {},
   "outputs": [],
   "source": [
    "from tqdm import tqdm"
   ]
  },
  {
   "cell_type": "markdown",
   "metadata": {},
   "source": [
    "\\begin{equation}\n",
    "W = \\frac{1}{\\sqrt{1+|X|}}\n",
    "\\end{equation}"
   ]
  },
  {
   "cell_type": "markdown",
   "metadata": {},
   "source": [
    "it is directed graph so calculated Weighted in and Weighted out differently"
   ]
  },
  {
   "cell_type": "code",
   "execution_count": 40,
   "metadata": {},
   "outputs": [
    {
     "name": "stderr",
     "output_type": "stream",
     "text": [
      "100%|██████████| 1780722/1780722 [00:14<00:00, 122313.55it/s]\n"
     ]
    }
   ],
   "source": [
    "#weight for source and destination of each link\n",
    "Weight_in = []\n",
    "Weight_out = []\n",
    "for i in  tqdm(g.nodes()):\n",
    "    s1=set(g.predecessors(i))\n",
    "    w_in = 1.0/(np.sqrt(1+len(s1)))\n",
    "    s2=set(g.successors(i))\n",
    "    w_out = 1.0/(np.sqrt(1+len(s2)))\n",
    "    Weight_in.append((i,w_in))\n",
    "    Weight_out.append((i,w_out))"
   ]
  },
  {
   "cell_type": "code",
   "execution_count": 42,
   "metadata": {},
   "outputs": [],
   "source": [
    "#converting as dict to map DataFrame\n",
    "Weight_in_dict = dict(Weight_in)\n",
    "Weight_out_dict = dict(Weight_out)"
   ]
  },
  {
   "cell_type": "code",
   "execution_count": 45,
   "metadata": {},
   "outputs": [],
   "source": [
    "#saving to disk\n",
    "import pickle\n",
    "pickle.dump(Weight_in_dict,open('Weight_in_dict.p','wb'))\n",
    "pickle.dump(Weight_out_dict,open('Weight_out_dict.p','wb'))"
   ]
  },
  {
   "cell_type": "code",
   "execution_count": 6,
   "metadata": {},
   "outputs": [],
   "source": [
    "import pickle\n",
    "Weight_in_dict = pickle.load(open('Weight_in_dict.p','rb'))\n",
    "Weight_out_dict = pickle.load(open('Weight_out_dict.p','rb'))"
   ]
  },
  {
   "cell_type": "code",
   "execution_count": 7,
   "metadata": {},
   "outputs": [],
   "source": [
    "#for imputing\n",
    "mean_weight_in = np.mean(list(Weight_in_dict.values()))\n",
    "mean_weight_out = np.mean(list(Weight_out_dict.values()))"
   ]
  },
  {
   "cell_type": "code",
   "execution_count": 8,
   "metadata": {},
   "outputs": [],
   "source": [
    "#mapping to pandas train\n",
    "df_final_train['Weight_in'] = df_final_train.destination_node.apply(lambda x: Weight_in_dict.get(x,mean_weight_in))\n",
    "df_final_train['Weight_out'] = df_final_train.source_node.apply(lambda x: Weight_out_dict.get(x,mean_weight_out))\n",
    "#mapping to pandas test\n",
    "df_final_test['Weight_in'] = df_final_test.destination_node.apply(lambda x: Weight_in_dict.get(x,mean_weight_in))\n",
    "df_final_test['Weight_out'] = df_final_test.source_node.apply(lambda x: Weight_out_dict.get(x,mean_weight_out))"
   ]
  },
  {
   "cell_type": "markdown",
   "metadata": {},
   "source": [
    "From above derived some other features"
   ]
  },
  {
   "cell_type": "code",
   "execution_count": 9,
   "metadata": {},
   "outputs": [],
   "source": [
    "#some features engineerings on tose in and out weigts\n",
    "df_final_train['Weight_f1'] = df_final_train.Weight_in + df_final_train.Weight_out\n",
    "df_final_train['Weight_f2'] = df_final_train.Weight_in * df_final_train.Weight_out\n",
    "df_final_train['Weight_f3'] = (2*df_final_train.Weight_in + 1*df_final_train.Weight_out)\n",
    "df_final_train['Weight_f4'] = (1*df_final_train.Weight_in + 2*df_final_train.Weight_out)\n",
    "\n",
    "#some features engineerings on tose in and out weigts\n",
    "df_final_test['Weight_f1'] = df_final_test.Weight_in + df_final_test.Weight_out\n",
    "df_final_test['Weight_f2'] = df_final_test.Weight_in * df_final_test.Weight_out\n",
    "df_final_test['Weight_f3'] = (2*df_final_test.Weight_in + 1*df_final_test.Weight_out)\n",
    "df_final_test['Weight_f4'] = (1*df_final_test.Weight_in + 2*df_final_test.Weight_out)"
   ]
  },
  {
   "cell_type": "code",
   "execution_count": 11,
   "metadata": {},
   "outputs": [
    {
     "data": {
      "text/plain": [
       "Index(['source_node', 'destination_node', 'jaccard_followers',\n",
       "       'jaccard_followees', 'num_followers_s', 'num_followees_s',\n",
       "       'num_followers_d', 'num_followees_d', 'inter_followers',\n",
       "       'inter_followees', 'adar_index', 'follows_back', 'same_comp',\n",
       "       'shortest_path', 'page_rank_s', 'page_rank_d', 'katz_s', 'katz_d',\n",
       "       'hubs_s', 'hubs_d', 'authorities_s', 'authorities_d', 'indicator_link',\n",
       "       'svd_u_s_1', 'svd_u_s_2', 'svd_u_s_3', 'svd_u_s_4', 'svd_u_s_5',\n",
       "       'svd_u_s_6', 'svd_u_d_1', 'svd_u_d_2', 'svd_u_d_3', 'svd_u_d_4',\n",
       "       'svd_u_d_5', 'svd_u_d_6', 'svd_v_s_1', 'svd_v_s_2', 'svd_v_s_3',\n",
       "       'svd_v_s_4', 'svd_v_s_5', 'svd_v_s_6', 'svd_v_d_1', 'svd_v_d_2',\n",
       "       'svd_v_d_3', 'svd_v_d_4', 'svd_v_d_5', 'svd_v_d_6', 'Weight_in',\n",
       "       'Weight_out', 'Weight_f1', 'Weight_f2', 'Weight_f3', 'Weight_f4'],\n",
       "      dtype='object')"
      ]
     },
     "execution_count": 11,
     "metadata": {},
     "output_type": "execute_result"
    }
   ],
   "source": [
    "df_final_train.columns"
   ]
  },
  {
   "cell_type": "code",
   "execution_count": 13,
   "metadata": {},
   "outputs": [],
   "source": [
    "del Weight_in_dict\n",
    "del Weight_out_dict"
   ]
  },
  {
   "cell_type": "markdown",
   "metadata": {},
   "source": [
    "#### Some Other SVD Features:"
   ]
  },
  {
   "cell_type": "code",
   "execution_count": 14,
   "metadata": {},
   "outputs": [
    {
     "data": {
      "text/plain": [
       "<1780722x1780722 sparse matrix of type '<class 'numpy.float64'>'\n",
       "\twith 7550015 stored elements in Compressed Sparse Row format>"
      ]
     },
     "execution_count": 14,
     "metadata": {},
     "output_type": "execute_result"
    }
   ],
   "source": [
    "#adj matrix\n",
    "g=nx.read_edgelist('train_data.csv',delimiter=',',create_using=nx.DiGraph(),nodetype=int)\n",
    "Adj = nx.adjacency_matrix(g,nodelist=sorted(g.nodes()))\n",
    "Adj = Adj.asfptype()\n",
    "Adj"
   ]
  },
  {
   "cell_type": "code",
   "execution_count": 15,
   "metadata": {},
   "outputs": [],
   "source": [
    "#nodes list sorted\n",
    "nodes_list = list(g.nodes())\n",
    "nodes_list = sorted(nodes_list)\n",
    "#node and index as key value pairs, i need it because getting index from list is O(n) order\n",
    "# but from dict its O(1)\n",
    "nodes_list_dict = {k:v for v,k in enumerate(nodes_list)}"
   ]
  },
  {
   "cell_type": "code",
   "execution_count": 16,
   "metadata": {},
   "outputs": [],
   "source": [
    "# deleting because of sapce constraint\n",
    "del g\n",
    "del nodes_list"
   ]
  },
  {
   "cell_type": "code",
   "execution_count": 17,
   "metadata": {},
   "outputs": [],
   "source": [
    "### svd decomposition\n",
    "from sklearn.decomposition import TruncatedSVD\n",
    "svd = TruncatedSVD(n_components=200, n_iter=7, random_state=42)\n",
    "svd_mat = svd.fit_transform(Adj)"
   ]
  },
  {
   "cell_type": "code",
   "execution_count": 18,
   "metadata": {},
   "outputs": [],
   "source": [
    "# deleting because of sapce constraint\n",
    "del Adj"
   ]
  },
  {
   "cell_type": "code",
   "execution_count": 19,
   "metadata": {},
   "outputs": [],
   "source": [
    "import pickle\n",
    "pickle.dump(svd_mat,open('svd_mat.p','wb'))\n",
    "pickle.dump(nodes_list_dict,open('nodes_list_dict.p','wb'))"
   ]
  },
  {
   "cell_type": "code",
   "execution_count": 5,
   "metadata": {},
   "outputs": [],
   "source": [
    "import pickle\n",
    "svd_mat = pickle.load(open('svd_mat.p','rb'))\n",
    "nodes_list_dict = pickle.load(open('nodes_list_dict.p','rb'))"
   ]
  },
  {
   "cell_type": "code",
   "execution_count": 21,
   "metadata": {},
   "outputs": [
    {
     "name": "stderr",
     "output_type": "stream",
     "text": [
      "100%|██████████| 15100030/15100030 [16:53<00:00, 14894.68it/s]\n"
     ]
    }
   ],
   "source": [
    "#for Train\n",
    "### SVD dot product of source and destination vectores\n",
    "### SVD mean of source and destination vector\n",
    "from tqdm import tqdm\n",
    "svd_dot = []\n",
    "svd_mean_dest = []\n",
    "svd_mean_source = []\n",
    "for idx,temp_series in tqdm(df_final_train.iterrows(),total=df_final_train.shape[0]):\n",
    "    in_idx = nodes_list_dict.get(temp_series.destination_node,'X')\n",
    "    out_idx = nodes_list_dict.get(temp_series.source_node,'X')\n",
    "    if in_idx != 'X':\n",
    "        #mean of total svd vector\n",
    "        svd_mean_dest.append(np.squeeze(np.mean(svd_mat[in_idx,:])))\n",
    "    else:\n",
    "        svd_mean_dest.append(0)\n",
    "    \n",
    "    if out_idx != 'X':\n",
    "        #mean of total svd vector\n",
    "        svd_mean_source.append(np.squeeze(np.mean(svd_mat[out_idx,:])))\n",
    "    else:\n",
    "        svd_mean_source.append(0)\n",
    "    \n",
    "    if ( in_idx != 'X' and out_idx != 'X' ):\n",
    "        #dot product of svd vector of Source and destination\n",
    "        svd_temp = np.dot(svd_mat[in_idx,:],svd_mat[out_idx,:])\n",
    "        svd_dot.append(svd_temp)\n",
    "    else:\n",
    "        svd_dot.append(0)"
   ]
  },
  {
   "cell_type": "code",
   "execution_count": 22,
   "metadata": {},
   "outputs": [],
   "source": [
    "import pickle\n",
    "pickle.dump(svd_dot,open('svd_dot_train.p','wb'))\n",
    "pickle.dump(svd_mean_source,open('svd_mean_source_train.p','wb'))\n",
    "pickle.dump(svd_mean_dest,open('svd_mean_dest_train.p','wb'))"
   ]
  },
  {
   "cell_type": "code",
   "execution_count": 23,
   "metadata": {},
   "outputs": [],
   "source": [
    "###mappng above features into \n",
    "df_final_train['svd_dot'] = svd_dot\n",
    "df_final_train['svd_mean_s'] = svd_mean_source\n",
    "df_final_train['svd_mean_d'] = svd_mean_dest"
   ]
  },
  {
   "cell_type": "code",
   "execution_count": 24,
   "metadata": {},
   "outputs": [],
   "source": [
    "del svd_dot\n",
    "del svd_mean_dest\n",
    "del svd_mean_source"
   ]
  },
  {
   "cell_type": "code",
   "execution_count": 25,
   "metadata": {},
   "outputs": [
    {
     "name": "stderr",
     "output_type": "stream",
     "text": [
      "100%|██████████| 3775008/3775008 [04:14<00:00, 14830.45it/s]\n"
     ]
    }
   ],
   "source": [
    "###for test\n",
    "### SVD dot product of source and destination vectores\n",
    "### SVD mean of source and destination vector\n",
    "from tqdm import tqdm\n",
    "svd_dot = []\n",
    "svd_mean_dest = []\n",
    "svd_mean_source = []\n",
    "for idx,temp_series in tqdm(df_final_test.iterrows(),total=df_final_test.shape[0]):\n",
    "    in_idx = nodes_list_dict.get(temp_series.destination_node,'X')\n",
    "    out_idx = nodes_list_dict.get(temp_series.source_node,'X')\n",
    "    if in_idx != 'X':\n",
    "        svd_mean_dest.append(np.squeeze(np.mean(svd_mat[in_idx,:])))\n",
    "    else:\n",
    "        svd_mean_dest.append(0)\n",
    "    \n",
    "    if out_idx != 'X':\n",
    "        svd_mean_source.append(np.squeeze(np.mean(svd_mat[out_idx,:])))\n",
    "    else:\n",
    "        svd_mean_source.append(0)\n",
    "    \n",
    "    if ( in_idx != 'X' and out_idx != 'X' ):\n",
    "        svd_temp = np.dot(svd_mat[in_idx,:],svd_mat[out_idx,:])\n",
    "        svd_dot.append(svd_temp)\n",
    "    else:\n",
    "        svd_dot.append(0)"
   ]
  },
  {
   "cell_type": "code",
   "execution_count": 26,
   "metadata": {},
   "outputs": [],
   "source": [
    "import pickle\n",
    "pickle.dump(svd_dot,open('svd_dot_test.p','wb'))\n",
    "pickle.dump(svd_mean_source,open('svd_mean_source_test.p','wb'))\n",
    "pickle.dump(svd_mean_dest,open('svd_mean_dest_test.p','wb'))"
   ]
  },
  {
   "cell_type": "code",
   "execution_count": 27,
   "metadata": {},
   "outputs": [],
   "source": [
    "###mappng above features into \n",
    "df_final_test['svd_dot'] = svd_dot\n",
    "df_final_test['svd_mean_s'] = svd_mean_source\n",
    "df_final_test['svd_mean_d'] = svd_mean_dest"
   ]
  },
  {
   "cell_type": "code",
   "execution_count": 28,
   "metadata": {},
   "outputs": [],
   "source": [
    "del svd_dot\n",
    "del svd_mean_dest\n",
    "del svd_mean_source\n",
    "del nodes_list_dict"
   ]
  },
  {
   "cell_type": "code",
   "execution_count": 32,
   "metadata": {},
   "outputs": [],
   "source": [
    "#saving to db\n",
    "from pandas import HDFStore,DataFrame\n",
    "hdf2 = HDFStore('storage_all_features.h5')"
   ]
  },
  {
   "cell_type": "code",
   "execution_count": 33,
   "metadata": {},
   "outputs": [],
   "source": [
    "#saving to disk \n",
    "hdf2.put('train_df',df_final_train, format='table', data_columns=True)"
   ]
  },
  {
   "cell_type": "code",
   "execution_count": 34,
   "metadata": {},
   "outputs": [],
   "source": [
    "#saving to disk\n",
    "hdf2.put('test_df',df_final_test, format='table', data_columns=True)"
   ]
  },
  {
   "cell_type": "code",
   "execution_count": 35,
   "metadata": {},
   "outputs": [],
   "source": [
    "hdf2.close()"
   ]
  },
  {
   "cell_type": "code",
   "execution_count": 2,
   "metadata": {},
   "outputs": [],
   "source": [
    "## reading\n",
    "from pandas import read_hdf\n",
    "df_final_train = read_hdf('storage_all_features.h5', 'train_df',mode='r')\n",
    "df_final_test = read_hdf('storage_all_features.h5', 'test_df',mode='r')"
   ]
  },
  {
   "cell_type": "code",
   "execution_count": 3,
   "metadata": {},
   "outputs": [],
   "source": [
    "#dependent varible\n",
    "y_train = df_final_train.indicator_link \n",
    "y_test = df_final_test.indicator_link"
   ]
  },
  {
   "cell_type": "code",
   "execution_count": 4,
   "metadata": {},
   "outputs": [],
   "source": [
    "#dropping some columns\n",
    "df_final_train.drop(['source_node', 'destination_node','indicator_link'],axis=1,inplace=True)\n",
    "df_final_test.drop(['source_node', 'destination_node','indicator_link'],axis=1,inplace=True)"
   ]
  },
  {
   "cell_type": "code",
   "execution_count": 5,
   "metadata": {},
   "outputs": [
    {
     "data": {
      "text/plain": [
       "Index(['jaccard_followers', 'jaccard_followees', 'num_followers_s',\n",
       "       'num_followees_s', 'num_followers_d', 'num_followees_d',\n",
       "       'inter_followers', 'inter_followees', 'adar_index', 'follows_back',\n",
       "       'same_comp', 'shortest_path', 'page_rank_s', 'page_rank_d', 'katz_s',\n",
       "       'katz_d', 'hubs_s', 'hubs_d', 'authorities_s', 'authorities_d',\n",
       "       'svd_u_s_1', 'svd_u_s_2', 'svd_u_s_3', 'svd_u_s_4', 'svd_u_s_5',\n",
       "       'svd_u_s_6', 'svd_u_d_1', 'svd_u_d_2', 'svd_u_d_3', 'svd_u_d_4',\n",
       "       'svd_u_d_5', 'svd_u_d_6', 'svd_v_s_1', 'svd_v_s_2', 'svd_v_s_3',\n",
       "       'svd_v_s_4', 'svd_v_s_5', 'svd_v_s_6', 'svd_v_d_1', 'svd_v_d_2',\n",
       "       'svd_v_d_3', 'svd_v_d_4', 'svd_v_d_5', 'svd_v_d_6', 'Weight_in',\n",
       "       'Weight_out', 'Weight_f1', 'Weight_f2', 'Weight_f3', 'Weight_f4',\n",
       "       'svd_dot', 'svd_mean_s', 'svd_mean_d'],\n",
       "      dtype='object')"
      ]
     },
     "execution_count": 5,
     "metadata": {},
     "output_type": "execute_result"
    }
   ],
   "source": [
    "df_final_train.columns"
   ]
  },
  {
   "cell_type": "code",
   "execution_count": 6,
   "metadata": {},
   "outputs": [
    {
     "data": {
      "text/plain": [
       "Index(['jaccard_followers', 'jaccard_followees', 'num_followers_s',\n",
       "       'num_followees_s', 'num_followers_d', 'num_followees_d',\n",
       "       'inter_followers', 'inter_followees', 'adar_index', 'follows_back',\n",
       "       'same_comp', 'shortest_path', 'page_rank_s', 'page_rank_d', 'katz_s',\n",
       "       'katz_d', 'hubs_s', 'hubs_d', 'authorities_s', 'authorities_d',\n",
       "       'svd_u_s_1', 'svd_u_s_2', 'svd_u_s_3', 'svd_u_s_4', 'svd_u_s_5',\n",
       "       'svd_u_s_6', 'svd_u_d_1', 'svd_u_d_2', 'svd_u_d_3', 'svd_u_d_4',\n",
       "       'svd_u_d_5', 'svd_u_d_6', 'svd_v_s_1', 'svd_v_s_2', 'svd_v_s_3',\n",
       "       'svd_v_s_4', 'svd_v_s_5', 'svd_v_s_6', 'svd_v_d_1', 'svd_v_d_2',\n",
       "       'svd_v_d_3', 'svd_v_d_4', 'svd_v_d_5', 'svd_v_d_6', 'Weight_in',\n",
       "       'Weight_out', 'Weight_f1', 'Weight_f2', 'Weight_f3', 'Weight_f4',\n",
       "       'svd_dot', 'svd_mean_s', 'svd_mean_d'],\n",
       "      dtype='object')"
      ]
     },
     "execution_count": 6,
     "metadata": {},
     "output_type": "execute_result"
    }
   ],
   "source": [
    "df_final_test.columns"
   ]
  },
  {
   "cell_type": "code",
   "execution_count": 7,
   "metadata": {},
   "outputs": [
    {
     "name": "stdout",
     "output_type": "stream",
     "text": [
      "depth =  3 Train Score 0.924170984571304 test Score 0.9152763777461715\n",
      "depth =  11 Train Score 0.9503796519459076 test Score 0.924220959419516\n",
      "depth =  15 Train Score 0.9590027669458241 test Score 0.9245986302407551\n",
      "depth =  25 Train Score 0.9630456634334905 test Score 0.9236317354926886\n",
      "depth =  35 Train Score 0.9632218097809785 test Score 0.9236077277146334\n",
      "depth =  50 Train Score 0.9632496325083799 test Score 0.9233378118527031\n",
      "depth =  100 Train Score 0.9632496325083799 test Score 0.9233378118527031\n"
     ]
    },
    {
     "data": {
      "image/png": "[encoded data removed]",
      "text/plain": [
       "<matplotlib.figure.Figure at 0x1526bbd367b8>"
      ]
     },
     "metadata": {},
     "output_type": "display_data"
    }
   ],
   "source": [
    "depths = [3,11,15,25,35,50,100]\n",
    "train_scores = []\n",
    "test_scores = []\n",
    "\n",
    "for i in depths:\n",
    "    clf = RandomForestClassifier(bootstrap=True, class_weight=None, criterion='gini',\n",
    "            max_depth=i, max_features=11, max_leaf_nodes=None,\n",
    "            min_impurity_decrease=0.0, min_impurity_split=None,\n",
    "            min_samples_leaf=52, min_samples_split=120,\n",
    "            min_weight_fraction_leaf=0.0, n_estimators=115, n_jobs=-1,random_state=25,verbose=0,warm_start=False)\n",
    "    clf.fit(df_final_train,y_train)\n",
    "    train_sc = f1_score(y_train,clf.predict(df_final_train))\n",
    "    test_sc = f1_score(y_test,clf.predict(df_final_test))\n",
    "    test_scores.append(test_sc)\n",
    "    train_scores.append(train_sc)\n",
    "    print('depth = ',i,'Train Score',train_sc,'test Score',test_sc)\n",
    "plt.plot(depths,train_scores,label='Train Score')\n",
    "plt.plot(depths,test_scores,label='Test Score')\n",
    "plt.xlabel('Depth')\n",
    "plt.ylabel('Score')\n",
    "plt.title('Depth vs score at depth of 5 at estimators = 115')\n",
    "plt.show()"
   ]
  },
  {
   "cell_type": "code",
   "execution_count": 8,
   "metadata": {},
   "outputs": [],
   "source": [
    "param_dist = {\"n_estimators\":sp_randint(105,125),\n",
    "              \"max_depth\": sp_randint(10,17),\n",
    "              \"min_samples_split\": sp_randint(110,190),\n",
    "              \"min_samples_leaf\": sp_randint(25,65),\n",
    "             \"max_features\":['auto',11]}\n",
    "\n",
    "clf = RandomForestClassifier(random_state=25,n_jobs=-1)\n",
    "\n",
    "rf_random = RandomizedSearchCV(clf,param_distributions=param_dist,\n",
    "                                   n_iter=5,cv=10,scoring='f1',random_state=25)\n",
    "\n",
    "rf_random.fit(df_final_train,y_train)\n",
    "\n",
    "print(rf_random.grid_scores_)\n",
    "\n",
    "print()\n",
    "\n",
    "print(rf_random.cv_results_)\n",
    "\n",
    "import pickle\n",
    "pickle.dump(rf_random,open('rf_random_final.p','wb'))"
   ]
  },
  {
   "cell_type": "code",
   "execution_count": 10,
   "metadata": {},
   "outputs": [
    {
     "data": {
      "text/plain": [
       "[mean: 0.95251, std: 0.00109, params: {'max_depth': 14, 'max_features': 'auto', 'min_samples_leaf': 51, 'min_samples_split': 125, 'n_estimators': 117},\n",
       " mean: 0.95499, std: 0.00083, params: {'max_depth': 12, 'max_features': 11, 'min_samples_leaf': 33, 'min_samples_split': 138, 'n_estimators': 109},\n",
       " mean: 0.95229, std: 0.00054, params: {'max_depth': 11, 'max_features': 11, 'min_samples_leaf': 56, 'min_samples_split': 179, 'n_estimators': 106},\n",
       " mean: 0.95015, std: 0.00092, params: {'max_depth': 13, 'max_features': 'auto', 'min_samples_leaf': 28, 'min_samples_split': 155, 'n_estimators': 108},\n",
       " mean: 0.94129, std: 0.00128, params: {'max_depth': 11, 'max_features': 'auto', 'min_samples_leaf': 56, 'min_samples_split': 158, 'n_estimators': 120}]"
      ]
     },
     "execution_count": 10,
     "metadata": {},
     "output_type": "execute_result"
    }
   ],
   "source": [
    "rf_random.grid_scores_"
   ]
  },
  {
   "cell_type": "code",
   "execution_count": 11,
   "metadata": {},
   "outputs": [
    {
     "name": "stdout",
     "output_type": "stream",
     "text": [
      "mean test scores [0.95250539 0.95498837 0.95228519 0.95015108 0.94129217]\n",
      "mean train scores [0.95258963 0.95503648 0.95233589 0.95022736 0.94129525]\n"
     ]
    }
   ],
   "source": [
    "print('mean test scores',rf_random.cv_results_['mean_test_score'])\n",
    "print('mean train scores',rf_random.cv_results_['mean_train_score'])"
   ]
  },
  {
   "cell_type": "code",
   "execution_count": 12,
   "metadata": {},
   "outputs": [
    {
     "data": {
      "text/plain": [
       "RandomForestClassifier(bootstrap=True, class_weight=None, criterion='gini',\n",
       "            max_depth=12, max_features=11, max_leaf_nodes=None,\n",
       "            min_impurity_decrease=0.0, min_impurity_split=None,\n",
       "            min_samples_leaf=33, min_samples_split=138,\n",
       "            min_weight_fraction_leaf=0.0, n_estimators=109, n_jobs=-1,\n",
       "            oob_score=False, random_state=25, verbose=0, warm_start=False)"
      ]
     },
     "execution_count": 12,
     "metadata": {},
     "output_type": "execute_result"
    }
   ],
   "source": [
    "rf_random.best_estimator_"
   ]
  },
  {
   "cell_type": "code",
   "execution_count": 13,
   "metadata": {},
   "outputs": [],
   "source": [
    "clf_1 =  RandomForestClassifier(bootstrap=True, class_weight=None, criterion='gini',\n",
    "            max_depth=12, max_features=11, max_leaf_nodes=None,\n",
    "            min_impurity_decrease=0.0, min_impurity_split=None,\n",
    "            min_samples_leaf=33, min_samples_split=138,\n",
    "            min_weight_fraction_leaf=0.0, n_estimators=109, n_jobs=-1,\n",
    "            oob_score=False, random_state=25, verbose=0, warm_start=False)\n",
    "clf_1.fit(df_final_train,y_train)\n",
    "\n",
    "import pickle\n",
    "pickle.dump(clf_1,open('clf2_1.p','wb'))"
   ]
  },
  {
   "cell_type": "code",
   "execution_count": 6,
   "metadata": {},
   "outputs": [],
   "source": [
    "clf_1 = pickle.load(open('/home/u19292/clf2_1.p','rb'))"
   ]
  },
  {
   "cell_type": "code",
   "execution_count": 7,
   "metadata": {},
   "outputs": [],
   "source": [
    "y_train_pred1 = clf_1.predict(df_final_train)\n",
    "y_test_pred1 = clf_1.predict(df_final_test)"
   ]
  },
  {
   "cell_type": "code",
   "execution_count": 29,
   "metadata": {},
   "outputs": [
    {
     "name": "stdout",
     "output_type": "stream",
     "text": [
      "Train f1 score 0.9550800890664483\n",
      "Test f1 score 0.9243521371699511\n"
     ]
    }
   ],
   "source": [
    "from sklearn.metrics import f1_score\n",
    "print('Train f1 score',f1_score(y_train,y_train_pred1))\n",
    "print('Test f1 score',f1_score(y_test,y_test_pred1))"
   ]
  },
  {
   "cell_type": "code",
   "execution_count": 8,
   "metadata": {},
   "outputs": [],
   "source": [
    "df_final_test1 = read_hdf('storage_all_features.h5', 'test_df',mode='r')"
   ]
  },
  {
   "cell_type": "code",
   "execution_count": 9,
   "metadata": {},
   "outputs": [],
   "source": [
    "train_nodes_pos = pickle.load(open('train_nodes_pos.p','rb'))"
   ]
  },
  {
   "cell_type": "code",
   "execution_count": 32,
   "metadata": {},
   "outputs": [
    {
     "name": "stderr",
     "output_type": "stream",
     "text": [
      "100%|██████████| 3775008/3775008 [02:07<00:00, 29524.56it/s]\n"
     ]
    }
   ],
   "source": [
    "from tqdm import tqdm\n",
    "count_error  = 0\n",
    "count_cold_err = 0\n",
    "total_cold_nodes = 0\n",
    "for i,row in tqdm(df_final_test1.iterrows(),total=df_final_test1.shape[0]):\n",
    "    if row['source_node'] not in train_nodes_pos or row['destination_node'] not in train_nodes_pos:\n",
    "        total_cold_nodes = total_cold_nodes + 1    \n",
    "        if y_test.values[i] != y_test_pred1[i]:\n",
    "            count_error = count_error + 1\n",
    "            count_cold_err = count_cold_err + 1\n",
    "    else:\n",
    "        if y_test.values[i] != y_test_pred1[i]:\n",
    "            count_error = count_error + 1 "
   ]
  },
  {
   "cell_type": "code",
   "execution_count": 35,
   "metadata": {},
   "outputs": [
    {
     "name": "stdout",
     "output_type": "stream",
     "text": [
      "Length of Total Test data 3775008\n",
      "Total no of errors in test data 271739\n",
      "Leghth of test data where any one of nodes are not there in Train 253173\n",
      "Total no of error Where any one of nodes are not there in Train 91728\n"
     ]
    }
   ],
   "source": [
    "print('Length of Total Test data',len(df_final_test1))\n",
    "print('Total no of errors in test data',count_error)\n",
    "print('Leghth of test data where any one of nodes are not there in Train',total_cold_nodes)\n",
    "print('Total no of error Where any one of nodes are not there in Train',count_cold_err)"
   ]
  },
  {
   "cell_type": "code",
   "execution_count": 41,
   "metadata": {},
   "outputs": [
    {
     "name": "stdout",
     "output_type": "stream",
     "text": [
      "Total Error is 7.198368851138859%\n",
      "Error Where nodes not in Train Data is 2.429875645296646%\n"
     ]
    }
   ],
   "source": [
    "print('Total Error is {}%'.format(count_error/len(df_final_test1)*100))\n",
    "print('Error Where nodes not in Train Data is {}%'.format(count_cold_err/len(df_final_test1)*100))"
   ]
  },
  {
   "cell_type": "code",
   "execution_count": 30,
   "metadata": {},
   "outputs": [
    {
     "name": "stdout",
     "output_type": "stream",
     "text": [
      "Train confusion_matrix\n"
     ]
    },
    {
     "data": {
      "image/png": "[encoded data removed]",
      "text/plain": [
       "<matplotlib.figure.Figure at 0x1528f039e940>"
      ]
     },
     "metadata": {},
     "output_type": "display_data"
    },
    {
     "name": "stdout",
     "output_type": "stream",
     "text": [
      "Test confusion_matrix\n"
     ]
    },
    {
     "data": {
      "image/png": "[encoded data removed]",
      "text/plain": [
       "<matplotlib.figure.Figure at 0x1528f039e4e0>"
      ]
     },
     "metadata": {},
     "output_type": "display_data"
    }
   ],
   "source": [
    "print('Train confusion_matrix')\n",
    "plot_confusion_matrix(y_train,y_train_pred1)\n",
    "print('Test confusion_matrix')\n",
    "plot_confusion_matrix(y_test,y_test_pred1)"
   ]
  },
  {
   "cell_type": "code",
   "execution_count": 31,
   "metadata": {},
   "outputs": [
    {
     "data": {
      "image/png": "[encoded data removed]",
      "text/plain": [
       "<matplotlib.figure.Figure at 0x1528efc4ac18>"
      ]
     },
     "metadata": {},
     "output_type": "display_data"
    }
   ],
   "source": [
    "from sklearn.metrics import roc_curve, auc\n",
    "fpr,tpr,ths = roc_curve(y_test,y_test_pred1)\n",
    "auc_sc = auc(fpr, tpr)\n",
    "plt.plot(fpr, tpr, color='navy',label='ROC curve (area = %0.2f)' % auc_sc)\n",
    "plt.xlabel('False Positive Rate')\n",
    "plt.ylabel('True Positive Rate')\n",
    "plt.title('Receiver operating characteristic with test data')\n",
    "plt.legend()\n",
    "plt.show()"
   ]
  },
  {
   "cell_type": "code",
   "execution_count": 32,
   "metadata": {},
   "outputs": [
    {
     "data": {
      "image/png": "[encoded data removed]",
      "text/plain": [
       "<matplotlib.figure.Figure at 0x1528f07b8dd8>"
      ]
     },
     "metadata": {},
     "output_type": "display_data"
    }
   ],
   "source": [
    "features = df_final_train.columns\n",
    "importances = clf_1.feature_importances_\n",
    "indices = (np.argsort(importances))[-25:]\n",
    "plt.figure(figsize=(10,12))\n",
    "plt.title('Feature Importances')\n",
    "plt.barh(range(len(indices)), importances[indices], color='r', align='center')\n",
    "plt.yticks(range(len(indices)), [features[i] for i in indices])\n",
    "plt.xlabel('Relative Importance')\n",
    "plt.show()"
   ]
  },
  {
   "cell_type": "markdown",
   "metadata": {},
   "source": [
    "improved some score and we can observe that Weight features and svd dot produts is somewhat better features than so many features. "
   ]
  },
  {
   "cell_type": "code",
   "execution_count": 34,
   "metadata": {},
   "outputs": [
    {
     "data": {
      "text/html": [
       "<div>\n",
       "<style scoped>\n",
       "    .dataframe tbody tr th:only-of-type {\n",
       "        vertical-align: middle;\n",
       "    }\n",
       "\n",
       "    .dataframe tbody tr th {\n",
       "        vertical-align: top;\n",
       "    }\n",
       "\n",
       "    .dataframe thead th {\n",
       "        text-align: right;\n",
       "    }\n",
       "</style>\n",
       "<table border=\"1\" class=\"dataframe\">\n",
       "  <thead>\n",
       "    <tr style=\"text-align: right;\">\n",
       "      <th></th>\n",
       "      <th>importance</th>\n",
       "    </tr>\n",
       "  </thead>\n",
       "  <tbody>\n",
       "    <tr>\n",
       "      <th>follows_back</th>\n",
       "      <td>2.644804e-01</td>\n",
       "    </tr>\n",
       "    <tr>\n",
       "      <th>shortest_path</th>\n",
       "      <td>1.838595e-01</td>\n",
       "    </tr>\n",
       "    <tr>\n",
       "      <th>Weight_f1</th>\n",
       "      <td>1.016269e-01</td>\n",
       "    </tr>\n",
       "    <tr>\n",
       "      <th>inter_followers</th>\n",
       "      <td>5.900783e-02</td>\n",
       "    </tr>\n",
       "    <tr>\n",
       "      <th>Weight_f2</th>\n",
       "      <td>5.704880e-02</td>\n",
       "    </tr>\n",
       "    <tr>\n",
       "      <th>jaccard_followers</th>\n",
       "      <td>5.575706e-02</td>\n",
       "    </tr>\n",
       "    <tr>\n",
       "      <th>Weight_f3</th>\n",
       "      <td>4.926787e-02</td>\n",
       "    </tr>\n",
       "    <tr>\n",
       "      <th>inter_followees</th>\n",
       "      <td>4.368723e-02</td>\n",
       "    </tr>\n",
       "    <tr>\n",
       "      <th>Weight_f4</th>\n",
       "      <td>4.320862e-02</td>\n",
       "    </tr>\n",
       "    <tr>\n",
       "      <th>jaccard_followees</th>\n",
       "      <td>3.365333e-02</td>\n",
       "    </tr>\n",
       "    <tr>\n",
       "      <th>same_comp</th>\n",
       "      <td>2.304795e-02</td>\n",
       "    </tr>\n",
       "    <tr>\n",
       "      <th>adar_index</th>\n",
       "      <td>1.836028e-02</td>\n",
       "    </tr>\n",
       "    <tr>\n",
       "      <th>num_followees_s</th>\n",
       "      <td>1.532252e-02</td>\n",
       "    </tr>\n",
       "    <tr>\n",
       "      <th>svd_dot</th>\n",
       "      <td>6.457175e-03</td>\n",
       "    </tr>\n",
       "    <tr>\n",
       "      <th>katz_s</th>\n",
       "      <td>6.271872e-03</td>\n",
       "    </tr>\n",
       "    <tr>\n",
       "      <th>num_followers_d</th>\n",
       "      <td>6.163456e-03</td>\n",
       "    </tr>\n",
       "    <tr>\n",
       "      <th>Weight_out</th>\n",
       "      <td>6.068274e-03</td>\n",
       "    </tr>\n",
       "    <tr>\n",
       "      <th>num_followees_d</th>\n",
       "      <td>5.916338e-03</td>\n",
       "    </tr>\n",
       "    <tr>\n",
       "      <th>num_followers_s</th>\n",
       "      <td>5.488586e-03</td>\n",
       "    </tr>\n",
       "    <tr>\n",
       "      <th>katz_d</th>\n",
       "      <td>4.136551e-03</td>\n",
       "    </tr>\n",
       "    <tr>\n",
       "      <th>page_rank_d</th>\n",
       "      <td>4.104543e-03</td>\n",
       "    </tr>\n",
       "    <tr>\n",
       "      <th>Weight_in</th>\n",
       "      <td>3.734412e-03</td>\n",
       "    </tr>\n",
       "    <tr>\n",
       "      <th>svd_mean_d</th>\n",
       "      <td>1.305648e-03</td>\n",
       "    </tr>\n",
       "    <tr>\n",
       "      <th>svd_mean_s</th>\n",
       "      <td>1.046256e-03</td>\n",
       "    </tr>\n",
       "    <tr>\n",
       "      <th>page_rank_s</th>\n",
       "      <td>4.384363e-04</td>\n",
       "    </tr>\n",
       "    <tr>\n",
       "      <th>svd_v_d_3</th>\n",
       "      <td>1.556681e-04</td>\n",
       "    </tr>\n",
       "    <tr>\n",
       "      <th>svd_u_s_3</th>\n",
       "      <td>1.194442e-04</td>\n",
       "    </tr>\n",
       "    <tr>\n",
       "      <th>svd_u_d_3</th>\n",
       "      <td>1.100387e-04</td>\n",
       "    </tr>\n",
       "    <tr>\n",
       "      <th>svd_v_s_3</th>\n",
       "      <td>5.851178e-05</td>\n",
       "    </tr>\n",
       "    <tr>\n",
       "      <th>svd_u_s_6</th>\n",
       "      <td>2.462293e-05</td>\n",
       "    </tr>\n",
       "    <tr>\n",
       "      <th>svd_v_s_6</th>\n",
       "      <td>1.759360e-05</td>\n",
       "    </tr>\n",
       "    <tr>\n",
       "      <th>svd_v_d_6</th>\n",
       "      <td>1.725545e-05</td>\n",
       "    </tr>\n",
       "    <tr>\n",
       "      <th>svd_u_d_6</th>\n",
       "      <td>1.137179e-05</td>\n",
       "    </tr>\n",
       "    <tr>\n",
       "      <th>hubs_s</th>\n",
       "      <td>5.677168e-06</td>\n",
       "    </tr>\n",
       "    <tr>\n",
       "      <th>svd_u_s_2</th>\n",
       "      <td>3.717209e-06</td>\n",
       "    </tr>\n",
       "    <tr>\n",
       "      <th>svd_v_s_2</th>\n",
       "      <td>3.399203e-06</td>\n",
       "    </tr>\n",
       "    <tr>\n",
       "      <th>authorities_s</th>\n",
       "      <td>2.399581e-06</td>\n",
       "    </tr>\n",
       "    <tr>\n",
       "      <th>authorities_d</th>\n",
       "      <td>2.198454e-06</td>\n",
       "    </tr>\n",
       "    <tr>\n",
       "      <th>hubs_d</th>\n",
       "      <td>1.640633e-06</td>\n",
       "    </tr>\n",
       "    <tr>\n",
       "      <th>svd_v_d_2</th>\n",
       "      <td>1.500757e-06</td>\n",
       "    </tr>\n",
       "    <tr>\n",
       "      <th>svd_v_s_1</th>\n",
       "      <td>1.477797e-06</td>\n",
       "    </tr>\n",
       "    <tr>\n",
       "      <th>svd_u_d_2</th>\n",
       "      <td>1.179593e-06</td>\n",
       "    </tr>\n",
       "    <tr>\n",
       "      <th>svd_u_s_5</th>\n",
       "      <td>5.564461e-07</td>\n",
       "    </tr>\n",
       "    <tr>\n",
       "      <th>svd_v_s_5</th>\n",
       "      <td>5.549624e-07</td>\n",
       "    </tr>\n",
       "    <tr>\n",
       "      <th>svd_u_s_4</th>\n",
       "      <td>4.290664e-07</td>\n",
       "    </tr>\n",
       "    <tr>\n",
       "      <th>svd_u_s_1</th>\n",
       "      <td>4.018964e-07</td>\n",
       "    </tr>\n",
       "    <tr>\n",
       "      <th>svd_u_d_5</th>\n",
       "      <td>1.630302e-07</td>\n",
       "    </tr>\n",
       "    <tr>\n",
       "      <th>svd_v_d_5</th>\n",
       "      <td>1.376959e-07</td>\n",
       "    </tr>\n",
       "    <tr>\n",
       "      <th>svd_v_d_4</th>\n",
       "      <td>1.319796e-07</td>\n",
       "    </tr>\n",
       "    <tr>\n",
       "      <th>svd_v_s_4</th>\n",
       "      <td>7.132748e-08</td>\n",
       "    </tr>\n",
       "    <tr>\n",
       "      <th>svd_u_d_4</th>\n",
       "      <td>3.841453e-08</td>\n",
       "    </tr>\n",
       "    <tr>\n",
       "      <th>svd_u_d_1</th>\n",
       "      <td>3.704987e-09</td>\n",
       "    </tr>\n",
       "    <tr>\n",
       "      <th>svd_v_d_1</th>\n",
       "      <td>0.000000e+00</td>\n",
       "    </tr>\n",
       "  </tbody>\n",
       "</table>\n",
       "</div>"
      ],
      "text/plain": [
       "                     importance\n",
       "follows_back       2.644804e-01\n",
       "shortest_path      1.838595e-01\n",
       "Weight_f1          1.016269e-01\n",
       "inter_followers    5.900783e-02\n",
       "Weight_f2          5.704880e-02\n",
       "jaccard_followers  5.575706e-02\n",
       "Weight_f3          4.926787e-02\n",
       "inter_followees    4.368723e-02\n",
       "Weight_f4          4.320862e-02\n",
       "jaccard_followees  3.365333e-02\n",
       "same_comp          2.304795e-02\n",
       "adar_index         1.836028e-02\n",
       "num_followees_s    1.532252e-02\n",
       "svd_dot            6.457175e-03\n",
       "katz_s             6.271872e-03\n",
       "num_followers_d    6.163456e-03\n",
       "Weight_out         6.068274e-03\n",
       "num_followees_d    5.916338e-03\n",
       "num_followers_s    5.488586e-03\n",
       "katz_d             4.136551e-03\n",
       "page_rank_d        4.104543e-03\n",
       "Weight_in          3.734412e-03\n",
       "svd_mean_d         1.305648e-03\n",
       "svd_mean_s         1.046256e-03\n",
       "page_rank_s        4.384363e-04\n",
       "svd_v_d_3          1.556681e-04\n",
       "svd_u_s_3          1.194442e-04\n",
       "svd_u_d_3          1.100387e-04\n",
       "svd_v_s_3          5.851178e-05\n",
       "svd_u_s_6          2.462293e-05\n",
       "svd_v_s_6          1.759360e-05\n",
       "svd_v_d_6          1.725545e-05\n",
       "svd_u_d_6          1.137179e-05\n",
       "hubs_s             5.677168e-06\n",
       "svd_u_s_2          3.717209e-06\n",
       "svd_v_s_2          3.399203e-06\n",
       "authorities_s      2.399581e-06\n",
       "authorities_d      2.198454e-06\n",
       "hubs_d             1.640633e-06\n",
       "svd_v_d_2          1.500757e-06\n",
       "svd_v_s_1          1.477797e-06\n",
       "svd_u_d_2          1.179593e-06\n",
       "svd_u_s_5          5.564461e-07\n",
       "svd_v_s_5          5.549624e-07\n",
       "svd_u_s_4          4.290664e-07\n",
       "svd_u_s_1          4.018964e-07\n",
       "svd_u_d_5          1.630302e-07\n",
       "svd_v_d_5          1.376959e-07\n",
       "svd_v_d_4          1.319796e-07\n",
       "svd_v_s_4          7.132748e-08\n",
       "svd_u_d_4          3.841453e-08\n",
       "svd_u_d_1          3.704987e-09\n",
       "svd_v_d_1          0.000000e+00"
      ]
     },
     "execution_count": 34,
     "metadata": {},
     "output_type": "execute_result"
    }
   ],
   "source": [
    "feature_importances = pd.DataFrame(clf_1.feature_importances_,index = df_final_train.columns,\n",
    "                                   columns=['importance']).sort_values('importance',ascending=False)\n",
    "feature_importances"
   ]
  }
 ],
 "metadata": {
  "kernelspec": {
   "display_name": "Python 3 (Intel, 2018 update 2)",
   "language": "python",
   "name": "intel_distribution_of_python_3_2018u2"
  },
  "language_info": {
   "codemirror_mode": {
    "name": "ipython",
    "version": 3
   },
   "file_extension": ".py",
   "mimetype": "text/x-python",
   "name": "python",
   "nbconvert_exporter": "python",
   "pygments_lexer": "ipython3",
   "version": "3.6.3"
  }
 },
 "nbformat": 4,
 "nbformat_minor": 2
}
