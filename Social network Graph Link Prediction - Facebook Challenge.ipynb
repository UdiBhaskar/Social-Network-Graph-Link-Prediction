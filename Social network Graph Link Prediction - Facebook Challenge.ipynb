{
 "cells": [
  {
   "cell_type": "markdown",
   "metadata": {},
   "source": [
    "<p style=\"font-size:32px;text-align:center\"> <b>Social network Graph Link Prediction - Facebook Challenge</b> </p>"
   ]
  },
  {
   "cell_type": "markdown",
   "metadata": {},
   "source": [
    "### Problem statement: \n",
    "Given a directed social graph, have to predict missing links to recommend users (Link Prediction in graph)"
   ]
  },
  {
   "cell_type": "markdown",
   "metadata": {},
   "source": [
    "### Data Overview\n",
    "Taken data from facebook's recruting challenge on kaggle https://www.kaggle.com/c/FacebookRecruiting  \n",
    "data contains two columns source and destination eac edge in graph \n",
    "    - Data columns (total 2 columns):  \n",
    "    - source_node         int64  \n",
    "    - destination_node    int64  "
   ]
  },
  {
   "cell_type": "markdown",
   "metadata": {},
   "source": [
    "### Mapping the problem into supervised learning problem:\n",
    "- Generated training samples of good and bad links from given directed graph and for each link got some features like no of followers, is he followed back, page rank, katz score, adar index, some svd fetures of adj matrix, some weight features etc. and trained ml model based on these features to predict link. \n",
    "- Some reference papers and videos :  \n",
    "    - https://www.cs.cornell.edu/home/kleinber/link-pred.pdf\n",
    "    - https://www3.nd.edu/~dial/publications/lichtenwalter2010new.pdf\n",
    "    - https://kaggle2.blob.core.windows.net/forum-message-attachments/2594/supervised_link_prediction.pdf\n",
    "    - https://www.youtube.com/watch?v=2M77Hgy17cg"
   ]
  },
  {
   "cell_type": "markdown",
   "metadata": {},
   "source": [
    "### Business objectives and constraints:  \n",
    "- No low-latency requirement.\n",
    "- Probability of prediction is useful to recommend ighest probability links"
   ]
  },
  {
   "cell_type": "markdown",
   "metadata": {},
   "source": [
    "### Performance metric for supervised learning:  \n",
    "- Both precision and recall is important so F1 score is good choice\n",
    "- Confusion matrix"
   ]
  },
  {
   "cell_type": "code",
   "execution_count": 1,
   "metadata": {},
   "outputs": [
    {
     "name": "stderr",
     "output_type": "stream",
     "text": [
      "/glob/intel-python/versions/2018u2/intelpython3/lib/python3.6/site-packages/sklearn/ensemble/weight_boosting.py:29: DeprecationWarning: numpy.core.umath_tests is an internal NumPy module and should not be imported. It will be removed in a future NumPy release.\n",
      "  from numpy.core.umath_tests import inner1d\n"
     ]
    }
   ],
   "source": [
    "#Importing Libraries\n",
    "# please do go through this python notebook: \n",
    "import csv\n",
    "import pandas as pd#pandas to create small dataframes \n",
    "import datetime #Convert to unix time\n",
    "import time #Convert to unix time\n",
    "# if numpy is not installed already : pip3 install numpy\n",
    "import numpy as np#Do aritmetic operations on arrays\n",
    "# matplotlib: used to plot graphs\n",
    "import matplotlib\n",
    "import matplotlib.pylab as plt\n",
    "import seaborn as sns#Plots\n",
    "from matplotlib import rcParams#Size of plots  \n",
    "from sklearn.cluster import MiniBatchKMeans, KMeans#Clustering\n",
    "import math\n",
    "import pickle\n",
    "import os\n",
    "# to install xgboost: pip3 install xgboost\n",
    "import xgboost as xgb\n",
    "# to install sklearn: pip install -U scikit-learn\n",
    "from sklearn.ensemble import RandomForestRegressor\n",
    "from sklearn.metrics import mean_squared_error\n",
    "from sklearn.metrics import mean_absolute_error\n",
    "import warnings\n",
    "import networkx as nx\n",
    "import pdb\n",
    "import warnings\n",
    "warnings.filterwarnings(\"ignore\")"
   ]
  },
  {
   "cell_type": "code",
   "execution_count": 2,
   "metadata": {},
   "outputs": [],
   "source": [
    "#reading df\n",
    "traincsv = pd.read_csv('train.csv')"
   ]
  },
  {
   "cell_type": "code",
   "execution_count": 4,
   "metadata": {},
   "outputs": [
    {
     "data": {
      "text/html": [
       "<div>\n",
       "<style scoped>\n",
       "    .dataframe tbody tr th:only-of-type {\n",
       "        vertical-align: middle;\n",
       "    }\n",
       "\n",
       "    .dataframe tbody tr th {\n",
       "        vertical-align: top;\n",
       "    }\n",
       "\n",
       "    .dataframe thead th {\n",
       "        text-align: right;\n",
       "    }\n",
       "</style>\n",
       "<table border=\"1\" class=\"dataframe\">\n",
       "  <thead>\n",
       "    <tr style=\"text-align: right;\">\n",
       "      <th></th>\n",
       "      <th>source_node</th>\n",
       "      <th>destination_node</th>\n",
       "    </tr>\n",
       "  </thead>\n",
       "  <tbody>\n",
       "  </tbody>\n",
       "</table>\n",
       "</div>"
      ],
      "text/plain": [
       "Empty DataFrame\n",
       "Columns: [source_node, destination_node]\n",
       "Index: []"
      ]
     },
     "execution_count": 4,
     "metadata": {},
     "output_type": "execute_result"
    }
   ],
   "source": [
    "#chacking if any null values in given graph \n",
    "traincsv[traincsv.isna().any(1)]"
   ]
  },
  {
   "cell_type": "code",
   "execution_count": 5,
   "metadata": {},
   "outputs": [
    {
     "name": "stdout",
     "output_type": "stream",
     "text": [
      "<class 'pandas.core.frame.DataFrame'>\n",
      "RangeIndex: 9437519 entries, 0 to 9437518\n",
      "Data columns (total 2 columns):\n",
      "source_node         int64\n",
      "destination_node    int64\n",
      "dtypes: int64(2)\n",
      "memory usage: 144.0 MB\n"
     ]
    }
   ],
   "source": [
    "#info of given data set\n",
    "traincsv.info()"
   ]
  },
  {
   "cell_type": "code",
   "execution_count": 6,
   "metadata": {},
   "outputs": [
    {
     "data": {
      "text/plain": [
       "0"
      ]
     },
     "execution_count": 6,
     "metadata": {},
     "output_type": "execute_result"
    }
   ],
   "source": [
    "#no of duplicates\n",
    "sum(traincsv.duplicated())"
   ]
  },
  {
   "cell_type": "code",
   "execution_count": 7,
   "metadata": {},
   "outputs": [],
   "source": [
    "#removing header and saving\n",
    "traincsv.to_csv('train_woheader.csv',header=False,index=False)"
   ]
  },
  {
   "cell_type": "code",
   "execution_count": 3,
   "metadata": {},
   "outputs": [
    {
     "name": "stdout",
     "output_type": "stream",
     "text": [
      "Name: \n",
      "Type: DiGraph\n",
      "Number of nodes: 1862220\n",
      "Number of edges: 9437519\n",
      "Average in degree:   5.0679\n",
      "Average out degree:   5.0679\n"
     ]
    }
   ],
   "source": [
    "#Getting basic info from our data\n",
    "g=nx.read_edgelist('train_woheader.csv',delimiter=',',create_using=nx.DiGraph(),nodetype=int)\n",
    "print(nx.info(g))"
   ]
  },
  {
   "cell_type": "markdown",
   "metadata": {},
   "source": [
    "## EDA"
   ]
  },
  {
   "cell_type": "code",
   "execution_count": 4,
   "metadata": {},
   "outputs": [
    {
     "data": {
      "text/plain": [
       "1862220"
      ]
     },
     "execution_count": 4,
     "metadata": {},
     "output_type": "execute_result"
    }
   ],
   "source": [
    "# No of Unique persons \n",
    "len(g.nodes())"
   ]
  },
  {
   "cell_type": "markdown",
   "metadata": {},
   "source": [
    "##### No of followers for each person"
   ]
  },
  {
   "cell_type": "code",
   "execution_count": 10,
   "metadata": {},
   "outputs": [
    {
     "data": {
      "image/png": "[encoded data removed]",
      "text/plain": [
       "<matplotlib.figure.Figure at 0x2b183b182630>"
      ]
     },
     "metadata": {},
     "output_type": "display_data"
    }
   ],
   "source": [
    "indegree_dist = list(dict(g.in_degree()).values())\n",
    "indegree_dist.sort()\n",
    "plt.figure(figsize=(10,6))\n",
    "plt.plot(indegree_dist)\n",
    "plt.xlabel('Index No')\n",
    "plt.ylabel('No Of Followers')\n",
    "plt.show()"
   ]
  },
  {
   "cell_type": "code",
   "execution_count": 11,
   "metadata": {},
   "outputs": [
    {
     "data": {
      "image/png": "[encoded data removed]",
      "text/plain": [
       "<matplotlib.figure.Figure at 0x2b17b955f160>"
      ]
     },
     "metadata": {},
     "output_type": "display_data"
    }
   ],
   "source": [
    "indegree_dist = list(dict(g.in_degree()).values())\n",
    "indegree_dist.sort()\n",
    "plt.figure(figsize=(10,6))\n",
    "plt.plot(indegree_dist[0:1500000])\n",
    "plt.xlabel('Index No')\n",
    "plt.ylabel('No Of Followers')\n",
    "plt.show()"
   ]
  },
  {
   "cell_type": "code",
   "execution_count": 12,
   "metadata": {},
   "outputs": [
    {
     "data": {
      "image/png": "[encoded data removed]",
      "text/plain": [
       "<matplotlib.figure.Figure at 0x2b183af2c710>"
      ]
     },
     "metadata": {},
     "output_type": "display_data"
    }
   ],
   "source": [
    "plt.boxplot(indegree_dist)\n",
    "plt.ylabel('No Of Followers')\n",
    "plt.show()"
   ]
  },
  {
   "cell_type": "code",
   "execution_count": 13,
   "metadata": {},
   "outputs": [
    {
     "name": "stdout",
     "output_type": "stream",
     "text": [
      "90 percentile value is 12.0\n",
      "91 percentile value is 13.0\n",
      "92 percentile value is 14.0\n",
      "93 percentile value is 15.0\n",
      "94 percentile value is 17.0\n",
      "95 percentile value is 19.0\n",
      "96 percentile value is 21.0\n",
      "97 percentile value is 24.0\n",
      "98 percentile value is 29.0\n",
      "99 percentile value is 40.0\n",
      "100 percentile value is 552.0\n"
     ]
    }
   ],
   "source": [
    "### 90-100 percentile\n",
    "for i in range(0,11):\n",
    "    print(90+i,'percentile value is',np.percentile(indegree_dist,90+i))"
   ]
  },
  {
   "cell_type": "markdown",
   "metadata": {},
   "source": [
    "99% of data having followers of 40 only."
   ]
  },
  {
   "cell_type": "code",
   "execution_count": 14,
   "metadata": {},
   "outputs": [
    {
     "name": "stdout",
     "output_type": "stream",
     "text": [
      "99.1 percentile value is 42.0\n",
      "99.2 percentile value is 44.0\n",
      "99.3 percentile value is 47.0\n",
      "99.4 percentile value is 50.0\n",
      "99.5 percentile value is 55.0\n",
      "99.6 percentile value is 61.0\n",
      "99.7 percentile value is 70.0\n",
      "99.8 percentile value is 84.0\n",
      "99.9 percentile value is 112.0\n",
      "100.0 percentile value is 552.0\n"
     ]
    }
   ],
   "source": [
    "### 99-100 percentile\n",
    "for i in range(10,110,10):\n",
    "    print(99+(i/100),'percentile value is',np.percentile(indegree_dist,99+(i/100)))"
   ]
  },
  {
   "cell_type": "code",
   "execution_count": 15,
   "metadata": {},
   "outputs": [
    {
     "data": {
      "image/png": "[encoded data removed]",
      "text/plain": [
       "<matplotlib.figure.Figure at 0x2b181221be48>"
      ]
     },
     "metadata": {},
     "output_type": "display_data"
    }
   ],
   "source": [
    "%matplotlib inline\n",
    "sns.set_style('ticks')\n",
    "fig, ax = plt.subplots()\n",
    "fig.set_size_inches(11.7, 8.27)\n",
    "sns.distplot(indegree_dist, color='#16A085')\n",
    "plt.xlabel('PDF of Indegree')\n",
    "sns.despine()\n",
    "#plt.show()"
   ]
  },
  {
   "cell_type": "markdown",
   "metadata": {},
   "source": [
    "##### No of people each person is following"
   ]
  },
  {
   "cell_type": "code",
   "execution_count": 16,
   "metadata": {},
   "outputs": [
    {
     "data": {
      "image/png": "[encoded data removed]",
      "text/plain": [
       "<matplotlib.figure.Figure at 0x2b1958171358>"
      ]
     },
     "metadata": {},
     "output_type": "display_data"
    }
   ],
   "source": [
    "outdegree_dist = list(dict(g.out_degree()).values())\n",
    "outdegree_dist.sort()\n",
    "plt.figure(figsize=(10,6))\n",
    "plt.plot(outdegree_dist)\n",
    "plt.xlabel('Index No')\n",
    "plt.ylabel('No Of people each person is following')\n",
    "plt.show()"
   ]
  },
  {
   "cell_type": "code",
   "execution_count": 17,
   "metadata": {},
   "outputs": [
    {
     "data": {
      "image/png": "[encoded data removed]",
      "text/plain": [
       "<matplotlib.figure.Figure at 0x2b1958078ef0>"
      ]
     },
     "metadata": {},
     "output_type": "display_data"
    }
   ],
   "source": [
    "indegree_dist = list(dict(g.in_degree()).values())\n",
    "indegree_dist.sort()\n",
    "plt.figure(figsize=(10,6))\n",
    "plt.plot(outdegree_dist[0:1500000])\n",
    "plt.xlabel('Index No')\n",
    "plt.ylabel('No Of people each person is following')\n",
    "plt.show()"
   ]
  },
  {
   "cell_type": "code",
   "execution_count": 18,
   "metadata": {},
   "outputs": [
    {
     "data": {
      "image/png": "[encoded data removed]",
      "text/plain": [
       "<matplotlib.figure.Figure at 0x2b1958223128>"
      ]
     },
     "metadata": {},
     "output_type": "display_data"
    }
   ],
   "source": [
    "plt.boxplot(indegree_dist)\n",
    "plt.ylabel('No Of people each person is following')\n",
    "plt.show()"
   ]
  },
  {
   "cell_type": "code",
   "execution_count": 19,
   "metadata": {},
   "outputs": [
    {
     "name": "stdout",
     "output_type": "stream",
     "text": [
      "90 percentile value is 12.0\n",
      "91 percentile value is 13.0\n",
      "92 percentile value is 14.0\n",
      "93 percentile value is 15.0\n",
      "94 percentile value is 17.0\n",
      "95 percentile value is 19.0\n",
      "96 percentile value is 21.0\n",
      "97 percentile value is 24.0\n",
      "98 percentile value is 29.0\n",
      "99 percentile value is 40.0\n",
      "100 percentile value is 1566.0\n"
     ]
    }
   ],
   "source": [
    "### 90-100 percentile\n",
    "for i in range(0,11):\n",
    "    print(90+i,'percentile value is',np.percentile(outdegree_dist,90+i))"
   ]
  },
  {
   "cell_type": "code",
   "execution_count": 20,
   "metadata": {},
   "outputs": [
    {
     "name": "stdout",
     "output_type": "stream",
     "text": [
      "99.1 percentile value is 42.0\n",
      "99.2 percentile value is 45.0\n",
      "99.3 percentile value is 48.0\n",
      "99.4 percentile value is 52.0\n",
      "99.5 percentile value is 56.0\n",
      "99.6 percentile value is 63.0\n",
      "99.7 percentile value is 73.0\n",
      "99.8 percentile value is 90.0\n",
      "99.9 percentile value is 123.0\n",
      "100.0 percentile value is 1566.0\n"
     ]
    }
   ],
   "source": [
    "### 99-100 percentile\n",
    "for i in range(10,110,10):\n",
    "    print(99+(i/100),'percentile value is',np.percentile(outdegree_dist,99+(i/100)))"
   ]
  },
  {
   "cell_type": "code",
   "execution_count": 21,
   "metadata": {},
   "outputs": [
    {
     "data": {
      "image/png": "[encoded data removed]",
      "text/plain": [
       "<matplotlib.figure.Figure at 0x2b19592819e8>"
      ]
     },
     "metadata": {},
     "output_type": "display_data"
    }
   ],
   "source": [
    "sns.set_style('ticks')\n",
    "fig, ax = plt.subplots()\n",
    "fig.set_size_inches(11.7, 8.27)\n",
    "sns.distplot(outdegree_dist, color='#16A085')\n",
    "plt.xlabel('PDF of Outdegree')\n",
    "sns.despine()"
   ]
  },
  {
   "cell_type": "code",
   "execution_count": 22,
   "metadata": {},
   "outputs": [
    {
     "name": "stdout",
     "output_type": "stream",
     "text": [
      "No of persons those are not following anyone are 274512 and % is 14.741115442858524\n"
     ]
    }
   ],
   "source": [
    "print('No of persons those are not following anyone are' ,sum(np.array(outdegree_dist)==0),'and % is',\n",
    "                                sum(np.array(outdegree_dist)==0)*100/len(outdegree_dist) )"
   ]
  },
  {
   "cell_type": "code",
   "execution_count": 23,
   "metadata": {},
   "outputs": [
    {
     "name": "stdout",
     "output_type": "stream",
     "text": [
      "No of persons having zero followers are 188043 and % is 10.097786512871734\n"
     ]
    }
   ],
   "source": [
    "print('No of persons having zero followers are' ,sum(np.array(indegree_dist)==0),'and % is',\n",
    "                                sum(np.array(indegree_dist)==0)*100/len(indegree_dist) )"
   ]
  },
  {
   "cell_type": "code",
   "execution_count": 24,
   "metadata": {},
   "outputs": [
    {
     "name": "stdout",
     "output_type": "stream",
     "text": [
      "No of persons those are not not following anyone and also not having any followers are 0\n"
     ]
    }
   ],
   "source": [
    "count=0\n",
    "for i in g.nodes():\n",
    "    if len(list(g.predecessors(i)))==0 :\n",
    "        if len(list(g.successors(i)))==0:\n",
    "            count+=1\n",
    "print('No of persons those are not not following anyone and also not having any followers are',count)"
   ]
  },
  {
   "cell_type": "markdown",
   "metadata": {},
   "source": [
    "##### both followers + following "
   ]
  },
  {
   "cell_type": "code",
   "execution_count": 25,
   "metadata": {},
   "outputs": [],
   "source": [
    "from collections import Counter\n",
    "dict_in = dict(g.in_degree())\n",
    "dict_out = dict(g.out_degree())\n",
    "d = Counter(dict_in) + Counter(dict_out)\n",
    "in_out_degree = np.array(list(d.values()))"
   ]
  },
  {
   "cell_type": "code",
   "execution_count": 26,
   "metadata": {},
   "outputs": [
    {
     "data": {
      "image/png": "[encoded data removed]",
      "text/plain": [
       "<matplotlib.figure.Figure at 0x2b19592819b0>"
      ]
     },
     "metadata": {},
     "output_type": "display_data"
    }
   ],
   "source": [
    "in_out_degree_sort = sorted(in_out_degree)\n",
    "plt.figure(figsize=(10,6))\n",
    "plt.plot(in_out_degree_sort)\n",
    "plt.xlabel('Index No')\n",
    "plt.ylabel('No Of people each person is following + followers')\n",
    "plt.show()"
   ]
  },
  {
   "cell_type": "code",
   "execution_count": 27,
   "metadata": {},
   "outputs": [
    {
     "data": {
      "image/png": "[encoded data removed]",
      "text/plain": [
       "<matplotlib.figure.Figure at 0x2b1959281588>"
      ]
     },
     "metadata": {},
     "output_type": "display_data"
    }
   ],
   "source": [
    "in_out_degree_sort = sorted(in_out_degree)\n",
    "plt.figure(figsize=(10,6))\n",
    "plt.plot(in_out_degree_sort[0:1500000])\n",
    "plt.xlabel('Index No')\n",
    "plt.ylabel('No Of people each person is following + followers')\n",
    "plt.show()"
   ]
  },
  {
   "cell_type": "code",
   "execution_count": 28,
   "metadata": {},
   "outputs": [
    {
     "name": "stdout",
     "output_type": "stream",
     "text": [
      "90 percentile value is 24.0\n",
      "91 percentile value is 26.0\n",
      "92 percentile value is 28.0\n",
      "93 percentile value is 31.0\n",
      "94 percentile value is 33.0\n",
      "95 percentile value is 37.0\n",
      "96 percentile value is 41.0\n",
      "97 percentile value is 48.0\n",
      "98 percentile value is 58.0\n",
      "99 percentile value is 79.0\n",
      "100 percentile value is 1579.0\n"
     ]
    }
   ],
   "source": [
    "### 90-100 percentile\n",
    "for i in range(0,11):\n",
    "    print(90+i,'percentile value is',np.percentile(in_out_degree_sort,90+i))"
   ]
  },
  {
   "cell_type": "code",
   "execution_count": 29,
   "metadata": {},
   "outputs": [
    {
     "name": "stdout",
     "output_type": "stream",
     "text": [
      "99.1 percentile value is 83.0\n",
      "99.2 percentile value is 87.0\n",
      "99.3 percentile value is 93.0\n",
      "99.4 percentile value is 99.0\n",
      "99.5 percentile value is 108.0\n",
      "99.6 percentile value is 120.0\n",
      "99.7 percentile value is 138.0\n",
      "99.8 percentile value is 168.0\n",
      "99.9 percentile value is 221.0\n",
      "100.0 percentile value is 1579.0\n"
     ]
    }
   ],
   "source": [
    "### 99-100 percentile\n",
    "for i in range(10,110,10):\n",
    "    print(99+(i/100),'percentile value is',np.percentile(in_out_degree_sort,99+(i/100)))"
   ]
  },
  {
   "cell_type": "code",
   "execution_count": 30,
   "metadata": {},
   "outputs": [
    {
     "name": "stdout",
     "output_type": "stream",
     "text": [
      "Min of no of followers + following is 1\n",
      "334291  persons having minimum no of followers + following\n"
     ]
    }
   ],
   "source": [
    "print('Min of no of followers + following is',in_out_degree.min())\n",
    "print(np.sum(in_out_degree==in_out_degree.min()),' persons having minimum no of followers + following')"
   ]
  },
  {
   "cell_type": "code",
   "execution_count": 31,
   "metadata": {},
   "outputs": [
    {
     "name": "stdout",
     "output_type": "stream",
     "text": [
      "Max of no of followers + following is 1579\n",
      "1  persons having maximum no of followers + following\n"
     ]
    }
   ],
   "source": [
    "print('Max of no of followers + following is',in_out_degree.max())\n",
    "print(np.sum(in_out_degree==in_out_degree.max()),' persons having maximum no of followers + following')"
   ]
  },
  {
   "cell_type": "code",
   "execution_count": 32,
   "metadata": {},
   "outputs": [
    {
     "name": "stdout",
     "output_type": "stream",
     "text": [
      "No of persons having followers + following less than 10 are 1320326\n"
     ]
    }
   ],
   "source": [
    "print('No of persons having followers + following less than 10 are',np.sum(in_out_degree<10))"
   ]
  },
  {
   "cell_type": "code",
   "execution_count": 33,
   "metadata": {},
   "outputs": [
    {
     "name": "stdout",
     "output_type": "stream",
     "text": [
      "No of weakly connected components 45558\n",
      "weakly connected components wit 2 nodes 32195\n"
     ]
    }
   ],
   "source": [
    "print('No of weakly connected components',len(list(nx.weakly_connected_components(g))))\n",
    "count=0\n",
    "for i in list(nx.weakly_connected_components(g)):\n",
    "    if len(i)==2:\n",
    "        count+=1\n",
    "print('weakly connected components wit 2 nodes',count)"
   ]
  },
  {
   "cell_type": "markdown",
   "metadata": {},
   "source": [
    "#### Adjacency_matrix   \n",
    "https://en.wikipedia.org/wiki/Adjacency_matrix"
   ]
  },
  {
   "cell_type": "code",
   "execution_count": 5,
   "metadata": {},
   "outputs": [],
   "source": [
    "Adj = nx.adjacency_matrix(g,nodelist=sorted(g.nodes()))"
   ]
  },
  {
   "cell_type": "code",
   "execution_count": 6,
   "metadata": {},
   "outputs": [
    {
     "data": {
      "text/plain": [
       "<1862220x1862220 sparse matrix of type '<class 'numpy.float64'>'\n",
       "\twith 9437519 stored elements in Compressed Sparse Row format>"
      ]
     },
     "execution_count": 6,
     "metadata": {},
     "output_type": "execute_result"
    }
   ],
   "source": [
    "Adj = Adj.asfptype()\n",
    "Adj"
   ]
  },
  {
   "cell_type": "markdown",
   "metadata": {},
   "source": [
    "## Feature Engineering"
   ]
  },
  {
   "cell_type": "markdown",
   "metadata": {},
   "source": [
    "### SVD"
   ]
  },
  {
   "cell_type": "code",
   "execution_count": 10,
   "metadata": {},
   "outputs": [],
   "source": [
    "from scipy.sparse.linalg import svds, eigs\n",
    "U, s, V = svds(Adj,k = 6)"
   ]
  },
  {
   "cell_type": "code",
   "execution_count": 11,
   "metadata": {},
   "outputs": [
    {
     "data": {
      "text/plain": [
       "array([[-1.55540638e-14,  1.84913121e-12,  9.16782456e-13,\n",
       "         1.88607870e-14, -2.53957870e-14, -1.57540975e-16],\n",
       "       [-1.12760445e-13,  1.25423327e-11,  1.21699839e-11,\n",
       "         9.70220289e-14, -6.78741222e-13, -1.05714474e-15],\n",
       "       [-9.96808060e-12,  1.68923622e-11,  1.00421545e-09,\n",
       "         3.05244303e-10, -5.58126166e-12, -3.72892383e-13],\n",
       "       ...,\n",
       "       [-1.49524910e-14,  2.10390639e-12,  3.93555671e-12,\n",
       "         1.61468941e-13, -8.28056607e-13, -3.32965943e-15],\n",
       "       [-3.43019958e-12,  1.20274196e-13,  9.65019553e-07,\n",
       "         6.49192604e-14, -9.94221159e-13, -5.76869029e-13],\n",
       "       [-3.51042566e-15,  8.67842631e-15,  1.00672793e-13,\n",
       "         3.89617678e-14, -3.00374684e-15, -2.55704233e-16]])"
      ]
     },
     "execution_count": 11,
     "metadata": {},
     "output_type": "execute_result"
    }
   ],
   "source": [
    "U"
   ]
  },
  {
   "cell_type": "code",
   "execution_count": 12,
   "metadata": {},
   "outputs": [
    {
     "name": "stdout",
     "output_type": "stream",
     "text": [
      "U Shape (1862220, 6)\n",
      "V Shape (6, 1862220)\n",
      "s Shape (6,)\n"
     ]
    }
   ],
   "source": [
    "print('U Shape',U.shape)\n",
    "print('V Shape',V.shape)\n",
    "print('s Shape',s.shape)"
   ]
  },
  {
   "cell_type": "markdown",
   "metadata": {},
   "source": [
    "### Similarity measures"
   ]
  },
  {
   "cell_type": "markdown",
   "metadata": {},
   "source": [
    "#### Jaccard Distance:"
   ]
  },
  {
   "cell_type": "code",
   "execution_count": 39,
   "metadata": {},
   "outputs": [],
   "source": [
    "#for followees\n",
    "def jaccard_for_followees(a,b):\n",
    "    if len(set(g.successors(a))) == 0  | len(set(g.successors(b))) == 0:\n",
    "        return 0\n",
    "    sim = (len(set(g.successors(a)).intersection(set(g.successors(b)))))/\\\n",
    "                                    (len(set(g.successors(a)).union(set(g.successors(b)))))\n",
    "    return sim"
   ]
  },
  {
   "cell_type": "code",
   "execution_count": 40,
   "metadata": {},
   "outputs": [
    {
     "data": {
      "text/plain": [
       "0.03225806451612903"
      ]
     },
     "execution_count": 40,
     "metadata": {},
     "output_type": "execute_result"
    }
   ],
   "source": [
    "#one test case\n",
    "jaccard_for_followees(2,1615927)"
   ]
  },
  {
   "cell_type": "code",
   "execution_count": 41,
   "metadata": {},
   "outputs": [],
   "source": [
    "#for followers\n",
    "def jaccard_for_followers(a,b):\n",
    "    if len(set(g.predecessors(a))) == 0  | len(set(g.predecessors(b))) == 0:\n",
    "        return 0\n",
    "    sim = (len(set(g.predecessors(a)).intersection(set(g.predecessors(b)))))/\\\n",
    "                                 (len(set(g.predecessors(a)).union(set(g.predecessors(b)))))\n",
    "    return sim"
   ]
  },
  {
   "cell_type": "code",
   "execution_count": 42,
   "metadata": {},
   "outputs": [
    {
     "data": {
      "text/plain": [
       "0.041666666666666664"
      ]
     },
     "execution_count": 42,
     "metadata": {},
     "output_type": "execute_result"
    }
   ],
   "source": [
    "jaccard_for_followers(2,470294)"
   ]
  },
  {
   "cell_type": "markdown",
   "metadata": {},
   "source": [
    "#### Cosine distance"
   ]
  },
  {
   "cell_type": "code",
   "execution_count": 43,
   "metadata": {},
   "outputs": [],
   "source": [
    "#for followees\n",
    "def cosine_for_followees(a,b):\n",
    "    if len(set(g.successors(a))) == 0  | len(set(g.successors(b))) == 0:\n",
    "        return 0\n",
    "    sim = (len(set(g.successors(a)).intersection(set(g.successors(b)))))/\\\n",
    "                                (math.sqrt(len(set(g.successors(a)))*len((set(g.successors(b))))))\n",
    "    return sim"
   ]
  },
  {
   "cell_type": "code",
   "execution_count": 44,
   "metadata": {},
   "outputs": [
    {
     "data": {
      "text/plain": [
       "0.08006407690254357"
      ]
     },
     "execution_count": 44,
     "metadata": {},
     "output_type": "execute_result"
    }
   ],
   "source": [
    "cosine_for_followees(2,1615927)"
   ]
  },
  {
   "cell_type": "code",
   "execution_count": 45,
   "metadata": {},
   "outputs": [],
   "source": [
    "def cosine_for_followers(a,b):\n",
    "    if len(set(g.predecessors(a))) == 0  | len(set(g.predecessors(b))) == 0:\n",
    "        return 0\n",
    "    sim = (len(set(g.predecessors(a)).intersection(set(g.predecessors(b)))))/\\\n",
    "                                 (math.sqrt(len(set(g.predecessors(a))))*(len(set(g.predecessors(b)))))\n",
    "    return sim"
   ]
  },
  {
   "cell_type": "code",
   "execution_count": 46,
   "metadata": {},
   "outputs": [
    {
     "data": {
      "text/plain": [
       "0.023809523809523808"
      ]
     },
     "execution_count": 46,
     "metadata": {},
     "output_type": "execute_result"
    }
   ],
   "source": [
    "cosine_for_followers(2,470294)"
   ]
  },
  {
   "cell_type": "markdown",
   "metadata": {},
   "source": [
    "### Ranking Measures"
   ]
  },
  {
   "cell_type": "code",
   "execution_count": 47,
   "metadata": {},
   "outputs": [],
   "source": [
    "pr = nx.pagerank(g, alpha=0.85)"
   ]
  },
  {
   "cell_type": "code",
   "execution_count": 48,
   "metadata": {},
   "outputs": [
    {
     "data": {
      "text/plain": [
       "1862220"
      ]
     },
     "execution_count": 48,
     "metadata": {},
     "output_type": "execute_result"
    }
   ],
   "source": [
    "len(pr)"
   ]
  },
  {
   "cell_type": "code",
   "execution_count": 49,
   "metadata": {},
   "outputs": [
    {
     "data": {
      "text/html": [
       "<div>\n",
       "<style scoped>\n",
       "    .dataframe tbody tr th:only-of-type {\n",
       "        vertical-align: middle;\n",
       "    }\n",
       "\n",
       "    .dataframe tbody tr th {\n",
       "        vertical-align: top;\n",
       "    }\n",
       "\n",
       "    .dataframe thead th {\n",
       "        text-align: right;\n",
       "    }\n",
       "</style>\n",
       "<table border=\"1\" class=\"dataframe\">\n",
       "  <thead>\n",
       "    <tr style=\"text-align: right;\">\n",
       "      <th></th>\n",
       "      <th>Source</th>\n",
       "      <th>Destination</th>\n",
       "    </tr>\n",
       "  </thead>\n",
       "  <tbody>\n",
       "    <tr>\n",
       "      <th>0</th>\n",
       "      <td>1</td>\n",
       "      <td>690569</td>\n",
       "    </tr>\n",
       "    <tr>\n",
       "      <th>1</th>\n",
       "      <td>1</td>\n",
       "      <td>315892</td>\n",
       "    </tr>\n",
       "    <tr>\n",
       "      <th>2</th>\n",
       "      <td>1</td>\n",
       "      <td>189226</td>\n",
       "    </tr>\n",
       "    <tr>\n",
       "      <th>3</th>\n",
       "      <td>2</td>\n",
       "      <td>834328</td>\n",
       "    </tr>\n",
       "    <tr>\n",
       "      <th>4</th>\n",
       "      <td>2</td>\n",
       "      <td>1615927</td>\n",
       "    </tr>\n",
       "  </tbody>\n",
       "</table>\n",
       "</div>"
      ],
      "text/plain": [
       "   Source  Destination\n",
       "0       1       690569\n",
       "1       1       315892\n",
       "2       1       189226\n",
       "3       2       834328\n",
       "4       2      1615927"
      ]
     },
     "execution_count": 49,
     "metadata": {},
     "output_type": "execute_result"
    }
   ],
   "source": [
    "##csv reading\n",
    "df = pd.read_csv('train_woheader.csv', names=['Source', 'Destination'])\n",
    "df.head()"
   ]
  },
  {
   "cell_type": "code",
   "execution_count": 50,
   "metadata": {},
   "outputs": [],
   "source": [
    "#getting all set of edges\n",
    "r = csv.reader(open('train_woheader.csv','r'))\n",
    "edges = set()\n",
    "for edge in r:\n",
    "    edges.add((edge[0], edge[1]))"
   ]
  },
  {
   "cell_type": "markdown",
   "metadata": {},
   "source": [
    "#### Generating some edges which are not present in graph for supervised learning"
   ]
  },
  {
   "cell_type": "code",
   "execution_count": 51,
   "metadata": {},
   "outputs": [],
   "source": [
    "import random\n",
    "missing_edges = set([])\n",
    "while (len(missing_edges)<9437519):\n",
    "    a=random.randint(1, 1862220)\n",
    "    b=random.randint(1, 1862220)\n",
    "    if (a,b) not in edges:\n",
    "        if a!=b:\n",
    "            missing_edges.add((a,b))\n",
    "        else:\n",
    "            continue\n",
    "    else:\n",
    "        continue"
   ]
  },
  {
   "cell_type": "code",
   "execution_count": 52,
   "metadata": {},
   "outputs": [
    {
     "data": {
      "text/plain": [
       "[(1293152, 1800897),\n",
       " (420967, 1072419),\n",
       " (970737, 1444392),\n",
       " (1853675, 1452068),\n",
       " (507506, 1474755),\n",
       " (1186502, 1835133),\n",
       " (1659674, 90875),\n",
       " (1857255, 507654),\n",
       " (1434433, 1418683),\n",
       " (328834, 579284)]"
      ]
     },
     "execution_count": 52,
     "metadata": {},
     "output_type": "execute_result"
    }
   ],
   "source": [
    "#printing 10 missing edges\n",
    "list(missing_edges)[0:10]"
   ]
  },
  {
   "cell_type": "code",
   "execution_count": 53,
   "metadata": {},
   "outputs": [
    {
     "data": {
      "text/plain": [
       "False"
      ]
     },
     "execution_count": 53,
     "metadata": {},
     "output_type": "execute_result"
    }
   ],
   "source": [
    "#checking in graph\n",
    "g.has_edge(446240, 834358)"
   ]
  },
  {
   "cell_type": "code",
   "execution_count": 54,
   "metadata": {},
   "outputs": [],
   "source": [
    "df_neg = pd.DataFrame(list(missing_edges), columns=['Source', 'Destination'])"
   ]
  },
  {
   "cell_type": "code",
   "execution_count": 55,
   "metadata": {},
   "outputs": [
    {
     "data": {
      "text/html": [
       "<div>\n",
       "<style scoped>\n",
       "    .dataframe tbody tr th:only-of-type {\n",
       "        vertical-align: middle;\n",
       "    }\n",
       "\n",
       "    .dataframe tbody tr th {\n",
       "        vertical-align: top;\n",
       "    }\n",
       "\n",
       "    .dataframe thead th {\n",
       "        text-align: right;\n",
       "    }\n",
       "</style>\n",
       "<table border=\"1\" class=\"dataframe\">\n",
       "  <thead>\n",
       "    <tr style=\"text-align: right;\">\n",
       "      <th></th>\n",
       "      <th>Source</th>\n",
       "      <th>Destination</th>\n",
       "    </tr>\n",
       "  </thead>\n",
       "  <tbody>\n",
       "    <tr>\n",
       "      <th>0</th>\n",
       "      <td>1293152</td>\n",
       "      <td>1800897</td>\n",
       "    </tr>\n",
       "    <tr>\n",
       "      <th>1</th>\n",
       "      <td>420967</td>\n",
       "      <td>1072419</td>\n",
       "    </tr>\n",
       "    <tr>\n",
       "      <th>2</th>\n",
       "      <td>970737</td>\n",
       "      <td>1444392</td>\n",
       "    </tr>\n",
       "    <tr>\n",
       "      <th>3</th>\n",
       "      <td>1853675</td>\n",
       "      <td>1452068</td>\n",
       "    </tr>\n",
       "    <tr>\n",
       "      <th>4</th>\n",
       "      <td>507506</td>\n",
       "      <td>1474755</td>\n",
       "    </tr>\n",
       "  </tbody>\n",
       "</table>\n",
       "</div>"
      ],
      "text/plain": [
       "    Source  Destination\n",
       "0  1293152      1800897\n",
       "1   420967      1072419\n",
       "2   970737      1444392\n",
       "3  1853675      1452068\n",
       "4   507506      1474755"
      ]
     },
     "execution_count": 55,
     "metadata": {},
     "output_type": "execute_result"
    }
   ],
   "source": [
    "df_neg.head()"
   ]
  },
  {
   "cell_type": "code",
   "execution_count": 56,
   "metadata": {},
   "outputs": [],
   "source": [
    "#concatinating both \n",
    "final=df.append(df_neg)"
   ]
  },
  {
   "cell_type": "code",
   "execution_count": 57,
   "metadata": {},
   "outputs": [
    {
     "name": "stdout",
     "output_type": "stream",
     "text": [
      "<class 'pandas.core.frame.DataFrame'>\n",
      "Int64Index: 18875038 entries, 0 to 9437518\n",
      "Data columns (total 2 columns):\n",
      "Source         int64\n",
      "Destination    int64\n",
      "dtypes: int64(2)\n",
      "memory usage: 432.0 MB\n"
     ]
    }
   ],
   "source": [
    "final.info()"
   ]
  },
  {
   "cell_type": "code",
   "execution_count": 58,
   "metadata": {},
   "outputs": [
    {
     "data": {
      "text/plain": [
       "(18875038, 2)"
      ]
     },
     "execution_count": 58,
     "metadata": {},
     "output_type": "execute_result"
    }
   ],
   "source": [
    "final.shape"
   ]
  },
  {
   "cell_type": "code",
   "execution_count": 15,
   "metadata": {},
   "outputs": [],
   "source": [
    "listofones = [1] * 9437519\n",
    "listofzeroes = [0]* 9437519\n",
    "listofones.extend(listofzeroes)"
   ]
  },
  {
   "cell_type": "markdown",
   "metadata": {},
   "source": [
    "#### Shortest path:"
   ]
  },
  {
   "cell_type": "code",
   "execution_count": 60,
   "metadata": {},
   "outputs": [],
   "source": [
    "#if has direct edge then deleting that edge and calculating sgotest path\n",
    "def compute_shortest_path_length(a,b):\n",
    "    p=-1\n",
    "    try:\n",
    "        if g.has_edge(a,b):\n",
    "            g.remove_edge(a,b)\n",
    "            p= len(nx.shortest_path(g,source=a,target=b))-1\n",
    "            g.add_edge(a,b)\n",
    "        else:\n",
    "            p= len(nx.shortest_path(g,source=a,target=b))-1\n",
    "        return p\n",
    "    except:\n",
    "        return -1"
   ]
  },
  {
   "cell_type": "code",
   "execution_count": 61,
   "metadata": {},
   "outputs": [
    {
     "data": {
      "text/plain": [
       "10"
      ]
     },
     "execution_count": 61,
     "metadata": {},
     "output_type": "execute_result"
    }
   ],
   "source": [
    "#testing\n",
    "compute_shortest_path_length(77697, 826021)"
   ]
  },
  {
   "cell_type": "markdown",
   "metadata": {},
   "source": [
    "#### Checking for same community"
   ]
  },
  {
   "cell_type": "code",
   "execution_count": 62,
   "metadata": {},
   "outputs": [],
   "source": [
    "wcc=list(nx.weakly_connected_components(g))\n",
    "def belongs_to_same_wcc(a,b):\n",
    "    index = []\n",
    "    if g.has_edge(b,a):\n",
    "        return 1\n",
    "    if g.has_edge(a,b):\n",
    "            for i in wcc:\n",
    "                if a in i:\n",
    "                    index= i\n",
    "                    break\n",
    "            if (b in index):\n",
    "                g.remove_edge(a,b)\n",
    "                if compute_shortest_path_length(a,b)==-1:\n",
    "                    g.add_edge(a,b)\n",
    "                    return 0\n",
    "                else:\n",
    "                    g.add_edge(a,b)\n",
    "                    return 1\n",
    "            else:\n",
    "                return 0\n",
    "    else:\n",
    "            for i in wcc:\n",
    "                if a in i:\n",
    "                    index= i\n",
    "                    break\n",
    "            if(b in index):\n",
    "                return 1\n",
    "            else:\n",
    "                return 0"
   ]
  },
  {
   "cell_type": "code",
   "execution_count": 63,
   "metadata": {},
   "outputs": [
    {
     "data": {
      "text/plain": [
       "0"
      ]
     },
     "execution_count": 63,
     "metadata": {},
     "output_type": "execute_result"
    }
   ],
   "source": [
    "belongs_to_same_wcc(861, 1659750)"
   ]
  },
  {
   "cell_type": "markdown",
   "metadata": {},
   "source": [
    "#### Adamic/Adar Index"
   ]
  },
  {
   "cell_type": "code",
   "execution_count": 64,
   "metadata": {},
   "outputs": [],
   "source": [
    "def calc_adar_in(a,b):\n",
    "    sum=0\n",
    "    n=list(set(g.successors(a)).intersection(set(g.successors(b))))\n",
    "    if len(n)!=0:\n",
    "        for i in n:\n",
    "            sum=sum+(1/np.log10(len(list(g.predecessors(i)))))\n",
    "        return sum\n",
    "    else:\n",
    "        return 0"
   ]
  },
  {
   "cell_type": "code",
   "execution_count": 65,
   "metadata": {},
   "outputs": [
    {
     "data": {
      "text/plain": [
       "0.6838083759938891"
      ]
     },
     "execution_count": 65,
     "metadata": {},
     "output_type": "execute_result"
    }
   ],
   "source": [
    "calc_adar_in(1,189226)"
   ]
  },
  {
   "cell_type": "markdown",
   "metadata": {},
   "source": [
    "#### Is persion was following back:"
   ]
  },
  {
   "cell_type": "code",
   "execution_count": 66,
   "metadata": {},
   "outputs": [],
   "source": [
    "def follows_back(a,b):\n",
    "    if g.has_edge(b,a):\n",
    "        return 1\n",
    "    else:\n",
    "        return 0"
   ]
  },
  {
   "cell_type": "code",
   "execution_count": 68,
   "metadata": {},
   "outputs": [
    {
     "data": {
      "text/plain": [
       "1"
      ]
     },
     "execution_count": 68,
     "metadata": {},
     "output_type": "execute_result"
    }
   ],
   "source": [
    "follows_back(1,189226)"
   ]
  },
  {
   "cell_type": "markdown",
   "metadata": {},
   "source": [
    "#### Katz Centrality:"
   ]
  },
  {
   "cell_type": "code",
   "execution_count": 12,
   "metadata": {},
   "outputs": [],
   "source": [
    "katz = nx.katz.katz_centrality(g,alpha=0.005,beta=1)\n",
    "#import pickle\n",
    "#katz = pickle.load(open('katz.p','rb'))"
   ]
  },
  {
   "cell_type": "code",
   "execution_count": 15,
   "metadata": {},
   "outputs": [
    {
     "data": {
      "text/plain": [
       "1862220"
      ]
     },
     "execution_count": 15,
     "metadata": {},
     "output_type": "execute_result"
    }
   ],
   "source": [
    "len(katz)"
   ]
  },
  {
   "cell_type": "markdown",
   "metadata": {},
   "source": [
    "#### Hits Score"
   ]
  },
  {
   "cell_type": "code",
   "execution_count": 16,
   "metadata": {},
   "outputs": [],
   "source": [
    "hits = nx.hits(g, max_iter=100, tol=1e-08, nstart=None, normalized=True)\n",
    "#hits = pickle.load(open('hits.p','rb'))"
   ]
  },
  {
   "cell_type": "code",
   "execution_count": 17,
   "metadata": {},
   "outputs": [
    {
     "data": {
      "text/plain": [
       "2"
      ]
     },
     "execution_count": 17,
     "metadata": {},
     "output_type": "execute_result"
    }
   ],
   "source": [
    "len(hits)"
   ]
  },
  {
   "cell_type": "code",
   "execution_count": 18,
   "metadata": {},
   "outputs": [
    {
     "data": {
      "text/plain": [
       "1862220"
      ]
     },
     "execution_count": 18,
     "metadata": {},
     "output_type": "execute_result"
    }
   ],
   "source": [
    "len(hits[0])"
   ]
  },
  {
   "cell_type": "markdown",
   "metadata": {},
   "source": [
    "##### From all above scores preparing data set "
   ]
  },
  {
   "cell_type": "code",
   "execution_count": 69,
   "metadata": {},
   "outputs": [],
   "source": [
    "f1=[]\n",
    "f2=[]\n",
    "for i in range(9437519*2):\n",
    "    f1.append(jaccard_for_followers((final['Source'].values)[i],(final['Destination'].values)[i]))\n",
    "    f2.append(jaccard_for_followees((final['Source'].values)[i],(final['Destination'].values)[i]))"
   ]
  },
  {
   "cell_type": "code",
   "execution_count": 70,
   "metadata": {},
   "outputs": [],
   "source": [
    "final['jaccard_for_followers']=f1\n",
    "final['jaccard_for_followees']=f2"
   ]
  },
  {
   "cell_type": "code",
   "execution_count": 71,
   "metadata": {},
   "outputs": [],
   "source": [
    "num_followers_s=[]\n",
    "num_followees_s=[]\n",
    "num_followers_d=[]\n",
    "num_followees_d=[]\n",
    "inter_followers=[]\n",
    "inter_followees=[]\n",
    "for i in range(9437519*2):\n",
    "    s1=set(g.predecessors((final['Source'].values)[i]))\n",
    "    d1=set(g.predecessors((final['Destination'].values)[i]))\n",
    "    \n",
    "    s2=set(g.successors((final['Source'].values)[i]))\n",
    "    d2=set(g.successors((final['Destination'].values)[i]))\n",
    "    \n",
    "    num_followers_s.append(len(s1))\n",
    "    num_followees_s.append(len(s2))\n",
    "    \n",
    "    num_followers_d.append(len(d1))\n",
    "    num_followees_d.append(len(d2))\n",
    "    \n",
    "    inter_followers.append(len(s1.intersection(d1)))\n",
    "    inter_followees.append(len(s2.intersection(d2)))"
   ]
  },
  {
   "cell_type": "code",
   "execution_count": 72,
   "metadata": {},
   "outputs": [],
   "source": [
    "final['num_followers_s']=num_followers_s\n",
    "final['num_followees_s']=num_followees_s\n",
    "final['num_followers_d']=num_followers_d\n",
    "final['num_followees_d']=num_followees_d"
   ]
  },
  {
   "cell_type": "code",
   "execution_count": 73,
   "metadata": {},
   "outputs": [],
   "source": [
    "final['inter_followers']=inter_followers\n",
    "final['inter_followees']=inter_followees"
   ]
  },
  {
   "cell_type": "code",
   "execution_count": 74,
   "metadata": {},
   "outputs": [
    {
     "data": {
      "text/html": [
       "<div>\n",
       "<style scoped>\n",
       "    .dataframe tbody tr th:only-of-type {\n",
       "        vertical-align: middle;\n",
       "    }\n",
       "\n",
       "    .dataframe tbody tr th {\n",
       "        vertical-align: top;\n",
       "    }\n",
       "\n",
       "    .dataframe thead th {\n",
       "        text-align: right;\n",
       "    }\n",
       "</style>\n",
       "<table border=\"1\" class=\"dataframe\">\n",
       "  <thead>\n",
       "    <tr style=\"text-align: right;\">\n",
       "      <th></th>\n",
       "      <th>Source</th>\n",
       "      <th>Destination</th>\n",
       "      <th>jaccard_for_followers</th>\n",
       "      <th>jaccard_for_followees</th>\n",
       "      <th>num_followers_s</th>\n",
       "      <th>num_followees_s</th>\n",
       "      <th>num_followers_d</th>\n",
       "      <th>num_followees_d</th>\n",
       "      <th>inter_followers</th>\n",
       "      <th>inter_followees</th>\n",
       "    </tr>\n",
       "  </thead>\n",
       "  <tbody>\n",
       "    <tr>\n",
       "      <th>0</th>\n",
       "      <td>1</td>\n",
       "      <td>690569</td>\n",
       "      <td>0.066667</td>\n",
       "      <td>0.090909</td>\n",
       "      <td>3</td>\n",
       "      <td>3</td>\n",
       "      <td>29</td>\n",
       "      <td>21</td>\n",
       "      <td>2</td>\n",
       "      <td>2</td>\n",
       "    </tr>\n",
       "    <tr>\n",
       "      <th>1</th>\n",
       "      <td>1</td>\n",
       "      <td>315892</td>\n",
       "      <td>0.033333</td>\n",
       "      <td>0.029412</td>\n",
       "      <td>3</td>\n",
       "      <td>3</td>\n",
       "      <td>28</td>\n",
       "      <td>32</td>\n",
       "      <td>1</td>\n",
       "      <td>1</td>\n",
       "    </tr>\n",
       "    <tr>\n",
       "      <th>2</th>\n",
       "      <td>1</td>\n",
       "      <td>189226</td>\n",
       "      <td>0.200000</td>\n",
       "      <td>0.166667</td>\n",
       "      <td>3</td>\n",
       "      <td>3</td>\n",
       "      <td>3</td>\n",
       "      <td>4</td>\n",
       "      <td>1</td>\n",
       "      <td>1</td>\n",
       "    </tr>\n",
       "    <tr>\n",
       "      <th>3</th>\n",
       "      <td>2</td>\n",
       "      <td>834328</td>\n",
       "      <td>0.000000</td>\n",
       "      <td>0.000000</td>\n",
       "      <td>4</td>\n",
       "      <td>6</td>\n",
       "      <td>71</td>\n",
       "      <td>62</td>\n",
       "      <td>0</td>\n",
       "      <td>0</td>\n",
       "    </tr>\n",
       "    <tr>\n",
       "      <th>4</th>\n",
       "      <td>2</td>\n",
       "      <td>1615927</td>\n",
       "      <td>0.025641</td>\n",
       "      <td>0.032258</td>\n",
       "      <td>4</td>\n",
       "      <td>6</td>\n",
       "      <td>36</td>\n",
       "      <td>26</td>\n",
       "      <td>1</td>\n",
       "      <td>1</td>\n",
       "    </tr>\n",
       "  </tbody>\n",
       "</table>\n",
       "</div>"
      ],
      "text/plain": [
       "   Source  Destination  jaccard_for_followers  jaccard_for_followees  \\\n",
       "0       1       690569               0.066667               0.090909   \n",
       "1       1       315892               0.033333               0.029412   \n",
       "2       1       189226               0.200000               0.166667   \n",
       "3       2       834328               0.000000               0.000000   \n",
       "4       2      1615927               0.025641               0.032258   \n",
       "\n",
       "   num_followers_s  num_followees_s  num_followers_d  num_followees_d  \\\n",
       "0                3                3               29               21   \n",
       "1                3                3               28               32   \n",
       "2                3                3                3                4   \n",
       "3                4                6               71               62   \n",
       "4                4                6               36               26   \n",
       "\n",
       "   inter_followers  inter_followees  \n",
       "0                2                2  \n",
       "1                1                1  \n",
       "2                1                1  \n",
       "3                0                0  \n",
       "4                1                1  "
      ]
     },
     "execution_count": 74,
     "metadata": {},
     "output_type": "execute_result"
    }
   ],
   "source": [
    "final.head(5)"
   ]
  },
  {
   "cell_type": "code",
   "execution_count": 75,
   "metadata": {},
   "outputs": [],
   "source": [
    "adar=[]\n",
    "for i in range(9437519*2):\n",
    "    adar.append(calc_adar_in((final['Source'].values)[i],(final['Destination'].values)[i]))"
   ]
  },
  {
   "cell_type": "code",
   "execution_count": 76,
   "metadata": {},
   "outputs": [],
   "source": [
    "back=[]\n",
    "for i in range(9437519*2):\n",
    "    back.append(follows_back((final['Source'].values)[i],(final['Destination'].values)[i]))"
   ]
  },
  {
   "cell_type": "code",
   "execution_count": null,
   "metadata": {},
   "outputs": [],
   "source": [
    "same_comp=[]\n",
    "for i in range(9437519*2):\n",
    "    same_comp.append(belongs_to_same_wcc((final['Source'].values)[i],(final['Destination'].values)[i]))"
   ]
  },
  {
   "cell_type": "code",
   "execution_count": null,
   "metadata": {},
   "outputs": [],
   "source": [
    "path=[]\n",
    "for i in range(9437519*2):\n",
    "    path.append(compute_shortest_path_length((final['Source'].values)[i],(final['Destination'].values)[i]))"
   ]
  },
  {
   "cell_type": "code",
   "execution_count": null,
   "metadata": {},
   "outputs": [],
   "source": [
    "pr_s=[]\n",
    "pr_d=[]\n",
    "for i in range(9437519*2):\n",
    "    pr_s.append(pr.get((final['Source'].values)[i]))\n",
    "    pr_d.append(pr.get((final['Destination'].values)[i]))"
   ]
  },
  {
   "cell_type": "code",
   "execution_count": null,
   "metadata": {},
   "outputs": [],
   "source": [
    "pr_s=[]\n",
    "pr_d=[]\n",
    "for i in range(9437519*2):\n",
    "    pr_s.append(pr.get((final['Source'].values)[i]))\n",
    "    pr_d.append(pr.get((final['Destination'].values)[i]))"
   ]
  },
  {
   "cell_type": "code",
   "execution_count": 117,
   "metadata": {},
   "outputs": [],
   "source": [
    "final['adar_index']=adar\n",
    "final['follows_back']=back\n",
    "final['shortest_path']=path\n",
    "final['page_rank_s']= pr_s\n",
    "final['page_rank_d']= pr_d\n",
    "final['same_comp']=same_comp"
   ]
  },
  {
   "cell_type": "code",
   "execution_count": 23,
   "metadata": {},
   "outputs": [],
   "source": [
    "final['katz_s'] = final.Source.apply(lambda x: katz[x])\n",
    "final['katz_d'] = final.Destination.apply(lambda x: katz[x])"
   ]
  },
  {
   "cell_type": "code",
   "execution_count": 28,
   "metadata": {},
   "outputs": [],
   "source": [
    "final['hubs_s'] = final.Source.apply(lambda x: hits[0][x])\n",
    "final['hubs_d'] = final.Destination.apply(lambda x: hits[0][x])\n",
    "final['authorities_s'] = final.Source.apply(lambda x: hits[1][x])\n",
    "final['authorities_d'] = final.Destination.apply(lambda x: hits[1][x])"
   ]
  },
  {
   "cell_type": "code",
   "execution_count": 29,
   "metadata": {},
   "outputs": [],
   "source": [
    "from pandas import HDFStore,DataFrame\n",
    "hdf = HDFStore('storage_temp.h5')"
   ]
  },
  {
   "cell_type": "code",
   "execution_count": 30,
   "metadata": {},
   "outputs": [],
   "source": [
    "hdf.put('df',final, format='table', data_columns=True)"
   ]
  },
  {
   "cell_type": "code",
   "execution_count": 14,
   "metadata": {},
   "outputs": [],
   "source": [
    "from pandas import read_hdf\n",
    "hdf = read_hdf('storage_temp.h5', 'df',mode='r')"
   ]
  },
  {
   "cell_type": "code",
   "execution_count": 15,
   "metadata": {},
   "outputs": [
    {
     "data": {
      "text/html": [
       "<div>\n",
       "<style scoped>\n",
       "    .dataframe tbody tr th:only-of-type {\n",
       "        vertical-align: middle;\n",
       "    }\n",
       "\n",
       "    .dataframe tbody tr th {\n",
       "        vertical-align: top;\n",
       "    }\n",
       "\n",
       "    .dataframe thead th {\n",
       "        text-align: right;\n",
       "    }\n",
       "</style>\n",
       "<table border=\"1\" class=\"dataframe\">\n",
       "  <thead>\n",
       "    <tr style=\"text-align: right;\">\n",
       "      <th></th>\n",
       "      <th>Source</th>\n",
       "      <th>Destination</th>\n",
       "      <th>jaccard_for_followers</th>\n",
       "      <th>jaccard_for_followees</th>\n",
       "      <th>num_followers_s</th>\n",
       "      <th>num_followees_s</th>\n",
       "      <th>num_followers_d</th>\n",
       "      <th>num_followees_d</th>\n",
       "      <th>inter_followers</th>\n",
       "      <th>inter_followees</th>\n",
       "      <th>...</th>\n",
       "      <th>shortest_path</th>\n",
       "      <th>page_rank_s</th>\n",
       "      <th>page_rank_d</th>\n",
       "      <th>same_comp</th>\n",
       "      <th>katz_s</th>\n",
       "      <th>katz_d</th>\n",
       "      <th>hubs_s</th>\n",
       "      <th>hubs_d</th>\n",
       "      <th>authorities_s</th>\n",
       "      <th>authorities_d</th>\n",
       "    </tr>\n",
       "  </thead>\n",
       "  <tbody>\n",
       "    <tr>\n",
       "      <th>0</th>\n",
       "      <td>1</td>\n",
       "      <td>690569</td>\n",
       "      <td>0.066667</td>\n",
       "      <td>0.090909</td>\n",
       "      <td>3</td>\n",
       "      <td>3</td>\n",
       "      <td>29</td>\n",
       "      <td>21</td>\n",
       "      <td>2</td>\n",
       "      <td>2</td>\n",
       "      <td>...</td>\n",
       "      <td>2</td>\n",
       "      <td>2.979445e-07</td>\n",
       "      <td>3.726469e-06</td>\n",
       "      <td>1</td>\n",
       "      <td>0.000722</td>\n",
       "      <td>0.000819</td>\n",
       "      <td>8.549204e-18</td>\n",
       "      <td>1.690629e-16</td>\n",
       "      <td>3.812313e-18</td>\n",
       "      <td>3.942264e-16</td>\n",
       "    </tr>\n",
       "    <tr>\n",
       "      <th>1</th>\n",
       "      <td>1</td>\n",
       "      <td>315892</td>\n",
       "      <td>0.033333</td>\n",
       "      <td>0.029412</td>\n",
       "      <td>3</td>\n",
       "      <td>3</td>\n",
       "      <td>28</td>\n",
       "      <td>32</td>\n",
       "      <td>1</td>\n",
       "      <td>1</td>\n",
       "      <td>...</td>\n",
       "      <td>2</td>\n",
       "      <td>2.979445e-07</td>\n",
       "      <td>2.420463e-06</td>\n",
       "      <td>1</td>\n",
       "      <td>0.000722</td>\n",
       "      <td>0.000815</td>\n",
       "      <td>8.549204e-18</td>\n",
       "      <td>3.756260e-16</td>\n",
       "      <td>3.812313e-18</td>\n",
       "      <td>1.088839e-15</td>\n",
       "    </tr>\n",
       "    <tr>\n",
       "      <th>2</th>\n",
       "      <td>1</td>\n",
       "      <td>189226</td>\n",
       "      <td>0.200000</td>\n",
       "      <td>0.166667</td>\n",
       "      <td>3</td>\n",
       "      <td>3</td>\n",
       "      <td>3</td>\n",
       "      <td>4</td>\n",
       "      <td>1</td>\n",
       "      <td>1</td>\n",
       "      <td>...</td>\n",
       "      <td>2</td>\n",
       "      <td>2.979445e-07</td>\n",
       "      <td>5.499399e-07</td>\n",
       "      <td>1</td>\n",
       "      <td>0.000722</td>\n",
       "      <td>0.000721</td>\n",
       "      <td>8.549204e-18</td>\n",
       "      <td>1.311680e-16</td>\n",
       "      <td>3.812313e-18</td>\n",
       "      <td>1.031571e-18</td>\n",
       "    </tr>\n",
       "    <tr>\n",
       "      <th>3</th>\n",
       "      <td>2</td>\n",
       "      <td>834328</td>\n",
       "      <td>0.000000</td>\n",
       "      <td>0.000000</td>\n",
       "      <td>4</td>\n",
       "      <td>6</td>\n",
       "      <td>71</td>\n",
       "      <td>62</td>\n",
       "      <td>0</td>\n",
       "      <td>0</td>\n",
       "      <td>...</td>\n",
       "      <td>4</td>\n",
       "      <td>2.305481e-07</td>\n",
       "      <td>3.609568e-06</td>\n",
       "      <td>1</td>\n",
       "      <td>0.000727</td>\n",
       "      <td>0.000987</td>\n",
       "      <td>5.733354e-17</td>\n",
       "      <td>2.201178e-15</td>\n",
       "      <td>1.470085e-17</td>\n",
       "      <td>7.312979e-15</td>\n",
       "    </tr>\n",
       "    <tr>\n",
       "      <th>4</th>\n",
       "      <td>2</td>\n",
       "      <td>1615927</td>\n",
       "      <td>0.025641</td>\n",
       "      <td>0.032258</td>\n",
       "      <td>4</td>\n",
       "      <td>6</td>\n",
       "      <td>36</td>\n",
       "      <td>26</td>\n",
       "      <td>1</td>\n",
       "      <td>1</td>\n",
       "      <td>...</td>\n",
       "      <td>2</td>\n",
       "      <td>2.305481e-07</td>\n",
       "      <td>3.146838e-06</td>\n",
       "      <td>1</td>\n",
       "      <td>0.000727</td>\n",
       "      <td>0.000849</td>\n",
       "      <td>5.733354e-17</td>\n",
       "      <td>2.568950e-16</td>\n",
       "      <td>1.470085e-17</td>\n",
       "      <td>1.377441e-15</td>\n",
       "    </tr>\n",
       "  </tbody>\n",
       "</table>\n",
       "<p>5 rows × 22 columns</p>\n",
       "</div>"
      ],
      "text/plain": [
       "   Source  Destination  jaccard_for_followers  jaccard_for_followees  \\\n",
       "0       1       690569               0.066667               0.090909   \n",
       "1       1       315892               0.033333               0.029412   \n",
       "2       1       189226               0.200000               0.166667   \n",
       "3       2       834328               0.000000               0.000000   \n",
       "4       2      1615927               0.025641               0.032258   \n",
       "\n",
       "   num_followers_s  num_followees_s  num_followers_d  num_followees_d  \\\n",
       "0                3                3               29               21   \n",
       "1                3                3               28               32   \n",
       "2                3                3                3                4   \n",
       "3                4                6               71               62   \n",
       "4                4                6               36               26   \n",
       "\n",
       "   inter_followers  inter_followees      ...        shortest_path  \\\n",
       "0                2                2      ...                    2   \n",
       "1                1                1      ...                    2   \n",
       "2                1                1      ...                    2   \n",
       "3                0                0      ...                    4   \n",
       "4                1                1      ...                    2   \n",
       "\n",
       "    page_rank_s   page_rank_d  same_comp    katz_s    katz_d        hubs_s  \\\n",
       "0  2.979445e-07  3.726469e-06          1  0.000722  0.000819  8.549204e-18   \n",
       "1  2.979445e-07  2.420463e-06          1  0.000722  0.000815  8.549204e-18   \n",
       "2  2.979445e-07  5.499399e-07          1  0.000722  0.000721  8.549204e-18   \n",
       "3  2.305481e-07  3.609568e-06          1  0.000727  0.000987  5.733354e-17   \n",
       "4  2.305481e-07  3.146838e-06          1  0.000727  0.000849  5.733354e-17   \n",
       "\n",
       "         hubs_d  authorities_s  authorities_d  \n",
       "0  1.690629e-16   3.812313e-18   3.942264e-16  \n",
       "1  3.756260e-16   3.812313e-18   1.088839e-15  \n",
       "2  1.311680e-16   3.812313e-18   1.031571e-18  \n",
       "3  2.201178e-15   1.470085e-17   7.312979e-15  \n",
       "4  2.568950e-16   1.470085e-17   1.377441e-15  \n",
       "\n",
       "[5 rows x 22 columns]"
      ]
     },
     "execution_count": 15,
     "metadata": {},
     "output_type": "execute_result"
    }
   ],
   "source": [
    "hdf.head()"
   ]
  },
  {
   "cell_type": "code",
   "execution_count": 13,
   "metadata": {},
   "outputs": [],
   "source": [
    "del Adj"
   ]
  },
  {
   "cell_type": "code",
   "execution_count": 17,
   "metadata": {},
   "outputs": [],
   "source": [
    "svd_u_s=[]\n",
    "svd_u_d=[]\n",
    "svd_v_s=[]\n",
    "svd_v_d=[]\n",
    "for i in range(9437519*2):\n",
    "    svd_u_s.append(U[(hdf['Source'].values)[i]-1])\n",
    "    svd_u_d.append(U[(hdf['Destination'].values)[i]-1])\n",
    "    svd_v_s.append(V.T[(hdf['Source'].values)[i]-1])\n",
    "    svd_v_d.append(V.T[(hdf['Destination'].values)[i]-1])"
   ]
  },
  {
   "cell_type": "code",
   "execution_count": 19,
   "metadata": {},
   "outputs": [],
   "source": [
    "def get_svd_frame(svd_para,s_para):\n",
    "    hdf['svd_'+svd_para+'_'+s_para+'_1']=df_s_u['svd_u_s_1']\n",
    "    del df_s_u['svd_u_s_1']\n",
    "    hdf['svd_'+svd_para+'_'+s_para+'_2']=df_s_u['svd_u_s_2']\n",
    "    del df_s_u['svd_u_s_2']\n",
    "    hdf['svd_'+svd_para+'_'+s_para+'_3']=df_s_u['svd_u_s_3']\n",
    "    del df_s_u['svd_u_s_3']\n",
    "    hdf['svd_'+svd_para+'_'+s_para+'_4']=df_s_u['svd_u_s_4']\n",
    "    del df_s_u['svd_u_s_4']\n",
    "    hdf['svd_'+svd_para+'_'+s_para+'_5']=df_s_u['svd_u_s_5']\n",
    "    del df_s_u['svd_u_s_5']\n",
    "    hdf['svd_'+svd_para+'_'+s_para+'_6']=df_s_u['svd_u_s_6']\n",
    "    del df_s_u['svd_u_s_6']"
   ]
  },
  {
   "cell_type": "code",
   "execution_count": 20,
   "metadata": {},
   "outputs": [],
   "source": [
    "df_s_u = pd.DataFrame(columns=['svd_u_s_1', 'svd_u_s_2','svd_u_s_3', 'svd_u_s_4','svd_u_s_5', \n",
    "                                      'svd_u_s_6'], data=svd_u_s)"
   ]
  },
  {
   "cell_type": "code",
   "execution_count": 21,
   "metadata": {},
   "outputs": [],
   "source": [
    "get_svd_frame('u','s')\n",
    "del svd_u_s\n",
    "del df_s_u"
   ]
  },
  {
   "cell_type": "code",
   "execution_count": 22,
   "metadata": {},
   "outputs": [],
   "source": [
    "df_s_u = pd.DataFrame(columns=['svd_u_s_1', 'svd_u_s_2','svd_u_s_3', 'svd_u_s_4','svd_u_s_5', \n",
    "                                 'svd_u_s_6'], data=svd_v_s)"
   ]
  },
  {
   "cell_type": "code",
   "execution_count": 23,
   "metadata": {},
   "outputs": [],
   "source": [
    "get_svd_frame('v','s')\n",
    "del svd_v_s\n",
    "del df_s_u"
   ]
  },
  {
   "cell_type": "code",
   "execution_count": 24,
   "metadata": {},
   "outputs": [],
   "source": [
    "df_s_u = pd.DataFrame(columns=['svd_u_s_1', 'svd_u_s_2','svd_u_s_3', 'svd_u_s_4','svd_u_s_5', 'svd_u_s_6'], data=svd_u_d)"
   ]
  },
  {
   "cell_type": "code",
   "execution_count": 25,
   "metadata": {},
   "outputs": [],
   "source": [
    "get_svd_frame('u','d')\n",
    "del svd_u_d\n",
    "del df_s_u"
   ]
  },
  {
   "cell_type": "code",
   "execution_count": 26,
   "metadata": {},
   "outputs": [],
   "source": [
    "df_s_u = pd.DataFrame(columns=['svd_u_s_1', 'svd_u_s_2','svd_u_s_3', 'svd_u_s_4','svd_u_s_5', 'svd_u_s_6'], data=svd_v_d)"
   ]
  },
  {
   "cell_type": "code",
   "execution_count": 27,
   "metadata": {},
   "outputs": [],
   "source": [
    "get_svd_frame('v','d')\n",
    "del svd_v_d\n",
    "del df_s_u"
   ]
  },
  {
   "cell_type": "code",
   "execution_count": 29,
   "metadata": {},
   "outputs": [
    {
     "data": {
      "text/html": [
       "<div>\n",
       "<style scoped>\n",
       "    .dataframe tbody tr th:only-of-type {\n",
       "        vertical-align: middle;\n",
       "    }\n",
       "\n",
       "    .dataframe tbody tr th {\n",
       "        vertical-align: top;\n",
       "    }\n",
       "\n",
       "    .dataframe thead th {\n",
       "        text-align: right;\n",
       "    }\n",
       "</style>\n",
       "<table border=\"1\" class=\"dataframe\">\n",
       "  <thead>\n",
       "    <tr style=\"text-align: right;\">\n",
       "      <th></th>\n",
       "      <th>Source</th>\n",
       "      <th>Destination</th>\n",
       "      <th>jaccard_for_followers</th>\n",
       "      <th>jaccard_for_followees</th>\n",
       "      <th>num_followers_s</th>\n",
       "      <th>num_followees_s</th>\n",
       "      <th>num_followers_d</th>\n",
       "      <th>num_followees_d</th>\n",
       "      <th>inter_followers</th>\n",
       "      <th>inter_followees</th>\n",
       "      <th>...</th>\n",
       "      <th>svd_u_d_3</th>\n",
       "      <th>svd_u_d_4</th>\n",
       "      <th>svd_u_d_5</th>\n",
       "      <th>svd_u_d_6</th>\n",
       "      <th>svd_v_d_1</th>\n",
       "      <th>svd_v_d_2</th>\n",
       "      <th>svd_v_d_3</th>\n",
       "      <th>svd_v_d_4</th>\n",
       "      <th>svd_v_d_5</th>\n",
       "      <th>svd_v_d_6</th>\n",
       "    </tr>\n",
       "  </thead>\n",
       "  <tbody>\n",
       "    <tr>\n",
       "      <th>0</th>\n",
       "      <td>1</td>\n",
       "      <td>690569</td>\n",
       "      <td>0.066667</td>\n",
       "      <td>0.090909</td>\n",
       "      <td>3</td>\n",
       "      <td>3</td>\n",
       "      <td>29</td>\n",
       "      <td>21</td>\n",
       "      <td>2</td>\n",
       "      <td>2</td>\n",
       "      <td>...</td>\n",
       "      <td>7.574563e-11</td>\n",
       "      <td>2.203385e-13</td>\n",
       "      <td>-1.137448e-12</td>\n",
       "      <td>-3.117460e-15</td>\n",
       "      <td>-1.192614e-12</td>\n",
       "      <td>1.769739e-11</td>\n",
       "      <td>7.610923e-11</td>\n",
       "      <td>2.991776e-13</td>\n",
       "      <td>-2.859740e-12</td>\n",
       "      <td>-7.345663e-15</td>\n",
       "    </tr>\n",
       "    <tr>\n",
       "      <th>1</th>\n",
       "      <td>1</td>\n",
       "      <td>315892</td>\n",
       "      <td>0.033333</td>\n",
       "      <td>0.029412</td>\n",
       "      <td>3</td>\n",
       "      <td>3</td>\n",
       "      <td>28</td>\n",
       "      <td>32</td>\n",
       "      <td>1</td>\n",
       "      <td>1</td>\n",
       "      <td>...</td>\n",
       "      <td>7.789290e-11</td>\n",
       "      <td>2.007310e-12</td>\n",
       "      <td>-1.052990e-11</td>\n",
       "      <td>-6.926059e-15</td>\n",
       "      <td>-6.693973e-13</td>\n",
       "      <td>1.119150e-10</td>\n",
       "      <td>4.106460e-11</td>\n",
       "      <td>2.169967e-12</td>\n",
       "      <td>-1.106141e-12</td>\n",
       "      <td>-2.028846e-14</td>\n",
       "    </tr>\n",
       "    <tr>\n",
       "      <th>2</th>\n",
       "      <td>1</td>\n",
       "      <td>189226</td>\n",
       "      <td>0.200000</td>\n",
       "      <td>0.166667</td>\n",
       "      <td>3</td>\n",
       "      <td>3</td>\n",
       "      <td>3</td>\n",
       "      <td>4</td>\n",
       "      <td>1</td>\n",
       "      <td>1</td>\n",
       "      <td>...</td>\n",
       "      <td>6.202886e-13</td>\n",
       "      <td>3.541983e-15</td>\n",
       "      <td>-4.075645e-14</td>\n",
       "      <td>-2.418571e-15</td>\n",
       "      <td>-5.133729e-14</td>\n",
       "      <td>1.009115e-10</td>\n",
       "      <td>5.980483e-13</td>\n",
       "      <td>2.168489e-15</td>\n",
       "      <td>-7.963057e-15</td>\n",
       "      <td>-1.922222e-17</td>\n",
       "    </tr>\n",
       "    <tr>\n",
       "      <th>3</th>\n",
       "      <td>2</td>\n",
       "      <td>834328</td>\n",
       "      <td>0.000000</td>\n",
       "      <td>0.000000</td>\n",
       "      <td>4</td>\n",
       "      <td>6</td>\n",
       "      <td>71</td>\n",
       "      <td>62</td>\n",
       "      <td>0</td>\n",
       "      <td>0</td>\n",
       "      <td>...</td>\n",
       "      <td>3.660370e-09</td>\n",
       "      <td>1.281799e-11</td>\n",
       "      <td>-3.699026e-11</td>\n",
       "      <td>-4.058605e-14</td>\n",
       "      <td>-8.897765e-12</td>\n",
       "      <td>1.398199e-09</td>\n",
       "      <td>1.295040e-09</td>\n",
       "      <td>7.927656e-12</td>\n",
       "      <td>-9.188607e-11</td>\n",
       "      <td>-1.362635e-13</td>\n",
       "    </tr>\n",
       "    <tr>\n",
       "      <th>4</th>\n",
       "      <td>2</td>\n",
       "      <td>1615927</td>\n",
       "      <td>0.025641</td>\n",
       "      <td>0.032258</td>\n",
       "      <td>4</td>\n",
       "      <td>6</td>\n",
       "      <td>36</td>\n",
       "      <td>26</td>\n",
       "      <td>1</td>\n",
       "      <td>1</td>\n",
       "      <td>...</td>\n",
       "      <td>3.016396e-11</td>\n",
       "      <td>7.628502e-12</td>\n",
       "      <td>-8.342092e-12</td>\n",
       "      <td>-4.736594e-15</td>\n",
       "      <td>-2.254699e-12</td>\n",
       "      <td>4.046084e-11</td>\n",
       "      <td>1.085944e-10</td>\n",
       "      <td>7.773768e-13</td>\n",
       "      <td>-3.284524e-12</td>\n",
       "      <td>-2.566603e-14</td>\n",
       "    </tr>\n",
       "  </tbody>\n",
       "</table>\n",
       "<p>5 rows × 46 columns</p>\n",
       "</div>"
      ],
      "text/plain": [
       "   Source  Destination  jaccard_for_followers  jaccard_for_followees  \\\n",
       "0       1       690569               0.066667               0.090909   \n",
       "1       1       315892               0.033333               0.029412   \n",
       "2       1       189226               0.200000               0.166667   \n",
       "3       2       834328               0.000000               0.000000   \n",
       "4       2      1615927               0.025641               0.032258   \n",
       "\n",
       "   num_followers_s  num_followees_s  num_followers_d  num_followees_d  \\\n",
       "0                3                3               29               21   \n",
       "1                3                3               28               32   \n",
       "2                3                3                3                4   \n",
       "3                4                6               71               62   \n",
       "4                4                6               36               26   \n",
       "\n",
       "   inter_followers  inter_followees      ...          svd_u_d_3     svd_u_d_4  \\\n",
       "0                2                2      ...       7.574563e-11  2.203385e-13   \n",
       "1                1                1      ...       7.789290e-11  2.007310e-12   \n",
       "2                1                1      ...       6.202886e-13  3.541983e-15   \n",
       "3                0                0      ...       3.660370e-09  1.281799e-11   \n",
       "4                1                1      ...       3.016396e-11  7.628502e-12   \n",
       "\n",
       "      svd_u_d_5     svd_u_d_6     svd_v_d_1     svd_v_d_2     svd_v_d_3  \\\n",
       "0 -1.137448e-12 -3.117460e-15 -1.192614e-12  1.769739e-11  7.610923e-11   \n",
       "1 -1.052990e-11 -6.926059e-15 -6.693973e-13  1.119150e-10  4.106460e-11   \n",
       "2 -4.075645e-14 -2.418571e-15 -5.133729e-14  1.009115e-10  5.980483e-13   \n",
       "3 -3.699026e-11 -4.058605e-14 -8.897765e-12  1.398199e-09  1.295040e-09   \n",
       "4 -8.342092e-12 -4.736594e-15 -2.254699e-12  4.046084e-11  1.085944e-10   \n",
       "\n",
       "      svd_v_d_4     svd_v_d_5     svd_v_d_6  \n",
       "0  2.991776e-13 -2.859740e-12 -7.345663e-15  \n",
       "1  2.169967e-12 -1.106141e-12 -2.028846e-14  \n",
       "2  2.168489e-15 -7.963057e-15 -1.922222e-17  \n",
       "3  7.927656e-12 -9.188607e-11 -1.362635e-13  \n",
       "4  7.773768e-13 -3.284524e-12 -2.566603e-14  \n",
       "\n",
       "[5 rows x 46 columns]"
      ]
     },
     "execution_count": 29,
     "metadata": {},
     "output_type": "execute_result"
    }
   ],
   "source": [
    "hdf.head()"
   ]
  },
  {
   "cell_type": "markdown",
   "metadata": {},
   "source": [
    "Storing data in HDF format"
   ]
  },
  {
   "cell_type": "code",
   "execution_count": 28,
   "metadata": {},
   "outputs": [],
   "source": [
    "from pandas import HDFStore,DataFrame\n",
    "hdf1 = HDFStore('storage_final.h5')"
   ]
  },
  {
   "cell_type": "code",
   "execution_count": 30,
   "metadata": {},
   "outputs": [],
   "source": [
    "hdf1.put('df1',hdf, format='table', data_columns=True)"
   ]
  },
  {
   "cell_type": "code",
   "execution_count": 2,
   "metadata": {},
   "outputs": [],
   "source": [
    "from pandas import read_hdf\n",
    "hdf = read_hdf('storage_final.h5', 'df1',mode='r')"
   ]
  },
  {
   "cell_type": "code",
   "execution_count": 3,
   "metadata": {},
   "outputs": [
    {
     "data": {
      "text/plain": [
       "Index(['Source', 'Destination', 'jaccard_for_followers',\n",
       "       'jaccard_for_followees', 'num_followers_s', 'num_followees_s',\n",
       "       'num_followers_d', 'num_followees_d', 'inter_followers',\n",
       "       'inter_followees', 'adar_index', 'follows_back', 'shortest_path',\n",
       "       'page_rank_s', 'page_rank_d', 'same_comp', 'katz_s', 'katz_d', 'hubs_s',\n",
       "       'hubs_d', 'authorities_s', 'authorities_d', 'svd_u_s_1', 'svd_u_s_2',\n",
       "       'svd_u_s_3', 'svd_u_s_4', 'svd_u_s_5', 'svd_u_s_6', 'svd_v_s_1',\n",
       "       'svd_v_s_2', 'svd_v_s_3', 'svd_v_s_4', 'svd_v_s_5', 'svd_v_s_6',\n",
       "       'svd_u_d_1', 'svd_u_d_2', 'svd_u_d_3', 'svd_u_d_4', 'svd_u_d_5',\n",
       "       'svd_u_d_6', 'svd_v_d_1', 'svd_v_d_2', 'svd_v_d_3', 'svd_v_d_4',\n",
       "       'svd_v_d_5', 'svd_v_d_6'],\n",
       "      dtype='object')"
      ]
     },
     "execution_count": 3,
     "metadata": {},
     "output_type": "execute_result"
    }
   ],
   "source": [
    "hdf.columns"
   ]
  },
  {
   "cell_type": "code",
   "execution_count": 16,
   "metadata": {},
   "outputs": [
    {
     "data": {
      "text/plain": [
       "18875038"
      ]
     },
     "execution_count": 16,
     "metadata": {},
     "output_type": "execute_result"
    }
   ],
   "source": [
    "len(listofones)"
   ]
  },
  {
   "cell_type": "markdown",
   "metadata": {},
   "source": [
    "##### Train Test split"
   ]
  },
  {
   "cell_type": "code",
   "execution_count": 17,
   "metadata": {},
   "outputs": [],
   "source": [
    "from sklearn.model_selection import train_test_split\n",
    "X_train, X_test, y_train, y_test = train_test_split(hdf,listofones,stratify=listofones,test_size=0.10,random_state=13)"
   ]
  },
  {
   "cell_type": "code",
   "execution_count": 18,
   "metadata": {},
   "outputs": [
    {
     "name": "stdout",
     "output_type": "stream",
     "text": [
      "Train Shape (16987534, 46)\n",
      "Test Shape (1887504, 46)\n"
     ]
    }
   ],
   "source": [
    "print('Train Shape',X_train.shape)\n",
    "print('Test Shape',X_test.shape)"
   ]
  },
  {
   "cell_type": "markdown",
   "metadata": {},
   "source": [
    "### Machine learning Models"
   ]
  },
  {
   "cell_type": "code",
   "execution_count": 8,
   "metadata": {},
   "outputs": [
    {
     "name": "stdout",
     "output_type": "stream",
     "text": [
      "Estimators =  10 Train Score 0.9355605557726946 test Score 0.9358778299053476\n",
      "Estimators =  50 Train Score 0.9324250741464069 test Score 0.9327588195256303\n",
      "Estimators =  100 Train Score 0.9360400602184306 test Score 0.9363720826582735\n",
      "Estimators =  250 Train Score 0.9326616802528905 test Score 0.9330067584941765\n",
      "Estimators =  450 Train Score 0.9356461169461268 test Score 0.9360057114029872\n"
     ]
    },
    {
     "data": {
      "text/plain": [
       "Text(0.5,1,'Estimators vs score at depth of 5')"
      ]
     },
     "execution_count": 8,
     "metadata": {},
     "output_type": "execute_result"
    },
    {
     "data": {
      "image/png": "[encoded data removed]",
      "text/plain": [
       "<matplotlib.figure.Figure at 0x2ab0baa6a9b0>"
      ]
     },
     "metadata": {},
     "output_type": "display_data"
    }
   ],
   "source": [
    "estimators = [10,50,100,250,450]\n",
    "train_scores = []\n",
    "test_scores = []\n",
    "for i in estimators:\n",
    "    clf = RandomForestClassifier(bootstrap=True, class_weight=None, criterion='gini',\n",
    "            max_depth=5, max_features='auto', max_leaf_nodes=None,\n",
    "            min_impurity_decrease=0.0, min_impurity_split=None,\n",
    "            min_samples_leaf=52, min_samples_split=120,\n",
    "            min_weight_fraction_leaf=0.0, n_estimators=i, n_jobs=-1,random_state=25,verbose=0,warm_start=False)\n",
    "    clf.fit(X_train,y_train)\n",
    "    train_sc = f1_score(y_train,clf.predict(X_train))\n",
    "    test_sc = f1_score(y_test,clf.predict(X_test))\n",
    "    test_scores.append(test_sc)\n",
    "    train_scores.append(train_sc)\n",
    "    print('Estimators = ',i,'Train Score',train_sc,'test Score',test_sc)\n",
    "plt.plot(estimators,train_scores,label='Train Score')\n",
    "plt.plot(estimators,test_scores,label='Test Score')\n",
    "plt.xlabel('Estimators')\n",
    "plt.ylabel('Score')\n",
    "plt.title('Estimators vs score at depth of 5')"
   ]
  },
  {
   "cell_type": "code",
   "execution_count": 12,
   "metadata": {},
   "outputs": [
    {
     "name": "stdout",
     "output_type": "stream",
     "text": [
      "Depth =  3 Train Score 0.9135633952211895 test Score 0.9138565572544209\n",
      "Depth =  5 Train Score 0.9357882996440469 test Score 0.9361266342454293\n",
      "Depth =  7 Train Score 0.9435873122599637 test Score 0.943848372935684\n",
      "Depth =  9 Train Score 0.9468496272790211 test Score 0.94706832113918\n",
      "Depth =  11 Train Score 0.954207176045251 test Score 0.9543986099916757\n",
      "Depth =  13 Train Score 0.9576369816149864 test Score 0.9576574235211681\n",
      "Depth =  15 Train Score 0.9643837384370765 test Score 0.9643493093625056\n"
     ]
    },
    {
     "data": {
      "text/plain": [
       "Text(0.5,1,'Depth vs score at depth of 5 at estimators = 110')"
      ]
     },
     "execution_count": 12,
     "metadata": {},
     "output_type": "execute_result"
    },
    {
     "data": {
      "image/png": "[encoded data removed]",
      "text/plain": [
       "<matplotlib.figure.Figure at 0x151e68d85a90>"
      ]
     },
     "metadata": {},
     "output_type": "display_data"
    }
   ],
   "source": [
    "depths = [3,5,7,9,11,13,15]\n",
    "train_scores = []\n",
    "test_scores = []\n",
    "for i in depths:\n",
    "    clf = RandomForestClassifier(bootstrap=True, class_weight=None, criterion='gini',\n",
    "            max_depth=i, max_features='auto', max_leaf_nodes=None,\n",
    "            min_impurity_decrease=0.0, min_impurity_split=None,\n",
    "            min_samples_leaf=52, min_samples_split=120,\n",
    "            min_weight_fraction_leaf=0.0, n_estimators=110, n_jobs=-1,random_state=25,verbose=0,warm_start=False)\n",
    "    clf.fit(X_train,y_train)\n",
    "    train_sc = f1_score(y_train,clf.predict(X_train))\n",
    "    test_sc = f1_score(y_test,clf.predict(X_test))\n",
    "    test_scores.append(test_sc)\n",
    "    train_scores.append(train_sc)\n",
    "    print('depth = ',i,'Train Score',train_sc,'test Score',test_sc)\n",
    "plt.plot(depths,train_scores,label='Train Score')\n",
    "plt.plot(depths,test_scores,label='Test Score')\n",
    "plt.xlabel('Depth')\n",
    "plt.ylabel('Score')\n",
    "plt.title('Depth vs score at depth of 5 at estimators = 110')"
   ]
  },
  {
   "cell_type": "code",
   "execution_count": 14,
   "metadata": {},
   "outputs": [
    {
     "name": "stdout",
     "output_type": "stream",
     "text": [
      "Depth =  15 Train Score 0.9643837384370765 test Score 0.9643493093625056\n",
      "Depth =  17 Train Score 0.9684922617199279 test Score 0.9684519418634415\n",
      "Depth =  19 Train Score 0.969924351511325 test Score 0.9699622974598553\n",
      "Depth =  25 Train Score 0.972800920649682 test Score 0.9727983990794277\n",
      "Depth =  30 Train Score 0.973176868239819 test Score 0.973154358820791\n",
      "Depth =  50 Train Score 0.9732532862836132 test Score 0.9731564649237942\n"
     ]
    },
    {
     "data": {
      "text/plain": [
       "Text(0.5,1,'Estimators vs score')"
      ]
     },
     "execution_count": 14,
     "metadata": {},
     "output_type": "execute_result"
    },
    {
     "data": {
      "image/png": "[encoded data removed]",
      "text/plain": [
       "<matplotlib.figure.Figure at 0x151c259b2198>"
      ]
     },
     "metadata": {},
     "output_type": "display_data"
    }
   ],
   "source": [
    "depths = [15,17,19,25,30,50]\n",
    "train_scores = []\n",
    "test_scores = []\n",
    "for i in depths:\n",
    "    clf = RandomForestClassifier(bootstrap=True, class_weight=None, criterion='gini',\n",
    "            max_depth=i, max_features='auto', max_leaf_nodes=None,\n",
    "            min_impurity_decrease=0.0, min_impurity_split=None,\n",
    "            min_samples_leaf=52, min_samples_split=120,\n",
    "            min_weight_fraction_leaf=0.0, n_estimators=110, n_jobs=-1,random_state=25,verbose=0,warm_start=False)\n",
    "    train_sc = f1_score(y_train,clf.predict(X_train))\n",
    "    test_sc = f1_score(y_test,clf.predict(X_test))\n",
    "    test_scores.append(test_sc)\n",
    "    train_scores.append(train_sc)\n",
    "    print('Depth = ',i,'Train Score',train_sc,'test Score',test_sc)\n",
    "plt.plot(depths,train_scores,label='Train Score')\n",
    "plt.plot(depths,test_scores,label='Test Score')\n",
    "plt.xlabel('Depth')\n",
    "plt.ylabel('Score')\n",
    "plt.title('Estimators vs score')"
   ]
  },
  {
   "cell_type": "code",
   "execution_count": 12,
   "metadata": {},
   "outputs": [
    {
     "name": "stdout",
     "output_type": "stream",
     "text": [
      "Depth =  30 Train Score 0.973176868239819 test Score 0.973154358820791\n",
      "Depth =  50 Train Score 0.9732532862836132 test Score 0.9731564649237942\n",
      "Depth =  60 Train Score 0.973267182073576 test Score 0.9731879925133946\n",
      "Depth =  75 Train Score 0.973267182073576 test Score 0.9731879925133946\n",
      "Depth =  95 Train Score 0.973267182073576 test Score 0.9731879925133946\n",
      "Depth =  120 Train Score 0.973267182073576 test Score 0.9731879925133946\n",
      "Depth =  150 Train Score 0.973267182073576 test Score 0.9731879925133946\n",
      "Depth =  190 Train Score 0.973267182073576 test Score 0.9731879925133946\n"
     ]
    },
    {
     "data": {
      "text/plain": [
       "Text(0.5,1,'Depth vs score ')"
      ]
     },
     "execution_count": 12,
     "metadata": {},
     "output_type": "execute_result"
    },
    {
     "data": {
      "image/png": "[encoded data removed]",
      "text/plain": [
       "<matplotlib.figure.Figure at 0x14732a289be0>"
      ]
     },
     "metadata": {},
     "output_type": "display_data"
    }
   ],
   "source": [
    "%matplotlib inline\n",
    "depths = [30,50,60,75,95,120,150,190]\n",
    "train_scores = []\n",
    "test_scores = []\n",
    "for i in depths:\n",
    "    clf = RandomForestClassifier(bootstrap=True, class_weight=None, criterion='gini',\n",
    "            max_depth=i, max_features='auto', max_leaf_nodes=None,\n",
    "            min_impurity_decrease=0.0, min_impurity_split=None,\n",
    "            min_samples_leaf=52, min_samples_split=120,\n",
    "            min_weight_fraction_leaf=0.0, n_estimators=110, n_jobs=-1,random_state=25,verbose=0,warm_start=False)\n",
    "    clf.fit(X_train,y_train)\n",
    "    train_sc = f1_score(y_train,clf.predict(X_train))\n",
    "    test_sc = f1_score(y_test,clf.predict(X_test))\n",
    "    test_scores.append(test_sc)\n",
    "    train_scores.append(train_sc)\n",
    "    print('Depth = ',i,'Train Score',train_sc,'test Score',test_sc)\n",
    "plt.plot(depths,train_scores,label='Train Score')\n",
    "plt.plot(depths,test_scores,label='Test Score')\n",
    "plt.xlabel('Depth')\n",
    "plt.ylabel('Score')\n",
    "plt.ylim(0.9731,0.9733)\n",
    "plt.title('Depth vs score ')"
   ]
  },
  {
   "cell_type": "code",
   "execution_count": 9,
   "metadata": {},
   "outputs": [
    {
     "name": "stdout",
     "output_type": "stream",
     "text": [
      "min_samples_leaf= 30 min_samples_split= 60 Train Score 0.9738156889595279 test Score 0.97370504280618\n",
      "min_samples_leaf= 30 min_samples_split= 100 Train Score 0.9737577189170793 test Score 0.973658141861029\n",
      "min_samples_leaf= 30 min_samples_split= 125 Train Score 0.9737928509172361 test Score 0.9737455680591954\n",
      "min_samples_leaf= 30 min_samples_split= 150 Train Score 0.9737628940150641 test Score 0.9737056919525169\n",
      "min_samples_leaf= 30 min_samples_split= 180 Train Score 0.973706280130253 test Score 0.9736490120988784\n",
      "min_samples_leaf= 50 min_samples_split= 60 Train Score 0.9733467047234561 test Score 0.9733382151892095\n",
      "min_samples_leaf= 50 min_samples_split= 100 Train Score 0.9733467047234561 test Score 0.9733382151892095\n",
      "min_samples_leaf= 50 min_samples_split= 125 Train Score 0.9732031760503617 test Score 0.9731303287498254\n",
      "min_samples_leaf= 50 min_samples_split= 150 Train Score 0.9733574333569979 test Score 0.973313655680691\n",
      "min_samples_leaf= 50 min_samples_split= 180 Train Score 0.9732949648503695 test Score 0.9732759363537932\n",
      "min_samples_leaf= 70 min_samples_split= 60 Train Score 0.9729749200699397 test Score 0.9729369754539925\n",
      "min_samples_leaf= 70 min_samples_split= 100 Train Score 0.9729749200699397 test Score 0.9729369754539925\n",
      "min_samples_leaf= 70 min_samples_split= 125 Train Score 0.9729749200699397 test Score 0.9729369754539925\n",
      "min_samples_leaf= 70 min_samples_split= 150 Train Score 0.9729295238743813 test Score 0.9728919889742472\n",
      "min_samples_leaf= 70 min_samples_split= 180 Train Score 0.9729744214100003 test Score 0.9729366528638668\n",
      "min_samples_leaf= 90 min_samples_split= 60 Train Score 0.9727584293555744 test Score 0.9727325141513579\n",
      "min_samples_leaf= 90 min_samples_split= 100 Train Score 0.9727584293555744 test Score 0.9727325141513579\n",
      "min_samples_leaf= 90 min_samples_split= 125 Train Score 0.9727584293555744 test Score 0.9727325141513579\n",
      "min_samples_leaf= 90 min_samples_split= 150 Train Score 0.9727584293555744 test Score 0.9727325141513579\n",
      "min_samples_leaf= 90 min_samples_split= 180 Train Score 0.9727584293555744 test Score 0.9727325141513579\n"
     ]
    }
   ],
   "source": [
    "train_scores = []\n",
    "test_scores = []\n",
    "from sklearn.model_selection import ParameterGrid\n",
    "param_grid = {'min_sample_leafs': [30,50,70,90],'min_samples_splits': [60,100,125,150,180]}\n",
    "for i in list(ParameterGrid(param_grid)):\n",
    "    clf = RandomForestClassifier(bootstrap=True, class_weight=None, criterion='gini',\n",
    "            max_depth=60, max_features='auto', max_leaf_nodes=None,\n",
    "            min_impurity_decrease=0.0, min_impurity_split=None,\n",
    "            min_samples_leaf=i['min_sample_leafs'], min_samples_split=i['min_samples_splits'],\n",
    "            min_weight_fraction_leaf=0.0, n_estimators=110, n_jobs=-1,random_state=25,verbose=0,warm_start=False)\n",
    "    clf.fit(X_train,y_train)\n",
    "    train_sc = f1_score(y_train,clf.predict(X_train))\n",
    "    test_sc = f1_score(y_test,clf.predict(X_test))\n",
    "    test_scores.append(test_sc)\n",
    "    train_scores.append(train_sc)\n",
    "    print('min_samples_leaf=',i['min_sample_leafs'],'min_samples_split=',i['min_samples_splits'],'Train Score',train_sc,'test Score',test_sc)"
   ]
  },
  {
   "cell_type": "code",
   "execution_count": 9,
   "metadata": {},
   "outputs": [],
   "source": [
    "from sklearn.metrics import f1_score\n",
    "from sklearn.ensemble import RandomForestClassifier\n",
    "from sklearn.metrics import f1_score\n",
    "from sklearn.model_selection import RandomizedSearchCV\n",
    "from scipy.stats import randint as sp_randint\n",
    "from scipy.stats import uniform\n",
    "param_dist = {\"n_estimators\":sp_randint(105,125),\n",
    "              \"max_depth\": sp_randint(50,75),\n",
    "              \"min_samples_split\": sp_randint(120,190),\n",
    "              \"min_samples_leaf\": sp_randint(25,65)}\n",
    "clf = RandomForestClassifier(random_state=25,n_jobs=-1)\n",
    "rf_random = RandomizedSearchCV(clf, param_distributions=param_dist,\n",
    "                                   n_iter=5,cv=10,scoring='f1',random_state=25)\n",
    "rf_random.fit(X_train,y_train)\n",
    "\n",
    "import pickle\n",
    "pickle.dump(rf_random,open('rf_random_2.p','wb'))"
   ]
  },
  {
   "cell_type": "code",
   "execution_count": 10,
   "metadata": {},
   "outputs": [
    {
     "data": {
      "text/plain": [
       "[mean: 0.97308, std: 0.00012, params: {'max_depth': 54, 'min_samples_leaf': 51, 'min_samples_split': 135, 'n_estimators': 117},\n",
       " mean: 0.97342, std: 0.00017, params: {'max_depth': 68, 'min_samples_leaf': 33, 'min_samples_split': 148, 'n_estimators': 109},\n",
       " mean: 0.97351, std: 0.00018, params: {'max_depth': 70, 'min_samples_leaf': 30, 'min_samples_split': 121, 'n_estimators': 112},\n",
       " mean: 0.97304, std: 0.00019, params: {'max_depth': 53, 'min_samples_leaf': 49, 'min_samples_split': 175, 'n_estimators': 108},\n",
       " mean: 0.97356, std: 0.00018, params: {'max_depth': 70, 'min_samples_leaf': 28, 'min_samples_split': 121, 'n_estimators': 121}]"
      ]
     },
     "execution_count": 10,
     "metadata": {},
     "output_type": "execute_result"
    }
   ],
   "source": [
    "rf_random.grid_scores_"
   ]
  },
  {
   "cell_type": "code",
   "execution_count": 14,
   "metadata": {},
   "outputs": [
    {
     "name": "stdout",
     "output_type": "stream",
     "text": [
      "mean test scores [0.97307626 0.97342125 0.97350956 0.97303721 0.97355554]\n",
      "mean train scores [0.9732093  0.9735835  0.97369909 0.97316352 0.97375194]\n"
     ]
    }
   ],
   "source": [
    "print('mean test scores',rf_random.cv_results_['mean_test_score'])\n",
    "print('mean train scores',rf_random.cv_results_['mean_train_score'])"
   ]
  },
  {
   "cell_type": "code",
   "execution_count": 8,
   "metadata": {},
   "outputs": [],
   "source": [
    "clf_rf = RandomForestClassifier(bootstrap=True, class_weight=None, criterion='gini',\n",
    "            max_depth=70, max_features='auto', max_leaf_nodes=None,\n",
    "            min_impurity_decrease=0.0, min_impurity_split=None,\n",
    "            min_samples_leaf=28, min_samples_split=121,\n",
    "            min_weight_fraction_leaf=0.0, n_estimators=121, n_jobs=-1,random_state=25,verbose=0,warm_start=False)\n",
    "clf_rf.fit(X_train,y_train)\n",
    "import pickle\n",
    "pickle.dump(clf_rf,open('clf_rf.p','wb'))"
   ]
  },
  {
   "cell_type": "code",
   "execution_count": 12,
   "metadata": {},
   "outputs": [],
   "source": [
    "from sklearn.metrics import confusion_matrix\n",
    "def plot_confusion_matrix(test_y, predict_y):\n",
    "    C = confusion_matrix(test_y, predict_y)\n",
    "    \n",
    "    A =(((C.T)/(C.sum(axis=1))).T)\n",
    "    \n",
    "    B =(C/C.sum(axis=0))\n",
    "    plt.figure(figsize=(20,4))\n",
    "    \n",
    "    labels = [0,1]\n",
    "    # representing A in heatmap format\n",
    "    cmap=sns.light_palette(\"blue\")\n",
    "    plt.subplot(1, 3, 1)\n",
    "    sns.heatmap(C, annot=True, cmap=cmap, fmt=\".3f\", xticklabels=labels, yticklabels=labels)\n",
    "    plt.xlabel('Predicted Class')\n",
    "    plt.ylabel('Original Class')\n",
    "    plt.title(\"Confusion matrix\")\n",
    "    \n",
    "    plt.subplot(1, 3, 2)\n",
    "    sns.heatmap(B, annot=True, cmap=cmap, fmt=\".3f\", xticklabels=labels, yticklabels=labels)\n",
    "    plt.xlabel('Predicted Class')\n",
    "    plt.ylabel('Original Class')\n",
    "    plt.title(\"Precision matrix\")\n",
    "    \n",
    "    plt.subplot(1, 3, 3)\n",
    "    # representing B in heatmap format\n",
    "    sns.heatmap(A, annot=True, cmap=cmap, fmt=\".3f\", xticklabels=labels, yticklabels=labels)\n",
    "    plt.xlabel('Predicted Class')\n",
    "    plt.ylabel('Original Class')\n",
    "    plt.title(\"Recall matrix\")\n",
    "    \n",
    "    plt.show()"
   ]
  },
  {
   "cell_type": "code",
   "execution_count": 16,
   "metadata": {},
   "outputs": [
    {
     "name": "stdout",
     "output_type": "stream",
     "text": [
      "Train confusion_matrix\n"
     ]
    },
    {
     "data": {
      "image/png": "[encoded data removed]",
      "text/plain": [
       "<matplotlib.figure.Figure at 0x14923af2a438>"
      ]
     },
     "metadata": {},
     "output_type": "display_data"
    },
    {
     "name": "stdout",
     "output_type": "stream",
     "text": [
      "Test confusion_matrix\n"
     ]
    },
    {
     "data": {
      "image/png": "[encoded data removed]",
      "text/plain": [
       "<matplotlib.figure.Figure at 0x14923ade59e8>"
      ]
     },
     "metadata": {},
     "output_type": "display_data"
    }
   ],
   "source": [
    "print('Train confusion_matrix')\n",
    "plot_confusion_matrix(y_train,clf_rf.predict(X_train))\n",
    "print('Test confusion_matrix')\n",
    "plot_confusion_matrix(y_test,clf_rf.predict(X_test))"
   ]
  },
  {
   "cell_type": "code",
   "execution_count": 23,
   "metadata": {},
   "outputs": [
    {
     "data": {
      "image/png": "[encoded data removed]",
      "text/plain": [
       "<matplotlib.figure.Figure at 0x154dc5f4f518>"
      ]
     },
     "metadata": {},
     "output_type": "display_data"
    }
   ],
   "source": [
    "from sklearn.metrics import roc_curve, auc\n",
    "fpr,tpr,ths = roc_curve(y_test,clf_rf.predict(X_test))\n",
    "auc_sc = auc(fpr, tpr)\n",
    "plt.plot(fpr, tpr, color='navy',label='ROC curve (area = %0.2f)' % auc_sc)\n",
    "plt.xlabel('False Positive Rate')\n",
    "plt.ylabel('True Positive Rate')\n",
    "plt.title('Receiver operating characteristic with test data')\n",
    "plt.legend()\n",
    "plt.show()"
   ]
  },
  {
   "cell_type": "code",
   "execution_count": 36,
   "metadata": {},
   "outputs": [
    {
     "data": {
      "image/png": "[encoded data removed]",
      "text/plain": [
       "<matplotlib.figure.Figure at 0x14923ae5a048>"
      ]
     },
     "metadata": {},
     "output_type": "display_data"
    }
   ],
   "source": [
    "features = X_train.columns\n",
    "importances = clf_rf.feature_importances_\n",
    "indices = (np.argsort(importances))[-15:]\n",
    "plt.figure(figsize=(8,10))\n",
    "plt.title('Feature Importances')\n",
    "plt.barh(range(len(indices)), importances[indices], color='b', align='center')\n",
    "plt.yticks(range(len(indices)), [features[i] for i in indices])\n",
    "plt.xlabel('Relative Importance')\n",
    "plt.show()"
   ]
  },
  {
   "cell_type": "markdown",
   "metadata": {},
   "source": [
    "#### Some other features: "
   ]
  },
  {
   "cell_type": "markdown",
   "metadata": {},
   "source": [
    "#### Weight Features"
   ]
  },
  {
   "cell_type": "markdown",
   "metadata": {},
   "source": [
    "In order to determine the similarity of nodes, an edge weight value was calculated between nodes. Edge weight decreases as the neighbor count goes up. Intuitively, consider one million people following a celebrity on a social network. Chances are most of them never met each other or the celebrity. On the other hand, if a user has 30 contacts in his/her social network, the chances are higher that many of them know each other. credit - Quora"
   ]
  },
  {
   "cell_type": "code",
   "execution_count": 7,
   "metadata": {},
   "outputs": [],
   "source": [
    "#weight for source and destination of each link\n",
    "Weight_in = []\n",
    "Weight_out = []\n",
    "for i in g.nodes():\n",
    "    s1=set(g.predecessors(i))\n",
    "    w_in = 1.0/(np.sqrt(1+len(s1)))\n",
    "    s2=set(g.successors(i))\n",
    "    w_out = 1.0/(np.sqrt(1+len(s2)))\n",
    "    Weight_in.append((i,w_in))\n",
    "    Weight_out.append((i,w_out))"
   ]
  },
  {
   "cell_type": "code",
   "execution_count": 10,
   "metadata": {},
   "outputs": [],
   "source": [
    "#converting as dict to map DataFrame\n",
    "Weight_in_dict = dict(Weight_in)\n",
    "Weight_out_dict = dict(Weight_out)"
   ]
  },
  {
   "cell_type": "code",
   "execution_count": 12,
   "metadata": {},
   "outputs": [],
   "source": [
    "#saving to disk\n",
    "import pickle\n",
    "Weight_in_dict = pickle.load(open('Weight_in_dict.p','rb'))\n",
    "Weight_out_dict = pickle.load(open('Weight_out_dict.p','rb'))"
   ]
  },
  {
   "cell_type": "code",
   "execution_count": 13,
   "metadata": {},
   "outputs": [],
   "source": [
    "#mapping to pandas\n",
    "hdf['Weight_in'] = hdf.Destination.apply(lambda x: Weight_in_dict[x])\n",
    "hdf['Weight_out'] = hdf.Source.apply(lambda x: Weight_out_dict[x])"
   ]
  },
  {
   "cell_type": "code",
   "execution_count": 14,
   "metadata": {},
   "outputs": [],
   "source": [
    "#some features engineerings on tose in and out weigts\n",
    "hdf['Weight_f1'] = hdf.Weight_in + hdf.Weight_out\n",
    "hdf['Weight_f2'] = hdf.Weight_in * hdf.Weight_out\n",
    "hdf['Weight_f3'] = (2*hdf.Weight_in + 1*hdf.Weight_out)\n",
    "hdf['Weight_f4'] = (1*hdf.Weight_in + 2*hdf.Weight_out)"
   ]
  },
  {
   "cell_type": "code",
   "execution_count": 15,
   "metadata": {},
   "outputs": [
    {
     "data": {
      "text/plain": [
       "Index(['Source', 'Destination', 'jaccard_for_followers',\n",
       "       'jaccard_for_followees', 'num_followers_s', 'num_followees_s',\n",
       "       'num_followers_d', 'num_followees_d', 'inter_followers',\n",
       "       'inter_followees', 'adar_index', 'follows_back', 'shortest_path',\n",
       "       'page_rank_s', 'page_rank_d', 'same_comp', 'katz_s', 'katz_d', 'hubs_s',\n",
       "       'hubs_d', 'authorities_s', 'authorities_d', 'svd_u_s_1', 'svd_u_s_2',\n",
       "       'svd_u_s_3', 'svd_u_s_4', 'svd_u_s_5', 'svd_u_s_6', 'svd_v_s_1',\n",
       "       'svd_v_s_2', 'svd_v_s_3', 'svd_v_s_4', 'svd_v_s_5', 'svd_v_s_6',\n",
       "       'svd_u_d_1', 'svd_u_d_2', 'svd_u_d_3', 'svd_u_d_4', 'svd_u_d_5',\n",
       "       'svd_u_d_6', 'svd_v_d_1', 'svd_v_d_2', 'svd_v_d_3', 'svd_v_d_4',\n",
       "       'svd_v_d_5', 'svd_v_d_6', 'Weight_in', 'Weight_out', 'Weight_f1',\n",
       "       'Weight_f2', 'Weight_f3', 'Weight_f4'],\n",
       "      dtype='object')"
      ]
     },
     "execution_count": 15,
     "metadata": {},
     "output_type": "execute_result"
    }
   ],
   "source": [
    "hdf.columns"
   ]
  },
  {
   "cell_type": "markdown",
   "metadata": {},
   "source": [
    "#### Some Other SVD Features:"
   ]
  },
  {
   "cell_type": "code",
   "execution_count": 7,
   "metadata": {},
   "outputs": [],
   "source": [
    "### svd decomposition\n",
    "from sklearn.decomposition import TruncatedSVD\n",
    "svd = TruncatedSVD(n_components=200, n_iter=7, random_state=42)\n",
    "svd_mat = svd.fit_transform(Adj)"
   ]
  },
  {
   "cell_type": "code",
   "execution_count": 8,
   "metadata": {},
   "outputs": [],
   "source": [
    "#nodes list sorted\n",
    "nodes_list = list(g.nodes())\n",
    "nodes_list = sorted(nodes_list)\n",
    "#node and index as key value pairs, i need it because getting index from list is O(n) order\n",
    "# but from dict its O(1)\n",
    "nodes_list_dict = {k:v for v,k in enumerate(nodes_list)}"
   ]
  },
  {
   "cell_type": "code",
   "execution_count": 12,
   "metadata": {},
   "outputs": [],
   "source": [
    "# deleting because of sapce constraint\n",
    "del Adj\n",
    "del g\n",
    "del nodes_list"
   ]
  },
  {
   "cell_type": "code",
   "execution_count": 13,
   "metadata": {},
   "outputs": [],
   "source": [
    "import pickle\n",
    "pickle.dump(svd_mat,open('svd_map.p','wb'))\n",
    "pickle.dump(nodes_list_dict,open('nodes_list_dict.p','wb'))"
   ]
  },
  {
   "cell_type": "code",
   "execution_count": 5,
   "metadata": {},
   "outputs": [],
   "source": [
    "import pickle\n",
    "svd_mat = pickle.load(open('svd_map.p','rb'))\n",
    "nodes_list_dict = pickle.load(open('nodes_list_dict.p','rb'))"
   ]
  },
  {
   "cell_type": "code",
   "execution_count": 8,
   "metadata": {},
   "outputs": [
    {
     "name": "stderr",
     "output_type": "stream",
     "text": [
      "100%|██████████| 18875038/18875038 [19:26<00:00, 16183.87it/s]\n"
     ]
    }
   ],
   "source": [
    "### SVD dot product of source and destination vectores\n",
    "### SVD mean of source and destination vector\n",
    "from tqdm import tqdm\n",
    "svd_dot = []\n",
    "svd_mean_dest = []\n",
    "svd_mean_source = []\n",
    "for idx,temp_series in tqdm(hdf.iterrows(),total=hdf.shape[0]):\n",
    "    in_idx = nodes_list_dict[temp_series.Destination]\n",
    "    out_idx = nodes_list_dict[temp_series.Source]\n",
    "    svd_temp = np.dot(svd_mat[in_idx,:],svd_mat[out_idx,:])\n",
    "    svd_dot.append(svd_temp)\n",
    "    svd_mean_dest.append(np.squeeze(np.mean(svd_mat[in_idx,:])))\n",
    "    svd_mean_source.append(np.squeeze(np.mean(svd_mat[out_idx,:])))"
   ]
  },
  {
   "cell_type": "code",
   "execution_count": 9,
   "metadata": {},
   "outputs": [],
   "source": [
    "import pickle\n",
    "pickle.dump(svd_dot,open('svd_dot.p','wb'))\n",
    "pickle.dump(svd_mean_source,open('svd_mean_source.p','wb'))\n",
    "pickle.dump(svd_mean_dest,open('svd_mean_dest.p','wb'))"
   ]
  },
  {
   "cell_type": "code",
   "execution_count": 16,
   "metadata": {},
   "outputs": [],
   "source": [
    "###mappng above features into \n",
    "hdf['svd_dot'] = svd_dot\n",
    "hdf['svd_mean_s'] = svd_mean_source\n",
    "hdf['svd_mean_d'] = svd_mean_dest\n",
    "hdf['log_svd_sd'] = np.log(svd_mean_source) + np.log(svd_mean_dest)"
   ]
  },
  {
   "cell_type": "code",
   "execution_count": 21,
   "metadata": {},
   "outputs": [],
   "source": [
    "from pandas import HDFStore,DataFrame\n",
    "hdf2 = HDFStore('storage_all_features.h5')"
   ]
  },
  {
   "cell_type": "code",
   "execution_count": 22,
   "metadata": {},
   "outputs": [],
   "source": [
    "#saving to disk \n",
    "hdf2.put('df1',hdf, format='table', data_columns=True)"
   ]
  },
  {
   "cell_type": "code",
   "execution_count": 23,
   "metadata": {},
   "outputs": [],
   "source": [
    "hdf2.close()"
   ]
  },
  {
   "cell_type": "code",
   "execution_count": 2,
   "metadata": {},
   "outputs": [],
   "source": [
    "## reading and deleting some columns\n",
    "from pandas import read_hdf\n",
    "hdf = read_hdf('storage_all_features.h5', 'df1',mode='r')\n",
    "hdf.drop(['Source','Destination','log_svd_sd'],axis=1,inplace=True)"
   ]
  },
  {
   "cell_type": "code",
   "execution_count": 4,
   "metadata": {},
   "outputs": [],
   "source": [
    "from sklearn.ensemble import RandomForestClassifier\n",
    "from sklearn.metrics import f1_score\n",
    "from sklearn.model_selection import train_test_split\n",
    "X_train, X_test, y_train, y_test = train_test_split(hdf,listofones,stratify=listofones,test_size=0.10,random_state=13)"
   ]
  },
  {
   "cell_type": "code",
   "execution_count": 5,
   "metadata": {},
   "outputs": [],
   "source": [
    "from scipy.stats import randint as sp_randint\n",
    "from scipy.stats import uniform\n",
    "param_dist = {\"n_estimators\":sp_randint(105,135),\n",
    "              \"max_depth\": sp_randint(50,75),\n",
    "              \"min_samples_split\": sp_randint(120,190),\n",
    "              \"min_samples_leaf\": sp_randint(25,65)}\n",
    "clf = RandomForestClassifier(max_features=11,random_state=25,n_jobs=-1)\n",
    "rf_random = RandomizedSearchCV(clf, param_distributions=param_dist,\n",
    "                                   n_iter=6,cv=10,scoring='f1',random_state=25)\n",
    "rf_random.fit(X_train,y_train)\n",
    "\n",
    "pickle.dump(rf_random,open('rf_random_final.p','wb'))"
   ]
  },
  {
   "cell_type": "code",
   "execution_count": 6,
   "metadata": {},
   "outputs": [
    {
     "data": {
      "text/plain": [
       "[mean: 0.97631, std: 0.00013, params: {'max_depth': 54, 'min_samples_leaf': 51, 'min_samples_split': 135, 'n_estimators': 134},\n",
       " mean: 0.97629, std: 0.00013, params: {'max_depth': 72, 'min_samples_leaf': 48, 'min_samples_split': 164, 'n_estimators': 123},\n",
       " mean: 0.97631, std: 0.00012, params: {'max_depth': 58, 'min_samples_leaf': 53, 'min_samples_split': 124, 'n_estimators': 130},\n",
       " mean: 0.97671, std: 0.00014, params: {'max_depth': 70, 'min_samples_leaf': 30, 'min_samples_split': 121, 'n_estimators': 112},\n",
       " mean: 0.97624, std: 0.00013, params: {'max_depth': 53, 'min_samples_leaf': 49, 'min_samples_split': 175, 'n_estimators': 108},\n",
       " mean: 0.97676, std: 0.00013, params: {'max_depth': 70, 'min_samples_leaf': 28, 'min_samples_split': 121, 'n_estimators': 127}]"
      ]
     },
     "execution_count": 6,
     "metadata": {},
     "output_type": "execute_result"
    }
   ],
   "source": [
    "clf_random.grid_scores_"
   ]
  },
  {
   "cell_type": "code",
   "execution_count": 7,
   "metadata": {},
   "outputs": [
    {
     "name": "stdout",
     "output_type": "stream",
     "text": [
      "mean test scores [0.9763108  0.97628636 0.97630894 0.97671344 0.97624188 0.97675791]\n",
      "mean train scores [0.97689315 0.9768383  0.97689703 0.97746001 0.97676634 0.97751521]\n"
     ]
    }
   ],
   "source": [
    "print('mean test scores',clf_random.cv_results_['mean_test_score'])\n",
    "print('mean train scores',clf_random.cv_results_['mean_train_score'])"
   ]
  },
  {
   "cell_type": "code",
   "execution_count": 6,
   "metadata": {},
   "outputs": [
    {
     "data": {
      "text/plain": [
       "RandomForestClassifier(bootstrap=True, class_weight=None, criterion='gini',\n",
       "            max_depth=70, max_features=11, max_leaf_nodes=None,\n",
       "            min_impurity_decrease=0.0, min_impurity_split=None,\n",
       "            min_samples_leaf=28, min_samples_split=121,\n",
       "            min_weight_fraction_leaf=0.0, n_estimators=127, n_jobs=-1,\n",
       "            oob_score=False, random_state=25, verbose=0, warm_start=False)"
      ]
     },
     "execution_count": 6,
     "metadata": {},
     "output_type": "execute_result"
    }
   ],
   "source": [
    "clf_final = RandomForestClassifier(bootstrap=True, class_weight=None, criterion='gini',\n",
    "            max_depth=70, max_features=11, max_leaf_nodes=None,\n",
    "            min_impurity_decrease=0.0, min_impurity_split=None,\n",
    "            min_samples_leaf=28, min_samples_split=121,\n",
    "            min_weight_fraction_leaf=0.0, n_estimators=127, n_jobs=-1,random_state=25,verbose=0,warm_start=False)\n",
    "clf_final.fit(X_train,y_train)\n",
    "clf_final"
   ]
  },
  {
   "cell_type": "code",
   "execution_count": 7,
   "metadata": {},
   "outputs": [],
   "source": [
    "y_pred_train = clf_final.predict(X_train)\n",
    "y_pred_test = clf_final.predict(X_test)"
   ]
  },
  {
   "cell_type": "code",
   "execution_count": 9,
   "metadata": {},
   "outputs": [
    {
     "name": "stdout",
     "output_type": "stream",
     "text": [
      "Train f1 score 0.9775433278866003\n",
      "Test f1 score 0.9768795144676669\n"
     ]
    }
   ],
   "source": [
    "print('Train f1 score',f1_score(y_train,y_pred_train))\n",
    "print('Test f1 score',f1_score(y_test,y_pred_test))"
   ]
  },
  {
   "cell_type": "code",
   "execution_count": 13,
   "metadata": {},
   "outputs": [
    {
     "name": "stdout",
     "output_type": "stream",
     "text": [
      "Train confusion_matrix\n"
     ]
    },
    {
     "data": {
      "image/png": "[encoded data removed]",
      "text/plain": [
       "<matplotlib.figure.Figure at 0x1513a4fdd908>"
      ]
     },
     "metadata": {},
     "output_type": "display_data"
    },
    {
     "name": "stdout",
     "output_type": "stream",
     "text": [
      "Test confusion_matrix\n"
     ]
    },
    {
     "data": {
      "image/png": "[encoded data removed]",
      "text/plain": [
       "<matplotlib.figure.Figure at 0x15171851f748>"
      ]
     },
     "metadata": {},
     "output_type": "display_data"
    }
   ],
   "source": [
    "print('Train confusion_matrix')\n",
    "plot_confusion_matrix(y_train,y_pred_train)\n",
    "print('Test confusion_matrix')\n",
    "plot_confusion_matrix(y_test,y_pred_test)"
   ]
  },
  {
   "cell_type": "code",
   "execution_count": 15,
   "metadata": {},
   "outputs": [
    {
     "data": {
      "image/png": "[encoded data removed]",
      "text/plain": [
       "<matplotlib.figure.Figure at 0x151718605b38>"
      ]
     },
     "metadata": {},
     "output_type": "display_data"
    }
   ],
   "source": [
    "from sklearn.metrics import roc_curve, auc\n",
    "fpr,tpr,ths = roc_curve(y_test,y_pred_test)\n",
    "auc_sc = auc(fpr, tpr)\n",
    "plt.plot(fpr, tpr, color='navy',label='ROC curve (area = %0.2f)' % auc_sc)\n",
    "plt.xlabel('False Positive Rate')\n",
    "plt.ylabel('True Positive Rate')\n",
    "plt.title('Receiver operating characteristic with test data')\n",
    "plt.legend()\n",
    "plt.show()"
   ]
  },
  {
   "cell_type": "code",
   "execution_count": 19,
   "metadata": {},
   "outputs": [
    {
     "data": {
      "image/png": "[encoded data removed]",
      "text/plain": [
       "<matplotlib.figure.Figure at 0x1517185955c0>"
      ]
     },
     "metadata": {},
     "output_type": "display_data"
    }
   ],
   "source": [
    "features = X_train.columns\n",
    "importances = clf_final.feature_importances_\n",
    "indices = (np.argsort(importances))[-25:]\n",
    "plt.figure(figsize=(10,12))\n",
    "plt.title('Feature Importances')\n",
    "plt.barh(range(len(indices)), importances[indices], color='r', align='center')\n",
    "plt.yticks(range(len(indices)), [features[i] for i in indices])\n",
    "plt.xlabel('Relative Importance')\n",
    "plt.show()"
   ]
  },
  {
   "cell_type": "markdown",
   "metadata": {},
   "source": [
    "improved some score and we can observe that Weight features and svd dot produts is somewhat better features than so many features. "
   ]
  },
  {
   "cell_type": "code",
   "execution_count": 18,
   "metadata": {},
   "outputs": [
    {
     "data": {
      "text/html": [
       "<div>\n",
       "<style scoped>\n",
       "    .dataframe tbody tr th:only-of-type {\n",
       "        vertical-align: middle;\n",
       "    }\n",
       "\n",
       "    .dataframe tbody tr th {\n",
       "        vertical-align: top;\n",
       "    }\n",
       "\n",
       "    .dataframe thead th {\n",
       "        text-align: right;\n",
       "    }\n",
       "</style>\n",
       "<table border=\"1\" class=\"dataframe\">\n",
       "  <thead>\n",
       "    <tr style=\"text-align: right;\">\n",
       "      <th></th>\n",
       "      <th>importance</th>\n",
       "    </tr>\n",
       "  </thead>\n",
       "  <tbody>\n",
       "    <tr>\n",
       "      <th>follows_back</th>\n",
       "      <td>0.328643</td>\n",
       "    </tr>\n",
       "    <tr>\n",
       "      <th>inter_followers</th>\n",
       "      <td>0.103482</td>\n",
       "    </tr>\n",
       "    <tr>\n",
       "      <th>jaccard_for_followers</th>\n",
       "      <td>0.090029</td>\n",
       "    </tr>\n",
       "    <tr>\n",
       "      <th>adar_index</th>\n",
       "      <td>0.077946</td>\n",
       "    </tr>\n",
       "    <tr>\n",
       "      <th>shortest_path</th>\n",
       "      <td>0.073936</td>\n",
       "    </tr>\n",
       "    <tr>\n",
       "      <th>inter_followees</th>\n",
       "      <td>0.059496</td>\n",
       "    </tr>\n",
       "    <tr>\n",
       "      <th>jaccard_for_followees</th>\n",
       "      <td>0.055198</td>\n",
       "    </tr>\n",
       "    <tr>\n",
       "      <th>Weight_f1</th>\n",
       "      <td>0.038678</td>\n",
       "    </tr>\n",
       "    <tr>\n",
       "      <th>Weight_f2</th>\n",
       "      <td>0.029778</td>\n",
       "    </tr>\n",
       "    <tr>\n",
       "      <th>Weight_f4</th>\n",
       "      <td>0.025750</td>\n",
       "    </tr>\n",
       "    <tr>\n",
       "      <th>Weight_f3</th>\n",
       "      <td>0.023308</td>\n",
       "    </tr>\n",
       "    <tr>\n",
       "      <th>same_comp</th>\n",
       "      <td>0.019615</td>\n",
       "    </tr>\n",
       "    <tr>\n",
       "      <th>num_followees_d</th>\n",
       "      <td>0.014875</td>\n",
       "    </tr>\n",
       "    <tr>\n",
       "      <th>svd_dot</th>\n",
       "      <td>0.010756</td>\n",
       "    </tr>\n",
       "    <tr>\n",
       "      <th>page_rank_d</th>\n",
       "      <td>0.007481</td>\n",
       "    </tr>\n",
       "    <tr>\n",
       "      <th>num_followers_s</th>\n",
       "      <td>0.005751</td>\n",
       "    </tr>\n",
       "    <tr>\n",
       "      <th>Weight_out</th>\n",
       "      <td>0.005657</td>\n",
       "    </tr>\n",
       "    <tr>\n",
       "      <th>katz_s</th>\n",
       "      <td>0.005565</td>\n",
       "    </tr>\n",
       "    <tr>\n",
       "      <th>num_followees_s</th>\n",
       "      <td>0.005110</td>\n",
       "    </tr>\n",
       "    <tr>\n",
       "      <th>Weight_in</th>\n",
       "      <td>0.003990</td>\n",
       "    </tr>\n",
       "    <tr>\n",
       "      <th>svd_mean_d</th>\n",
       "      <td>0.002942</td>\n",
       "    </tr>\n",
       "    <tr>\n",
       "      <th>svd_mean_s</th>\n",
       "      <td>0.002532</td>\n",
       "    </tr>\n",
       "    <tr>\n",
       "      <th>num_followers_d</th>\n",
       "      <td>0.002524</td>\n",
       "    </tr>\n",
       "    <tr>\n",
       "      <th>katz_d</th>\n",
       "      <td>0.001633</td>\n",
       "    </tr>\n",
       "    <tr>\n",
       "      <th>svd_u_d_3</th>\n",
       "      <td>0.001161</td>\n",
       "    </tr>\n",
       "    <tr>\n",
       "      <th>svd_v_d_3</th>\n",
       "      <td>0.001138</td>\n",
       "    </tr>\n",
       "    <tr>\n",
       "      <th>svd_u_s_3</th>\n",
       "      <td>0.001052</td>\n",
       "    </tr>\n",
       "    <tr>\n",
       "      <th>svd_v_s_3</th>\n",
       "      <td>0.001019</td>\n",
       "    </tr>\n",
       "    <tr>\n",
       "      <th>page_rank_s</th>\n",
       "      <td>0.000272</td>\n",
       "    </tr>\n",
       "    <tr>\n",
       "      <th>svd_u_s_6</th>\n",
       "      <td>0.000167</td>\n",
       "    </tr>\n",
       "    <tr>\n",
       "      <th>svd_v_d_6</th>\n",
       "      <td>0.000159</td>\n",
       "    </tr>\n",
       "    <tr>\n",
       "      <th>svd_v_s_6</th>\n",
       "      <td>0.000135</td>\n",
       "    </tr>\n",
       "    <tr>\n",
       "      <th>svd_u_d_6</th>\n",
       "      <td>0.000059</td>\n",
       "    </tr>\n",
       "    <tr>\n",
       "      <th>svd_v_d_2</th>\n",
       "      <td>0.000054</td>\n",
       "    </tr>\n",
       "    <tr>\n",
       "      <th>svd_v_s_2</th>\n",
       "      <td>0.000047</td>\n",
       "    </tr>\n",
       "    <tr>\n",
       "      <th>svd_u_s_2</th>\n",
       "      <td>0.000027</td>\n",
       "    </tr>\n",
       "    <tr>\n",
       "      <th>svd_u_d_2</th>\n",
       "      <td>0.000022</td>\n",
       "    </tr>\n",
       "    <tr>\n",
       "      <th>hubs_s</th>\n",
       "      <td>0.000006</td>\n",
       "    </tr>\n",
       "    <tr>\n",
       "      <th>authorities_s</th>\n",
       "      <td>0.000004</td>\n",
       "    </tr>\n",
       "    <tr>\n",
       "      <th>authorities_d</th>\n",
       "      <td>0.000004</td>\n",
       "    </tr>\n",
       "    <tr>\n",
       "      <th>hubs_d</th>\n",
       "      <td>0.000002</td>\n",
       "    </tr>\n",
       "  </tbody>\n",
       "</table>\n",
       "</div>"
      ],
      "text/plain": [
       "                       importance\n",
       "follows_back             0.328643\n",
       "inter_followers          0.103482\n",
       "jaccard_for_followers    0.090029\n",
       "adar_index               0.077946\n",
       "shortest_path            0.073936\n",
       "inter_followees          0.059496\n",
       "jaccard_for_followees    0.055198\n",
       "Weight_f1                0.038678\n",
       "Weight_f2                0.029778\n",
       "Weight_f4                0.025750\n",
       "Weight_f3                0.023308\n",
       "same_comp                0.019615\n",
       "num_followees_d          0.014875\n",
       "svd_dot                  0.010756\n",
       "page_rank_d              0.007481\n",
       "num_followers_s          0.005751\n",
       "Weight_out               0.005657\n",
       "katz_s                   0.005565\n",
       "num_followees_s          0.005110\n",
       "Weight_in                0.003990\n",
       "svd_mean_d               0.002942\n",
       "svd_mean_s               0.002532\n",
       "num_followers_d          0.002524\n",
       "katz_d                   0.001633\n",
       "svd_u_d_3                0.001161\n",
       "svd_v_d_3                0.001138\n",
       "svd_u_s_3                0.001052\n",
       "svd_v_s_3                0.001019\n",
       "page_rank_s              0.000272\n",
       "svd_u_s_6                0.000167\n",
       "svd_v_d_6                0.000159\n",
       "svd_v_s_6                0.000135\n",
       "svd_u_d_6                0.000059\n",
       "svd_v_d_2                0.000054\n",
       "svd_v_s_2                0.000047\n",
       "svd_u_s_2                0.000027\n",
       "svd_u_d_2                0.000022\n",
       "hubs_s                   0.000006\n",
       "authorities_s            0.000004\n",
       "authorities_d            0.000004\n",
       "hubs_d                   0.000002"
      ]
     },
     "execution_count": 18,
     "metadata": {},
     "output_type": "execute_result"
    }
   ],
   "source": [
    "feature_importances = pd.DataFrame(clf_final.feature_importances_,index = X_train.columns,\n",
    "                                   columns=['importance']).sort_values('importance',ascending=False)\n",
    "feature_importances"
   ]
  },
  {
   "cell_type": "code",
   "execution_count": null,
   "metadata": {},
   "outputs": [],
   "source": []
  }
 ],
 "metadata": {
  "kernelspec": {
   "display_name": "Python 3",
   "language": "python",
   "name": "python3"
  },
  "language_info": {
   "codemirror_mode": {
    "name": "ipython",
    "version": 3
   },
   "file_extension": ".py",
   "mimetype": "text/x-python",
   "name": "python",
   "nbconvert_exporter": "python",
   "pygments_lexer": "ipython3",
   "version": "3.6.4"
  }
 },
 "nbformat": 4,
 "nbformat_minor": 2
}
